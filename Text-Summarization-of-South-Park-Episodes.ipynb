{
  "cells": [
    {
      "cell_type": "markdown",
      "metadata": {
        "id": "view-in-github",
        "colab_type": "text"
      },
      "source": [
        "<a href=\"https://colab.research.google.com/github/trabbitt90/Text-Summarizer-of-South-Park-Episodes/blob/main/Text-Summarization-of-South-Park-Episodes.ipynb\" target=\"_parent\"><img src=\"https://colab.research.google.com/assets/colab-badge.svg\" alt=\"Open In Colab\"/></a>"
      ]
    },
    {
      "cell_type": "markdown",
      "source": [
        "# Extractive and Abstractive Text Summarization of South Park Episodes "
      ],
      "metadata": {
        "id": "sTrvEuro8nvJ"
      }
    },
    {
      "cell_type": "markdown",
      "source": [
        "## Overview\n",
        "\n",
        "Text summarization can be a very powerful tool to quickly understand the important information contained in a provided text. Today, using Deep Learning, we are able to use models that do just that. Whether it be for medical documents, CNN news articles, or or even whole books text summarization can provide an overview of the text that can save time and resources. For my capstone project, I wanted to test some Text Summarization models on South Park episodes with the goal of providing a summary of what happens in the episode.\n"
      ],
      "metadata": {
        "id": "wAGPOMR589dY"
      }
    },
    {
      "cell_type": "markdown",
      "source": [],
      "metadata": {
        "id": "y9MkDXhB_74i"
      }
    },
    {
      "cell_type": "markdown",
      "metadata": {
        "id": "619e7Y3uCAZ_"
      },
      "source": [
        "## Data\n",
        "For this project we utilized the South Park Scripts Dataset from Kaggle. This data set has two files. One contains episode names, air date, season, episode number, and description of episode. While the other includes episode name, character and each characters lines. This is a large collection of text with over 300 episodes and 95000 lines. More detailed information on each dataset and their features are listed below:\n",
        "\n",
        "### Episodes \n",
        "* `Title`- Title of the episode\n",
        "* `Air Date`- Air date of the episode\n",
        "* `Code`- Code for episode, it represents season and episode\n",
        "* `#`- Episode number (all time)\n",
        "* `Description`- General description for episode\n",
        "* `Season`- Episode's season\n",
        "* `Episode`- Episode number in season\n",
        "\n",
        "### Lines\n",
        "* `Title`- Title of the episode\n",
        "* `Character`- Character\n",
        "* `Line`- What the character said\n",
        "\n",
        "For more information on the datasets and the sources behind them please visit the [South Park Scripts Dataset](https://www.kaggle.com/datasets/mustafacicek/south-park-scripts-dataset?select=SouthPark_Lines.csv) on the Kaggle website."
      ]
    },
    {
      "cell_type": "code",
      "execution_count": 1,
      "metadata": {
        "id": "JsVdNtRtebPr"
      },
      "outputs": [],
      "source": [
        "import tensorflow as tf\n",
        "\n",
        "logger = tf.get_logger()\n",
        "\n",
        "\n",
        "class AttentionLayer(tf.keras.layers.Layer):\n",
        "    \"\"\"\n",
        "    This class implements Bahdanau attention (https://arxiv.org/pdf/1409.0473.pdf).\n",
        "    There are three sets of weights introduced W_a, U_a, and V_a\n",
        "     \"\"\"\n",
        "\n",
        "    def __init__(self, **kwargs):\n",
        "        super(AttentionLayer, self).__init__(**kwargs)\n",
        "\n",
        "    def build(self, input_shape):\n",
        "        assert isinstance(input_shape, list)\n",
        "        # Create a trainable weight variable for this layer.\n",
        "\n",
        "        self.W_a = self.add_weight(name='W_a',\n",
        "                                   shape=tf.TensorShape((input_shape[0][2], input_shape[0][2])),\n",
        "                                   initializer='uniform',\n",
        "                                   trainable=True)\n",
        "        self.U_a = self.add_weight(name='U_a',\n",
        "                                   shape=tf.TensorShape((input_shape[1][2], input_shape[0][2])),\n",
        "                                   initializer='uniform',\n",
        "                                   trainable=True)\n",
        "        self.V_a = self.add_weight(name='V_a',\n",
        "                                   shape=tf.TensorShape((input_shape[0][2], 1)),\n",
        "                                   initializer='uniform',\n",
        "                                   trainable=True)\n",
        "\n",
        "        super(AttentionLayer, self).build(input_shape)  # Be sure to call this at the end\n",
        "\n",
        "    def call(self, inputs):\n",
        "        \"\"\"\n",
        "        inputs: [encoder_output_sequence, decoder_output_sequence]\n",
        "        \"\"\"\n",
        "        assert type(inputs) == list\n",
        "        encoder_out_seq, decoder_out_seq = inputs\n",
        "\n",
        "        logger.debug(f\"encoder_out_seq.shape = {encoder_out_seq.shape}\")\n",
        "        logger.debug(f\"decoder_out_seq.shape = {decoder_out_seq.shape}\")\n",
        "\n",
        "        def energy_step(inputs, states):\n",
        "            \"\"\" Step function for computing energy for a single decoder state\n",
        "            inputs: (batchsize * 1 * de_in_dim)\n",
        "            states: (batchsize * 1 * de_latent_dim)\n",
        "            \"\"\"\n",
        "\n",
        "            logger.debug(\"Running energy computation step\")\n",
        "\n",
        "            if not isinstance(states, (list, tuple)):\n",
        "                raise TypeError(f\"States must be an iterable. Got {states} of type {type(states)}\")\n",
        "\n",
        "            encoder_full_seq = states[-1]\n",
        "\n",
        "            \"\"\" Computing S.Wa where S=[s0, s1, ..., si]\"\"\"\n",
        "            # <= batch size * en_seq_len * latent_dim\n",
        "            W_a_dot_s = K.dot(encoder_full_seq, self.W_a)\n",
        "\n",
        "            \"\"\" Computing hj.Ua \"\"\"\n",
        "            U_a_dot_h = K.expand_dims(K.dot(inputs, self.U_a), 1)  # <= batch_size, 1, latent_dim\n",
        "\n",
        "            logger.debug(f\"U_a_dot_h.shape = {U_a_dot_h.shape}\")\n",
        "\n",
        "            \"\"\" tanh(S.Wa + hj.Ua) \"\"\"\n",
        "            # <= batch_size*en_seq_len, latent_dim\n",
        "            Ws_plus_Uh = K.tanh(W_a_dot_s + U_a_dot_h)\n",
        "\n",
        "            logger.debug(f\"Ws_plus_Uh.shape = {Ws_plus_Uh.shape}\")\n",
        "\n",
        "            \"\"\" softmax(va.tanh(S.Wa + hj.Ua)) \"\"\"\n",
        "            # <= batch_size, en_seq_len\n",
        "            e_i = K.squeeze(K.dot(Ws_plus_Uh, self.V_a), axis=-1)\n",
        "            # <= batch_size, en_seq_len\n",
        "            e_i = K.softmax(e_i)\n",
        "\n",
        "            logger.debug(f\"ei.shape = {e_i.shape}\")\n",
        "\n",
        "            return e_i, [e_i]\n",
        "\n",
        "        def context_step(inputs, states):\n",
        "            \"\"\" Step function for computing ci using ei \"\"\"\n",
        "\n",
        "            logger.debug(\"Running attention vector computation step\")\n",
        "\n",
        "            if not isinstance(states, (list, tuple)):\n",
        "                raise TypeError(f\"States must be an iterable. Got {states} of type {type(states)}\")\n",
        "\n",
        "            encoder_full_seq = states[-1]\n",
        "\n",
        "            # <= batch_size, hidden_size\n",
        "            c_i = K.sum(encoder_full_seq * K.expand_dims(inputs, -1), axis=1)\n",
        "\n",
        "            logger.debug(f\"ci.shape = {c_i.shape}\")\n",
        "\n",
        "            return c_i, [c_i]\n",
        "\n",
        "        # we don't maintain states between steps when computing attention\n",
        "        # attention is stateless, so we're passing a fake state for RNN step function\n",
        "        fake_state_c = K.sum(encoder_out_seq, axis=1)\n",
        "        fake_state_e = K.sum(encoder_out_seq, axis=2)  # <= (batch_size, enc_seq_len, latent_dim\n",
        "\n",
        "        \"\"\" Computing energy outputs \"\"\"\n",
        "        # e_outputs => (batch_size, de_seq_len, en_seq_len)\n",
        "        last_out, e_outputs, _ = K.rnn(\n",
        "            energy_step, decoder_out_seq, [fake_state_e], constants=[encoder_out_seq]\n",
        "        )\n",
        "\n",
        "        \"\"\" Computing context vectors \"\"\"\n",
        "        last_out, c_outputs, _ = K.rnn(\n",
        "            context_step, e_outputs, [fake_state_c], constants=[encoder_out_seq]\n",
        "        )\n",
        "\n",
        "        return c_outputs, e_outputs\n",
        "\n",
        "    def compute_output_shape(self, input_shape):\n",
        "        \"\"\" Outputs produced by the layer \"\"\"\n",
        "        return [\n",
        "            tf.TensorShape((input_shape[1][0], input_shape[1][1], input_shape[1][2])),\n",
        "            tf.TensorShape((input_shape[1][0], input_shape[1][1], input_shape[0][1]))\n",
        "        ]"
      ]
    },
    {
      "cell_type": "markdown",
      "source": [
        "## Data Preprocessing"
      ],
      "metadata": {
        "id": "iaU5bdzsnbFd"
      }
    },
    {
      "cell_type": "code",
      "execution_count": 2,
      "metadata": {
        "id": "4ZPNt7fqCAaC"
      },
      "outputs": [],
      "source": [
        "# Importing necessary libraries\n",
        "import seaborn as sns\n",
        "import matplotlib.pyplot as plt\n",
        "import numpy as np\n",
        "import pandas as pd \n",
        "import re\n",
        "from bs4 import BeautifulSoup\n",
        "from keras.preprocessing.text import Tokenizer \n",
        "from nltk.corpus import stopwords\n",
        "from tensorflow.keras.layers import Input, LSTM, Embedding, Dense, Concatenate, TimeDistributed, Attention\n",
        "from tensorflow.keras.models import Model\n",
        "from tensorflow.keras import callbacks, models, layers, preprocessing as kprocessing \n",
        "from tensorflow.keras.callbacks import EarlyStopping\n",
        "import warnings\n",
        "pd.set_option(\"display.max_colwidth\", 200)\n",
        "warnings.filterwarnings(\"ignore\")"
      ]
    },
    {
      "cell_type": "code",
      "execution_count": 3,
      "metadata": {
        "colab": {
          "base_uri": "https://localhost:8080/",
          "height": 337
        },
        "id": "HVi6OiwYCAaD",
        "outputId": "e368c136-d154-456a-f985-953f13703dd3"
      },
      "outputs": [
        {
          "output_type": "execute_result",
          "data": {
            "text/plain": [
              "                             Title            Air Date  Code  #  \\\n",
              "0       Cartman Gets an Anal Probe     August 13, 1997   101  1   \n",
              "1                 Weight Gain 4000     August 20, 1997   102  2   \n",
              "2                          Volcano     August 27, 1997   103  3   \n",
              "3   Big Gay Al's Big Gay Boat Ride   September 3, 1997   104  4   \n",
              "4  An Elephant Makes Love to a Pig  September 10, 1997   105  5   \n",
              "\n",
              "                                                                                                                                                 Description  \\\n",
              "0                      While the boys are waiting for the school bus, Cartman explains the odd nightmare he had the previous night involving alien visitors.   \n",
              "1            When Cartman's environmental essay wins a national contest, America's sweetheart, Kathie Lee Gifford, comes to South Park to present the award.   \n",
              "2                 A weekend trip to experience the finer points of camping, fishing and blowing animals to smithereens is threatened by an erupting volcano.   \n",
              "3    When Stan discovers his new dog Sparky is gay, he becomes so confused he loses his will to play in the big Homecoming Football game against North Park.   \n",
              "4  Kyle's mom won't let him keep his new pet, an elephant because it's so huge. So the boys turn to Dr. Mephesto to genetically engineer a smaller elephant.   \n",
              "\n",
              "   Season  Episode  \n",
              "0       1        1  \n",
              "1       1        2  \n",
              "2       1        3  \n",
              "3       1        4  \n",
              "4       1        5  "
            ],
            "text/html": [
              "\n",
              "  <div id=\"df-ff1db2a0-1d35-40d9-b50c-a25ab25f3826\">\n",
              "    <div class=\"colab-df-container\">\n",
              "      <div>\n",
              "<style scoped>\n",
              "    .dataframe tbody tr th:only-of-type {\n",
              "        vertical-align: middle;\n",
              "    }\n",
              "\n",
              "    .dataframe tbody tr th {\n",
              "        vertical-align: top;\n",
              "    }\n",
              "\n",
              "    .dataframe thead th {\n",
              "        text-align: right;\n",
              "    }\n",
              "</style>\n",
              "<table border=\"1\" class=\"dataframe\">\n",
              "  <thead>\n",
              "    <tr style=\"text-align: right;\">\n",
              "      <th></th>\n",
              "      <th>Title</th>\n",
              "      <th>Air Date</th>\n",
              "      <th>Code</th>\n",
              "      <th>#</th>\n",
              "      <th>Description</th>\n",
              "      <th>Season</th>\n",
              "      <th>Episode</th>\n",
              "    </tr>\n",
              "  </thead>\n",
              "  <tbody>\n",
              "    <tr>\n",
              "      <th>0</th>\n",
              "      <td>Cartman Gets an Anal Probe</td>\n",
              "      <td>August 13, 1997</td>\n",
              "      <td>101</td>\n",
              "      <td>1</td>\n",
              "      <td>While the boys are waiting for the school bus, Cartman explains the odd nightmare he had the previous night involving alien visitors.</td>\n",
              "      <td>1</td>\n",
              "      <td>1</td>\n",
              "    </tr>\n",
              "    <tr>\n",
              "      <th>1</th>\n",
              "      <td>Weight Gain 4000</td>\n",
              "      <td>August 20, 1997</td>\n",
              "      <td>102</td>\n",
              "      <td>2</td>\n",
              "      <td>When Cartman's environmental essay wins a national contest, America's sweetheart, Kathie Lee Gifford, comes to South Park to present the award.</td>\n",
              "      <td>1</td>\n",
              "      <td>2</td>\n",
              "    </tr>\n",
              "    <tr>\n",
              "      <th>2</th>\n",
              "      <td>Volcano</td>\n",
              "      <td>August 27, 1997</td>\n",
              "      <td>103</td>\n",
              "      <td>3</td>\n",
              "      <td>A weekend trip to experience the finer points of camping, fishing and blowing animals to smithereens is threatened by an erupting volcano.</td>\n",
              "      <td>1</td>\n",
              "      <td>3</td>\n",
              "    </tr>\n",
              "    <tr>\n",
              "      <th>3</th>\n",
              "      <td>Big Gay Al's Big Gay Boat Ride</td>\n",
              "      <td>September 3, 1997</td>\n",
              "      <td>104</td>\n",
              "      <td>4</td>\n",
              "      <td>When Stan discovers his new dog Sparky is gay, he becomes so confused he loses his will to play in the big Homecoming Football game against North Park.</td>\n",
              "      <td>1</td>\n",
              "      <td>4</td>\n",
              "    </tr>\n",
              "    <tr>\n",
              "      <th>4</th>\n",
              "      <td>An Elephant Makes Love to a Pig</td>\n",
              "      <td>September 10, 1997</td>\n",
              "      <td>105</td>\n",
              "      <td>5</td>\n",
              "      <td>Kyle's mom won't let him keep his new pet, an elephant because it's so huge. So the boys turn to Dr. Mephesto to genetically engineer a smaller elephant.</td>\n",
              "      <td>1</td>\n",
              "      <td>5</td>\n",
              "    </tr>\n",
              "  </tbody>\n",
              "</table>\n",
              "</div>\n",
              "      <button class=\"colab-df-convert\" onclick=\"convertToInteractive('df-ff1db2a0-1d35-40d9-b50c-a25ab25f3826')\"\n",
              "              title=\"Convert this dataframe to an interactive table.\"\n",
              "              style=\"display:none;\">\n",
              "        \n",
              "  <svg xmlns=\"http://www.w3.org/2000/svg\" height=\"24px\"viewBox=\"0 0 24 24\"\n",
              "       width=\"24px\">\n",
              "    <path d=\"M0 0h24v24H0V0z\" fill=\"none\"/>\n",
              "    <path d=\"M18.56 5.44l.94 2.06.94-2.06 2.06-.94-2.06-.94-.94-2.06-.94 2.06-2.06.94zm-11 1L8.5 8.5l.94-2.06 2.06-.94-2.06-.94L8.5 2.5l-.94 2.06-2.06.94zm10 10l.94 2.06.94-2.06 2.06-.94-2.06-.94-.94-2.06-.94 2.06-2.06.94z\"/><path d=\"M17.41 7.96l-1.37-1.37c-.4-.4-.92-.59-1.43-.59-.52 0-1.04.2-1.43.59L10.3 9.45l-7.72 7.72c-.78.78-.78 2.05 0 2.83L4 21.41c.39.39.9.59 1.41.59.51 0 1.02-.2 1.41-.59l7.78-7.78 2.81-2.81c.8-.78.8-2.07 0-2.86zM5.41 20L4 18.59l7.72-7.72 1.47 1.35L5.41 20z\"/>\n",
              "  </svg>\n",
              "      </button>\n",
              "      \n",
              "  <style>\n",
              "    .colab-df-container {\n",
              "      display:flex;\n",
              "      flex-wrap:wrap;\n",
              "      gap: 12px;\n",
              "    }\n",
              "\n",
              "    .colab-df-convert {\n",
              "      background-color: #E8F0FE;\n",
              "      border: none;\n",
              "      border-radius: 50%;\n",
              "      cursor: pointer;\n",
              "      display: none;\n",
              "      fill: #1967D2;\n",
              "      height: 32px;\n",
              "      padding: 0 0 0 0;\n",
              "      width: 32px;\n",
              "    }\n",
              "\n",
              "    .colab-df-convert:hover {\n",
              "      background-color: #E2EBFA;\n",
              "      box-shadow: 0px 1px 2px rgba(60, 64, 67, 0.3), 0px 1px 3px 1px rgba(60, 64, 67, 0.15);\n",
              "      fill: #174EA6;\n",
              "    }\n",
              "\n",
              "    [theme=dark] .colab-df-convert {\n",
              "      background-color: #3B4455;\n",
              "      fill: #D2E3FC;\n",
              "    }\n",
              "\n",
              "    [theme=dark] .colab-df-convert:hover {\n",
              "      background-color: #434B5C;\n",
              "      box-shadow: 0px 1px 3px 1px rgba(0, 0, 0, 0.15);\n",
              "      filter: drop-shadow(0px 1px 2px rgba(0, 0, 0, 0.3));\n",
              "      fill: #FFFFFF;\n",
              "    }\n",
              "  </style>\n",
              "\n",
              "      <script>\n",
              "        const buttonEl =\n",
              "          document.querySelector('#df-ff1db2a0-1d35-40d9-b50c-a25ab25f3826 button.colab-df-convert');\n",
              "        buttonEl.style.display =\n",
              "          google.colab.kernel.accessAllowed ? 'block' : 'none';\n",
              "\n",
              "        async function convertToInteractive(key) {\n",
              "          const element = document.querySelector('#df-ff1db2a0-1d35-40d9-b50c-a25ab25f3826');\n",
              "          const dataTable =\n",
              "            await google.colab.kernel.invokeFunction('convertToInteractive',\n",
              "                                                     [key], {});\n",
              "          if (!dataTable) return;\n",
              "\n",
              "          const docLinkHtml = 'Like what you see? Visit the ' +\n",
              "            '<a target=\"_blank\" href=https://colab.research.google.com/notebooks/data_table.ipynb>data table notebook</a>'\n",
              "            + ' to learn more about interactive tables.';\n",
              "          element.innerHTML = '';\n",
              "          dataTable['output_type'] = 'display_data';\n",
              "          await google.colab.output.renderOutput(dataTable, element);\n",
              "          const docLink = document.createElement('div');\n",
              "          docLink.innerHTML = docLinkHtml;\n",
              "          element.appendChild(docLink);\n",
              "        }\n",
              "      </script>\n",
              "    </div>\n",
              "  </div>\n",
              "  "
            ]
          },
          "metadata": {},
          "execution_count": 3
        }
      ],
      "source": [
        "# Importing South Park epsiode dataframe and viewing first 5 rows\n",
        "\n",
        "episodes = pd.read_csv('SouthPark_Episodes.csv')\n",
        "episodes.head()"
      ]
    },
    {
      "cell_type": "code",
      "execution_count": 4,
      "metadata": {
        "colab": {
          "base_uri": "https://localhost:8080/"
        },
        "id": "cJ8g32elCAaD",
        "outputId": "09f7f064-c7f6-48f7-a2b4-734da0a9e4ce"
      },
      "outputs": [
        {
          "output_type": "stream",
          "name": "stdout",
          "text": [
            "<class 'pandas.core.frame.DataFrame'>\n",
            "RangeIndex: 309 entries, 0 to 308\n",
            "Data columns (total 7 columns):\n",
            " #   Column       Non-Null Count  Dtype \n",
            "---  ------       --------------  ----- \n",
            " 0   Title        309 non-null    object\n",
            " 1   Air Date     309 non-null    object\n",
            " 2   Code         309 non-null    int64 \n",
            " 3   #            309 non-null    int64 \n",
            " 4   Description  309 non-null    object\n",
            " 5   Season       309 non-null    int64 \n",
            " 6   Episode      309 non-null    int64 \n",
            "dtypes: int64(4), object(3)\n",
            "memory usage: 17.0+ KB\n"
          ]
        }
      ],
      "source": [
        "# Episodes dataframe information\n",
        "\n",
        "episodes.info()"
      ]
    },
    {
      "cell_type": "markdown",
      "source": [
        "Our episodes dataframe consists of 309 episodes. The main focus of this dataframe will be the title of the episode and it's description. The title will be used to merge the two dataframes while the description of each episode will be treated as our target variable."
      ],
      "metadata": {
        "id": "9jKdY16b9gp-"
      }
    },
    {
      "cell_type": "code",
      "execution_count": 5,
      "metadata": {
        "colab": {
          "base_uri": "https://localhost:8080/"
        },
        "id": "Iqxz-AUuCAaD",
        "outputId": "6149c3af-ffa8-4fa2-adc5-f2148343cafc"
      },
      "outputs": [
        {
          "output_type": "execute_result",
          "data": {
            "text/plain": [
              "Title          0\n",
              "Air Date       0\n",
              "Code           0\n",
              "#              0\n",
              "Description    0\n",
              "Season         0\n",
              "Episode        0\n",
              "dtype: int64"
            ]
          },
          "metadata": {},
          "execution_count": 5
        }
      ],
      "source": [
        "# Checking for na values in dataframe\n",
        "\n",
        "episodes.isna().sum()"
      ]
    },
    {
      "cell_type": "markdown",
      "source": [
        "We aren't missing any information in this dataset which is great. Our `Title` and `Description` features are object dtype which is appropriate. All other columns will be dropped from the dataframe. Lets import our lines dataset."
      ],
      "metadata": {
        "id": "gJcrNE18Xeho"
      }
    },
    {
      "cell_type": "code",
      "execution_count": 6,
      "metadata": {
        "colab": {
          "base_uri": "https://localhost:8080/",
          "height": 641
        },
        "id": "g39EV83iCAaE",
        "outputId": "dc051a7e-196f-4fdc-885e-f1de123aa80c"
      },
      "outputs": [
        {
          "output_type": "execute_result",
          "data": {
            "text/plain": [
              "                                Title          Character  \\\n",
              "0          Cartman Gets an Anal Probe  Scene Description   \n",
              "1          Cartman Gets an Anal Probe           The Boys   \n",
              "2          Cartman Gets an Anal Probe    Kyle Broflovski   \n",
              "3          Cartman Gets an Anal Probe     Ike Broflovski   \n",
              "4          Cartman Gets an Anal Probe               Kyle   \n",
              "...                               ...                ...   \n",
              "95315  South ParQ Vaccination Special            Cartman   \n",
              "95316  South ParQ Vaccination Special              Clyde   \n",
              "95317  South ParQ Vaccination Special            Cartman   \n",
              "95318  South ParQ Vaccination Special  Scene Description   \n",
              "95319  South ParQ Vaccination Special       Mr. Garrison   \n",
              "\n",
              "                                                                                                                                                                                                          Line  \n",
              "0                                                                                                                                                                                             At the bus stop.  \n",
              "1                                                                                                                                                             School days, school days, teacher's golden ru...  \n",
              "2                                                                                                                                        Ah, damn it! My little brother's trying to follow me to school again.  \n",
              "3                                                                                                                                                                                                  Eat banana.  \n",
              "4                                                                                                                                                       Ike, you can't come to school with me. [Ike Chortles.]  \n",
              "...                                                                                                                                                                                                        ...  \n",
              "95315                                                                                                                                                                              [turns to face Clyde] Yeah?  \n",
              "95316                                                                           [standing with Jimmy and an unnamed Hispanic kid] Dude, they're reopening Casa Bonita this weekend. Do you wanna come with us?  \n",
              "95317  [he takes off his mask] Casa Bonita?! Hell yeah, I'll come! [his face falls] Oh, wait! I can't! I have fucking Kenny this weekend! [he throws his hat onto the ground in anger] Shit! [he walks away...  \n",
              "95318                                            Fourth grade classroom. Mr. Garrison opens the door and walks inside, dropping his books on his desk and taking a seat. He puts Mr. Hat on his hand, smiling.  \n",
              "95319                                                                                   [sighs] Nice doing business with you... you little child-murdering pedophiles. [the scene cuts to black, credits roll]  \n",
              "\n",
              "[95320 rows x 3 columns]"
            ],
            "text/html": [
              "\n",
              "  <div id=\"df-9883bbf0-4873-4937-8d90-b2359c4bdb08\">\n",
              "    <div class=\"colab-df-container\">\n",
              "      <div>\n",
              "<style scoped>\n",
              "    .dataframe tbody tr th:only-of-type {\n",
              "        vertical-align: middle;\n",
              "    }\n",
              "\n",
              "    .dataframe tbody tr th {\n",
              "        vertical-align: top;\n",
              "    }\n",
              "\n",
              "    .dataframe thead th {\n",
              "        text-align: right;\n",
              "    }\n",
              "</style>\n",
              "<table border=\"1\" class=\"dataframe\">\n",
              "  <thead>\n",
              "    <tr style=\"text-align: right;\">\n",
              "      <th></th>\n",
              "      <th>Title</th>\n",
              "      <th>Character</th>\n",
              "      <th>Line</th>\n",
              "    </tr>\n",
              "  </thead>\n",
              "  <tbody>\n",
              "    <tr>\n",
              "      <th>0</th>\n",
              "      <td>Cartman Gets an Anal Probe</td>\n",
              "      <td>Scene Description</td>\n",
              "      <td>At the bus stop.</td>\n",
              "    </tr>\n",
              "    <tr>\n",
              "      <th>1</th>\n",
              "      <td>Cartman Gets an Anal Probe</td>\n",
              "      <td>The Boys</td>\n",
              "      <td>School days, school days, teacher's golden ru...</td>\n",
              "    </tr>\n",
              "    <tr>\n",
              "      <th>2</th>\n",
              "      <td>Cartman Gets an Anal Probe</td>\n",
              "      <td>Kyle Broflovski</td>\n",
              "      <td>Ah, damn it! My little brother's trying to follow me to school again.</td>\n",
              "    </tr>\n",
              "    <tr>\n",
              "      <th>3</th>\n",
              "      <td>Cartman Gets an Anal Probe</td>\n",
              "      <td>Ike Broflovski</td>\n",
              "      <td>Eat banana.</td>\n",
              "    </tr>\n",
              "    <tr>\n",
              "      <th>4</th>\n",
              "      <td>Cartman Gets an Anal Probe</td>\n",
              "      <td>Kyle</td>\n",
              "      <td>Ike, you can't come to school with me. [Ike Chortles.]</td>\n",
              "    </tr>\n",
              "    <tr>\n",
              "      <th>...</th>\n",
              "      <td>...</td>\n",
              "      <td>...</td>\n",
              "      <td>...</td>\n",
              "    </tr>\n",
              "    <tr>\n",
              "      <th>95315</th>\n",
              "      <td>South ParQ Vaccination Special</td>\n",
              "      <td>Cartman</td>\n",
              "      <td>[turns to face Clyde] Yeah?</td>\n",
              "    </tr>\n",
              "    <tr>\n",
              "      <th>95316</th>\n",
              "      <td>South ParQ Vaccination Special</td>\n",
              "      <td>Clyde</td>\n",
              "      <td>[standing with Jimmy and an unnamed Hispanic kid] Dude, they're reopening Casa Bonita this weekend. Do you wanna come with us?</td>\n",
              "    </tr>\n",
              "    <tr>\n",
              "      <th>95317</th>\n",
              "      <td>South ParQ Vaccination Special</td>\n",
              "      <td>Cartman</td>\n",
              "      <td>[he takes off his mask] Casa Bonita?! Hell yeah, I'll come! [his face falls] Oh, wait! I can't! I have fucking Kenny this weekend! [he throws his hat onto the ground in anger] Shit! [he walks away...</td>\n",
              "    </tr>\n",
              "    <tr>\n",
              "      <th>95318</th>\n",
              "      <td>South ParQ Vaccination Special</td>\n",
              "      <td>Scene Description</td>\n",
              "      <td>Fourth grade classroom. Mr. Garrison opens the door and walks inside, dropping his books on his desk and taking a seat. He puts Mr. Hat on his hand, smiling.</td>\n",
              "    </tr>\n",
              "    <tr>\n",
              "      <th>95319</th>\n",
              "      <td>South ParQ Vaccination Special</td>\n",
              "      <td>Mr. Garrison</td>\n",
              "      <td>[sighs] Nice doing business with you... you little child-murdering pedophiles. [the scene cuts to black, credits roll]</td>\n",
              "    </tr>\n",
              "  </tbody>\n",
              "</table>\n",
              "<p>95320 rows × 3 columns</p>\n",
              "</div>\n",
              "      <button class=\"colab-df-convert\" onclick=\"convertToInteractive('df-9883bbf0-4873-4937-8d90-b2359c4bdb08')\"\n",
              "              title=\"Convert this dataframe to an interactive table.\"\n",
              "              style=\"display:none;\">\n",
              "        \n",
              "  <svg xmlns=\"http://www.w3.org/2000/svg\" height=\"24px\"viewBox=\"0 0 24 24\"\n",
              "       width=\"24px\">\n",
              "    <path d=\"M0 0h24v24H0V0z\" fill=\"none\"/>\n",
              "    <path d=\"M18.56 5.44l.94 2.06.94-2.06 2.06-.94-2.06-.94-.94-2.06-.94 2.06-2.06.94zm-11 1L8.5 8.5l.94-2.06 2.06-.94-2.06-.94L8.5 2.5l-.94 2.06-2.06.94zm10 10l.94 2.06.94-2.06 2.06-.94-2.06-.94-.94-2.06-.94 2.06-2.06.94z\"/><path d=\"M17.41 7.96l-1.37-1.37c-.4-.4-.92-.59-1.43-.59-.52 0-1.04.2-1.43.59L10.3 9.45l-7.72 7.72c-.78.78-.78 2.05 0 2.83L4 21.41c.39.39.9.59 1.41.59.51 0 1.02-.2 1.41-.59l7.78-7.78 2.81-2.81c.8-.78.8-2.07 0-2.86zM5.41 20L4 18.59l7.72-7.72 1.47 1.35L5.41 20z\"/>\n",
              "  </svg>\n",
              "      </button>\n",
              "      \n",
              "  <style>\n",
              "    .colab-df-container {\n",
              "      display:flex;\n",
              "      flex-wrap:wrap;\n",
              "      gap: 12px;\n",
              "    }\n",
              "\n",
              "    .colab-df-convert {\n",
              "      background-color: #E8F0FE;\n",
              "      border: none;\n",
              "      border-radius: 50%;\n",
              "      cursor: pointer;\n",
              "      display: none;\n",
              "      fill: #1967D2;\n",
              "      height: 32px;\n",
              "      padding: 0 0 0 0;\n",
              "      width: 32px;\n",
              "    }\n",
              "\n",
              "    .colab-df-convert:hover {\n",
              "      background-color: #E2EBFA;\n",
              "      box-shadow: 0px 1px 2px rgba(60, 64, 67, 0.3), 0px 1px 3px 1px rgba(60, 64, 67, 0.15);\n",
              "      fill: #174EA6;\n",
              "    }\n",
              "\n",
              "    [theme=dark] .colab-df-convert {\n",
              "      background-color: #3B4455;\n",
              "      fill: #D2E3FC;\n",
              "    }\n",
              "\n",
              "    [theme=dark] .colab-df-convert:hover {\n",
              "      background-color: #434B5C;\n",
              "      box-shadow: 0px 1px 3px 1px rgba(0, 0, 0, 0.15);\n",
              "      filter: drop-shadow(0px 1px 2px rgba(0, 0, 0, 0.3));\n",
              "      fill: #FFFFFF;\n",
              "    }\n",
              "  </style>\n",
              "\n",
              "      <script>\n",
              "        const buttonEl =\n",
              "          document.querySelector('#df-9883bbf0-4873-4937-8d90-b2359c4bdb08 button.colab-df-convert');\n",
              "        buttonEl.style.display =\n",
              "          google.colab.kernel.accessAllowed ? 'block' : 'none';\n",
              "\n",
              "        async function convertToInteractive(key) {\n",
              "          const element = document.querySelector('#df-9883bbf0-4873-4937-8d90-b2359c4bdb08');\n",
              "          const dataTable =\n",
              "            await google.colab.kernel.invokeFunction('convertToInteractive',\n",
              "                                                     [key], {});\n",
              "          if (!dataTable) return;\n",
              "\n",
              "          const docLinkHtml = 'Like what you see? Visit the ' +\n",
              "            '<a target=\"_blank\" href=https://colab.research.google.com/notebooks/data_table.ipynb>data table notebook</a>'\n",
              "            + ' to learn more about interactive tables.';\n",
              "          element.innerHTML = '';\n",
              "          dataTable['output_type'] = 'display_data';\n",
              "          await google.colab.output.renderOutput(dataTable, element);\n",
              "          const docLink = document.createElement('div');\n",
              "          docLink.innerHTML = docLinkHtml;\n",
              "          element.appendChild(docLink);\n",
              "        }\n",
              "      </script>\n",
              "    </div>\n",
              "  </div>\n",
              "  "
            ]
          },
          "metadata": {},
          "execution_count": 6
        }
      ],
      "source": [
        "# Importing South Park lines dataframe and viewing first 5 rows\n",
        "\n",
        "lines = pd.read_csv('SouthPark_Lines.csv')\n",
        "lines"
      ]
    },
    {
      "cell_type": "code",
      "execution_count": 7,
      "metadata": {
        "colab": {
          "base_uri": "https://localhost:8080/"
        },
        "id": "E1w4qRZECAaE",
        "outputId": "4e944db5-b7e8-4418-836e-8951d6d8488e"
      },
      "outputs": [
        {
          "output_type": "stream",
          "name": "stdout",
          "text": [
            "<class 'pandas.core.frame.DataFrame'>\n",
            "RangeIndex: 95320 entries, 0 to 95319\n",
            "Data columns (total 3 columns):\n",
            " #   Column     Non-Null Count  Dtype \n",
            "---  ------     --------------  ----- \n",
            " 0   Title      95320 non-null  object\n",
            " 1   Character  95320 non-null  object\n",
            " 2   Line       95308 non-null  object\n",
            "dtypes: object(3)\n",
            "memory usage: 2.2+ MB\n"
          ]
        }
      ],
      "source": [
        "# Lines dataframe information\n",
        "\n",
        "lines.info()"
      ]
    },
    {
      "cell_type": "markdown",
      "source": [
        "Our lines dataframe has 95320 entries in our `Title` and `Character` columns. It appears we are missing 12 entries in our `Line` column. Lets investigate those instances."
      ],
      "metadata": {
        "id": "HhyUw1BJZPoS"
      }
    },
    {
      "cell_type": "code",
      "execution_count": 8,
      "metadata": {
        "colab": {
          "base_uri": "https://localhost:8080/",
          "height": 426
        },
        "id": "D96JA2afCAaE",
        "outputId": "55a698c8-129c-491c-81e8-4fe4941d7f8d"
      },
      "outputs": [
        {
          "output_type": "execute_result",
          "data": {
            "text/plain": [
              "                                 Title        Character Line\n",
              "24722   Do the Handicapped Go to Hell?          Cartman  NaN\n",
              "24724   Do the Handicapped Go to Hell?          Cartman  NaN\n",
              "27432          A Very Crappy Christmas       Stan, Kyle  NaN\n",
              "30605  Osama bin Laden Has Farty Pants  Osama bin Laden  NaN\n",
              "31625      Here Comes the Neighborhood       Bill Cosby  NaN\n",
              "45847                Quest for Ratings             Stan  NaN\n",
              "50080            Trapped in the Closet         R. Kelly  NaN\n",
              "50391                     Free Willzyx           Manuel  NaN\n",
              "70688                       City Sushi   Field reporter  NaN\n",
              "70823                       City Sushi   Field reporter  NaN\n",
              "72191                Broadway Bro Down          Singers  NaN\n",
              "83967            Truth and Advertising            Randy  NaN"
            ],
            "text/html": [
              "\n",
              "  <div id=\"df-d34aeda9-8a23-4862-8e1f-7d267599da82\">\n",
              "    <div class=\"colab-df-container\">\n",
              "      <div>\n",
              "<style scoped>\n",
              "    .dataframe tbody tr th:only-of-type {\n",
              "        vertical-align: middle;\n",
              "    }\n",
              "\n",
              "    .dataframe tbody tr th {\n",
              "        vertical-align: top;\n",
              "    }\n",
              "\n",
              "    .dataframe thead th {\n",
              "        text-align: right;\n",
              "    }\n",
              "</style>\n",
              "<table border=\"1\" class=\"dataframe\">\n",
              "  <thead>\n",
              "    <tr style=\"text-align: right;\">\n",
              "      <th></th>\n",
              "      <th>Title</th>\n",
              "      <th>Character</th>\n",
              "      <th>Line</th>\n",
              "    </tr>\n",
              "  </thead>\n",
              "  <tbody>\n",
              "    <tr>\n",
              "      <th>24722</th>\n",
              "      <td>Do the Handicapped Go to Hell?</td>\n",
              "      <td>Cartman</td>\n",
              "      <td>NaN</td>\n",
              "    </tr>\n",
              "    <tr>\n",
              "      <th>24724</th>\n",
              "      <td>Do the Handicapped Go to Hell?</td>\n",
              "      <td>Cartman</td>\n",
              "      <td>NaN</td>\n",
              "    </tr>\n",
              "    <tr>\n",
              "      <th>27432</th>\n",
              "      <td>A Very Crappy Christmas</td>\n",
              "      <td>Stan, Kyle</td>\n",
              "      <td>NaN</td>\n",
              "    </tr>\n",
              "    <tr>\n",
              "      <th>30605</th>\n",
              "      <td>Osama bin Laden Has Farty Pants</td>\n",
              "      <td>Osama bin Laden</td>\n",
              "      <td>NaN</td>\n",
              "    </tr>\n",
              "    <tr>\n",
              "      <th>31625</th>\n",
              "      <td>Here Comes the Neighborhood</td>\n",
              "      <td>Bill Cosby</td>\n",
              "      <td>NaN</td>\n",
              "    </tr>\n",
              "    <tr>\n",
              "      <th>45847</th>\n",
              "      <td>Quest for Ratings</td>\n",
              "      <td>Stan</td>\n",
              "      <td>NaN</td>\n",
              "    </tr>\n",
              "    <tr>\n",
              "      <th>50080</th>\n",
              "      <td>Trapped in the Closet</td>\n",
              "      <td>R. Kelly</td>\n",
              "      <td>NaN</td>\n",
              "    </tr>\n",
              "    <tr>\n",
              "      <th>50391</th>\n",
              "      <td>Free Willzyx</td>\n",
              "      <td>Manuel</td>\n",
              "      <td>NaN</td>\n",
              "    </tr>\n",
              "    <tr>\n",
              "      <th>70688</th>\n",
              "      <td>City Sushi</td>\n",
              "      <td>Field reporter</td>\n",
              "      <td>NaN</td>\n",
              "    </tr>\n",
              "    <tr>\n",
              "      <th>70823</th>\n",
              "      <td>City Sushi</td>\n",
              "      <td>Field reporter</td>\n",
              "      <td>NaN</td>\n",
              "    </tr>\n",
              "    <tr>\n",
              "      <th>72191</th>\n",
              "      <td>Broadway Bro Down</td>\n",
              "      <td>Singers</td>\n",
              "      <td>NaN</td>\n",
              "    </tr>\n",
              "    <tr>\n",
              "      <th>83967</th>\n",
              "      <td>Truth and Advertising</td>\n",
              "      <td>Randy</td>\n",
              "      <td>NaN</td>\n",
              "    </tr>\n",
              "  </tbody>\n",
              "</table>\n",
              "</div>\n",
              "      <button class=\"colab-df-convert\" onclick=\"convertToInteractive('df-d34aeda9-8a23-4862-8e1f-7d267599da82')\"\n",
              "              title=\"Convert this dataframe to an interactive table.\"\n",
              "              style=\"display:none;\">\n",
              "        \n",
              "  <svg xmlns=\"http://www.w3.org/2000/svg\" height=\"24px\"viewBox=\"0 0 24 24\"\n",
              "       width=\"24px\">\n",
              "    <path d=\"M0 0h24v24H0V0z\" fill=\"none\"/>\n",
              "    <path d=\"M18.56 5.44l.94 2.06.94-2.06 2.06-.94-2.06-.94-.94-2.06-.94 2.06-2.06.94zm-11 1L8.5 8.5l.94-2.06 2.06-.94-2.06-.94L8.5 2.5l-.94 2.06-2.06.94zm10 10l.94 2.06.94-2.06 2.06-.94-2.06-.94-.94-2.06-.94 2.06-2.06.94z\"/><path d=\"M17.41 7.96l-1.37-1.37c-.4-.4-.92-.59-1.43-.59-.52 0-1.04.2-1.43.59L10.3 9.45l-7.72 7.72c-.78.78-.78 2.05 0 2.83L4 21.41c.39.39.9.59 1.41.59.51 0 1.02-.2 1.41-.59l7.78-7.78 2.81-2.81c.8-.78.8-2.07 0-2.86zM5.41 20L4 18.59l7.72-7.72 1.47 1.35L5.41 20z\"/>\n",
              "  </svg>\n",
              "      </button>\n",
              "      \n",
              "  <style>\n",
              "    .colab-df-container {\n",
              "      display:flex;\n",
              "      flex-wrap:wrap;\n",
              "      gap: 12px;\n",
              "    }\n",
              "\n",
              "    .colab-df-convert {\n",
              "      background-color: #E8F0FE;\n",
              "      border: none;\n",
              "      border-radius: 50%;\n",
              "      cursor: pointer;\n",
              "      display: none;\n",
              "      fill: #1967D2;\n",
              "      height: 32px;\n",
              "      padding: 0 0 0 0;\n",
              "      width: 32px;\n",
              "    }\n",
              "\n",
              "    .colab-df-convert:hover {\n",
              "      background-color: #E2EBFA;\n",
              "      box-shadow: 0px 1px 2px rgba(60, 64, 67, 0.3), 0px 1px 3px 1px rgba(60, 64, 67, 0.15);\n",
              "      fill: #174EA6;\n",
              "    }\n",
              "\n",
              "    [theme=dark] .colab-df-convert {\n",
              "      background-color: #3B4455;\n",
              "      fill: #D2E3FC;\n",
              "    }\n",
              "\n",
              "    [theme=dark] .colab-df-convert:hover {\n",
              "      background-color: #434B5C;\n",
              "      box-shadow: 0px 1px 3px 1px rgba(0, 0, 0, 0.15);\n",
              "      filter: drop-shadow(0px 1px 2px rgba(0, 0, 0, 0.3));\n",
              "      fill: #FFFFFF;\n",
              "    }\n",
              "  </style>\n",
              "\n",
              "      <script>\n",
              "        const buttonEl =\n",
              "          document.querySelector('#df-d34aeda9-8a23-4862-8e1f-7d267599da82 button.colab-df-convert');\n",
              "        buttonEl.style.display =\n",
              "          google.colab.kernel.accessAllowed ? 'block' : 'none';\n",
              "\n",
              "        async function convertToInteractive(key) {\n",
              "          const element = document.querySelector('#df-d34aeda9-8a23-4862-8e1f-7d267599da82');\n",
              "          const dataTable =\n",
              "            await google.colab.kernel.invokeFunction('convertToInteractive',\n",
              "                                                     [key], {});\n",
              "          if (!dataTable) return;\n",
              "\n",
              "          const docLinkHtml = 'Like what you see? Visit the ' +\n",
              "            '<a target=\"_blank\" href=https://colab.research.google.com/notebooks/data_table.ipynb>data table notebook</a>'\n",
              "            + ' to learn more about interactive tables.';\n",
              "          element.innerHTML = '';\n",
              "          dataTable['output_type'] = 'display_data';\n",
              "          await google.colab.output.renderOutput(dataTable, element);\n",
              "          const docLink = document.createElement('div');\n",
              "          docLink.innerHTML = docLinkHtml;\n",
              "          element.appendChild(docLink);\n",
              "        }\n",
              "      </script>\n",
              "    </div>\n",
              "  </div>\n",
              "  "
            ]
          },
          "metadata": {},
          "execution_count": 8
        }
      ],
      "source": [
        "# Viewing instances where Line entry is NaN\n",
        "\n",
        "lines.loc[lines['Line'].isna()] "
      ]
    },
    {
      "cell_type": "markdown",
      "source": [
        "Dropping 12 lines from a dataframe that contain 95000 lines seems rather inconsequntial, lets drop those instances from the dataframe."
      ],
      "metadata": {
        "id": "UwQbH-PGaFyc"
      }
    },
    {
      "cell_type": "code",
      "execution_count": 9,
      "metadata": {
        "id": "UUx6ZpJ9CAaE"
      },
      "outputs": [],
      "source": [
        "# Dropping NaN values from lines dataframe\n",
        "lines.dropna(inplace=True)"
      ]
    },
    {
      "cell_type": "markdown",
      "source": [
        "Lets do some EDA on our lines dataframe to get a better idea of line distribution in South Park's dialouge."
      ],
      "metadata": {
        "id": "bcER3J7qat0j"
      }
    },
    {
      "cell_type": "code",
      "execution_count": 10,
      "metadata": {
        "colab": {
          "base_uri": "https://localhost:8080/",
          "height": 699
        },
        "id": "vePcTr62CAaF",
        "outputId": "f0fb8b64-33c9-4ac0-dc9a-7f19013ae210"
      },
      "outputs": [
        {
          "output_type": "display_data",
          "data": {
            "text/plain": [
              "<Figure size 1100x800 with 1 Axes>"
            ],
            "image/png": "[encoded data removed]"
          },
          "metadata": {}
        }
      ],
      "source": [
        "from matplotlib import rcParams\n",
        "import seaborn as sns\n",
        "\n",
        "\n",
        "# Plotting top 10 characters based on number of lines\n",
        "lines['Character'].value_counts().head(10).plot(kind='barh', \n",
        "                                                figsize=(11,8), \n",
        "                                                title='Line Count by Character',\n",
        "                                                xlabel='Character',\n",
        "                                                ylabel='Number of Lines');"
      ]
    },
    {
      "cell_type": "markdown",
      "source": [
        "If you are familiar with the show we can see that the usual suspects such as Cartman, Stan and Kyle have the lions share of the dialouge in the show. An interesting observation is the Scene Description character has the second most lines, this makes sense as that character is used to describe the setting throughout each episode. For clairity we may want to consider removing this character from the text entirely.\n",
        "\n",
        "We now want to concatenate the lines of each episode so that we have an entire script of dialouge contianed in each row that is associated with a single episode title.\n"
      ],
      "metadata": {
        "id": "q_CxU_Z_e3QN"
      }
    },
    {
      "cell_type": "code",
      "execution_count": 11,
      "metadata": {
        "colab": {
          "base_uri": "https://localhost:8080/",
          "height": 337
        },
        "id": "VFarS2hXCAaF",
        "outputId": "c6b8a337-7fec-4f54-c9e9-90cf290af885"
      },
      "outputs": [
        {
          "output_type": "execute_result",
          "data": {
            "text/plain": [
              "                                Title          Character  \\\n",
              "0          Cartman Gets an Anal Probe  Scene Description   \n",
              "507                  Weight Gain 4000  Scene Description   \n",
              "904                           Volcano  Scene Description   \n",
              "1307   Big Gay Al's Big Gay Boat Ride  Scene Description   \n",
              "1832  An Elephant Makes Love to a Pig  Scene Description   \n",
              "\n",
              "                                                                                                                                                                                                         Line  \n",
              "0     At the bus stop. School days, school days, teacher's golden ru... Ah, damn it! My little brother's trying to follow me to school again. Eat banana. Ike, you can't come to school with me. [Ike Chor...  \n",
              "507   Mr. Garrison's classroom. Hey Stan, did you see that rainbow this morning? Yeah, it was huge. Ugh, I hate those things. Nobody hates rainbows. Yeah, what's there to hate about rainbows? Well, you ...  \n",
              "904   In front of Cartman's house. Jimbo, Ned, and the boys are waiting for Cartman. Now you be careful, Eric. The woods can be very dangerous. Okay, Mom. Ready to go hunting, Cartman? Yeah, my Uncle Ji...  \n",
              "1307  Bus Stop. Hey, where's the school bus? We're gonna be late for football practice. A dog walks up to the boys. Hiya, Sparky. [Looking] Who's that? That's my new dog Sparky. He followed me to the bu...  \n",
              "1832  Bus Stop. Hey Stan, where'd you get that black eye? Nothing, I mu-I mean, nowhere. Your sister beat you up again, huh? No! Eheh, you know, heh, your sister kicked your ass. She's just pissed off '...  "
            ],
            "text/html": [
              "\n",
              "  <div id=\"df-76b9dd1c-4825-4c54-85fa-d7c4bbe3c99d\">\n",
              "    <div class=\"colab-df-container\">\n",
              "      <div>\n",
              "<style scoped>\n",
              "    .dataframe tbody tr th:only-of-type {\n",
              "        vertical-align: middle;\n",
              "    }\n",
              "\n",
              "    .dataframe tbody tr th {\n",
              "        vertical-align: top;\n",
              "    }\n",
              "\n",
              "    .dataframe thead th {\n",
              "        text-align: right;\n",
              "    }\n",
              "</style>\n",
              "<table border=\"1\" class=\"dataframe\">\n",
              "  <thead>\n",
              "    <tr style=\"text-align: right;\">\n",
              "      <th></th>\n",
              "      <th>Title</th>\n",
              "      <th>Character</th>\n",
              "      <th>Line</th>\n",
              "    </tr>\n",
              "  </thead>\n",
              "  <tbody>\n",
              "    <tr>\n",
              "      <th>0</th>\n",
              "      <td>Cartman Gets an Anal Probe</td>\n",
              "      <td>Scene Description</td>\n",
              "      <td>At the bus stop. School days, school days, teacher's golden ru... Ah, damn it! My little brother's trying to follow me to school again. Eat banana. Ike, you can't come to school with me. [Ike Chor...</td>\n",
              "    </tr>\n",
              "    <tr>\n",
              "      <th>507</th>\n",
              "      <td>Weight Gain 4000</td>\n",
              "      <td>Scene Description</td>\n",
              "      <td>Mr. Garrison's classroom. Hey Stan, did you see that rainbow this morning? Yeah, it was huge. Ugh, I hate those things. Nobody hates rainbows. Yeah, what's there to hate about rainbows? Well, you ...</td>\n",
              "    </tr>\n",
              "    <tr>\n",
              "      <th>904</th>\n",
              "      <td>Volcano</td>\n",
              "      <td>Scene Description</td>\n",
              "      <td>In front of Cartman's house. Jimbo, Ned, and the boys are waiting for Cartman. Now you be careful, Eric. The woods can be very dangerous. Okay, Mom. Ready to go hunting, Cartman? Yeah, my Uncle Ji...</td>\n",
              "    </tr>\n",
              "    <tr>\n",
              "      <th>1307</th>\n",
              "      <td>Big Gay Al's Big Gay Boat Ride</td>\n",
              "      <td>Scene Description</td>\n",
              "      <td>Bus Stop. Hey, where's the school bus? We're gonna be late for football practice. A dog walks up to the boys. Hiya, Sparky. [Looking] Who's that? That's my new dog Sparky. He followed me to the bu...</td>\n",
              "    </tr>\n",
              "    <tr>\n",
              "      <th>1832</th>\n",
              "      <td>An Elephant Makes Love to a Pig</td>\n",
              "      <td>Scene Description</td>\n",
              "      <td>Bus Stop. Hey Stan, where'd you get that black eye? Nothing, I mu-I mean, nowhere. Your sister beat you up again, huh? No! Eheh, you know, heh, your sister kicked your ass. She's just pissed off '...</td>\n",
              "    </tr>\n",
              "  </tbody>\n",
              "</table>\n",
              "</div>\n",
              "      <button class=\"colab-df-convert\" onclick=\"convertToInteractive('df-76b9dd1c-4825-4c54-85fa-d7c4bbe3c99d')\"\n",
              "              title=\"Convert this dataframe to an interactive table.\"\n",
              "              style=\"display:none;\">\n",
              "        \n",
              "  <svg xmlns=\"http://www.w3.org/2000/svg\" height=\"24px\"viewBox=\"0 0 24 24\"\n",
              "       width=\"24px\">\n",
              "    <path d=\"M0 0h24v24H0V0z\" fill=\"none\"/>\n",
              "    <path d=\"M18.56 5.44l.94 2.06.94-2.06 2.06-.94-2.06-.94-.94-2.06-.94 2.06-2.06.94zm-11 1L8.5 8.5l.94-2.06 2.06-.94-2.06-.94L8.5 2.5l-.94 2.06-2.06.94zm10 10l.94 2.06.94-2.06 2.06-.94-2.06-.94-.94-2.06-.94 2.06-2.06.94z\"/><path d=\"M17.41 7.96l-1.37-1.37c-.4-.4-.92-.59-1.43-.59-.52 0-1.04.2-1.43.59L10.3 9.45l-7.72 7.72c-.78.78-.78 2.05 0 2.83L4 21.41c.39.39.9.59 1.41.59.51 0 1.02-.2 1.41-.59l7.78-7.78 2.81-2.81c.8-.78.8-2.07 0-2.86zM5.41 20L4 18.59l7.72-7.72 1.47 1.35L5.41 20z\"/>\n",
              "  </svg>\n",
              "      </button>\n",
              "      \n",
              "  <style>\n",
              "    .colab-df-container {\n",
              "      display:flex;\n",
              "      flex-wrap:wrap;\n",
              "      gap: 12px;\n",
              "    }\n",
              "\n",
              "    .colab-df-convert {\n",
              "      background-color: #E8F0FE;\n",
              "      border: none;\n",
              "      border-radius: 50%;\n",
              "      cursor: pointer;\n",
              "      display: none;\n",
              "      fill: #1967D2;\n",
              "      height: 32px;\n",
              "      padding: 0 0 0 0;\n",
              "      width: 32px;\n",
              "    }\n",
              "\n",
              "    .colab-df-convert:hover {\n",
              "      background-color: #E2EBFA;\n",
              "      box-shadow: 0px 1px 2px rgba(60, 64, 67, 0.3), 0px 1px 3px 1px rgba(60, 64, 67, 0.15);\n",
              "      fill: #174EA6;\n",
              "    }\n",
              "\n",
              "    [theme=dark] .colab-df-convert {\n",
              "      background-color: #3B4455;\n",
              "      fill: #D2E3FC;\n",
              "    }\n",
              "\n",
              "    [theme=dark] .colab-df-convert:hover {\n",
              "      background-color: #434B5C;\n",
              "      box-shadow: 0px 1px 3px 1px rgba(0, 0, 0, 0.15);\n",
              "      filter: drop-shadow(0px 1px 2px rgba(0, 0, 0, 0.3));\n",
              "      fill: #FFFFFF;\n",
              "    }\n",
              "  </style>\n",
              "\n",
              "      <script>\n",
              "        const buttonEl =\n",
              "          document.querySelector('#df-76b9dd1c-4825-4c54-85fa-d7c4bbe3c99d button.colab-df-convert');\n",
              "        buttonEl.style.display =\n",
              "          google.colab.kernel.accessAllowed ? 'block' : 'none';\n",
              "\n",
              "        async function convertToInteractive(key) {\n",
              "          const element = document.querySelector('#df-76b9dd1c-4825-4c54-85fa-d7c4bbe3c99d');\n",
              "          const dataTable =\n",
              "            await google.colab.kernel.invokeFunction('convertToInteractive',\n",
              "                                                     [key], {});\n",
              "          if (!dataTable) return;\n",
              "\n",
              "          const docLinkHtml = 'Like what you see? Visit the ' +\n",
              "            '<a target=\"_blank\" href=https://colab.research.google.com/notebooks/data_table.ipynb>data table notebook</a>'\n",
              "            + ' to learn more about interactive tables.';\n",
              "          element.innerHTML = '';\n",
              "          dataTable['output_type'] = 'display_data';\n",
              "          await google.colab.output.renderOutput(dataTable, element);\n",
              "          const docLink = document.createElement('div');\n",
              "          docLink.innerHTML = docLinkHtml;\n",
              "          element.appendChild(docLink);\n",
              "        }\n",
              "      </script>\n",
              "    </div>\n",
              "  </div>\n",
              "  "
            ]
          },
          "metadata": {},
          "execution_count": 11
        }
      ],
      "source": [
        "# Concatenate the string\n",
        "lines['Line'] = lines.groupby(['Title'])['Line'].transform(lambda x : ' '.join(x)) \n",
        "lines = lines.drop_duplicates('Title')\n",
        "\n",
        "# Show the dataframe\n",
        "lines.head()"
      ]
    },
    {
      "cell_type": "markdown",
      "source": [
        "Perfect! We are now ready to merge our two dataframe using the title of each episode. Before we do that lets make sure we have the same number of episodes in each."
      ],
      "metadata": {
        "id": "Q6nyKp4IjWwo"
      }
    },
    {
      "cell_type": "code",
      "execution_count": 12,
      "metadata": {
        "colab": {
          "base_uri": "https://localhost:8080/"
        },
        "id": "HiKQuGyACAaF",
        "outputId": "d6708a14-9300-43f5-d8f2-1cf324ff0fc2"
      },
      "outputs": [
        {
          "output_type": "stream",
          "name": "stdout",
          "text": [
            "Number of episodes in episodes dataframe: 309\n",
            "Number of episodes in lines dataframe: 309\n"
          ]
        }
      ],
      "source": [
        "print('Number of episodes in episodes dataframe:', len(episodes.Title))\n",
        "print('Number of episodes in lines dataframe:', len(lines.Title))"
      ]
    },
    {
      "cell_type": "markdown",
      "source": [
        "We have the same number of episodes in each dataframe which is great. Next we are going to drop the `Character` column from the lines dataframe. I am doing this for two reasons. First, this text is a dialouge and the character names are often spoken to eachother, therefore there is little information lost by taking out the text that specifies who is speaking. Second, if we were to add the character names before each sentence it would add more words for our model to remember making it more confusing for our model to understand and it makes it computationally expensive. "
      ],
      "metadata": {
        "id": "_yWyARYQktbF"
      }
    },
    {
      "cell_type": "code",
      "execution_count": 13,
      "metadata": {
        "colab": {
          "base_uri": "https://localhost:8080/",
          "height": 337
        },
        "id": "VhYfT72WCAaG",
        "outputId": "f19c0ac2-2045-4e5c-c5cd-eacbd74edbda"
      },
      "outputs": [
        {
          "output_type": "execute_result",
          "data": {
            "text/plain": [
              "                                Title  \\\n",
              "0          Cartman Gets an Anal Probe   \n",
              "507                  Weight Gain 4000   \n",
              "904                           Volcano   \n",
              "1307   Big Gay Al's Big Gay Boat Ride   \n",
              "1832  An Elephant Makes Love to a Pig   \n",
              "\n",
              "                                                                                                                                                                                                         Line  \n",
              "0     At the bus stop. School days, school days, teacher's golden ru... Ah, damn it! My little brother's trying to follow me to school again. Eat banana. Ike, you can't come to school with me. [Ike Chor...  \n",
              "507   Mr. Garrison's classroom. Hey Stan, did you see that rainbow this morning? Yeah, it was huge. Ugh, I hate those things. Nobody hates rainbows. Yeah, what's there to hate about rainbows? Well, you ...  \n",
              "904   In front of Cartman's house. Jimbo, Ned, and the boys are waiting for Cartman. Now you be careful, Eric. The woods can be very dangerous. Okay, Mom. Ready to go hunting, Cartman? Yeah, my Uncle Ji...  \n",
              "1307  Bus Stop. Hey, where's the school bus? We're gonna be late for football practice. A dog walks up to the boys. Hiya, Sparky. [Looking] Who's that? That's my new dog Sparky. He followed me to the bu...  \n",
              "1832  Bus Stop. Hey Stan, where'd you get that black eye? Nothing, I mu-I mean, nowhere. Your sister beat you up again, huh? No! Eheh, you know, heh, your sister kicked your ass. She's just pissed off '...  "
            ],
            "text/html": [
              "\n",
              "  <div id=\"df-3c656d28-8826-43e7-9220-0e0a342a650d\">\n",
              "    <div class=\"colab-df-container\">\n",
              "      <div>\n",
              "<style scoped>\n",
              "    .dataframe tbody tr th:only-of-type {\n",
              "        vertical-align: middle;\n",
              "    }\n",
              "\n",
              "    .dataframe tbody tr th {\n",
              "        vertical-align: top;\n",
              "    }\n",
              "\n",
              "    .dataframe thead th {\n",
              "        text-align: right;\n",
              "    }\n",
              "</style>\n",
              "<table border=\"1\" class=\"dataframe\">\n",
              "  <thead>\n",
              "    <tr style=\"text-align: right;\">\n",
              "      <th></th>\n",
              "      <th>Title</th>\n",
              "      <th>Line</th>\n",
              "    </tr>\n",
              "  </thead>\n",
              "  <tbody>\n",
              "    <tr>\n",
              "      <th>0</th>\n",
              "      <td>Cartman Gets an Anal Probe</td>\n",
              "      <td>At the bus stop. School days, school days, teacher's golden ru... Ah, damn it! My little brother's trying to follow me to school again. Eat banana. Ike, you can't come to school with me. [Ike Chor...</td>\n",
              "    </tr>\n",
              "    <tr>\n",
              "      <th>507</th>\n",
              "      <td>Weight Gain 4000</td>\n",
              "      <td>Mr. Garrison's classroom. Hey Stan, did you see that rainbow this morning? Yeah, it was huge. Ugh, I hate those things. Nobody hates rainbows. Yeah, what's there to hate about rainbows? Well, you ...</td>\n",
              "    </tr>\n",
              "    <tr>\n",
              "      <th>904</th>\n",
              "      <td>Volcano</td>\n",
              "      <td>In front of Cartman's house. Jimbo, Ned, and the boys are waiting for Cartman. Now you be careful, Eric. The woods can be very dangerous. Okay, Mom. Ready to go hunting, Cartman? Yeah, my Uncle Ji...</td>\n",
              "    </tr>\n",
              "    <tr>\n",
              "      <th>1307</th>\n",
              "      <td>Big Gay Al's Big Gay Boat Ride</td>\n",
              "      <td>Bus Stop. Hey, where's the school bus? We're gonna be late for football practice. A dog walks up to the boys. Hiya, Sparky. [Looking] Who's that? That's my new dog Sparky. He followed me to the bu...</td>\n",
              "    </tr>\n",
              "    <tr>\n",
              "      <th>1832</th>\n",
              "      <td>An Elephant Makes Love to a Pig</td>\n",
              "      <td>Bus Stop. Hey Stan, where'd you get that black eye? Nothing, I mu-I mean, nowhere. Your sister beat you up again, huh? No! Eheh, you know, heh, your sister kicked your ass. She's just pissed off '...</td>\n",
              "    </tr>\n",
              "  </tbody>\n",
              "</table>\n",
              "</div>\n",
              "      <button class=\"colab-df-convert\" onclick=\"convertToInteractive('df-3c656d28-8826-43e7-9220-0e0a342a650d')\"\n",
              "              title=\"Convert this dataframe to an interactive table.\"\n",
              "              style=\"display:none;\">\n",
              "        \n",
              "  <svg xmlns=\"http://www.w3.org/2000/svg\" height=\"24px\"viewBox=\"0 0 24 24\"\n",
              "       width=\"24px\">\n",
              "    <path d=\"M0 0h24v24H0V0z\" fill=\"none\"/>\n",
              "    <path d=\"M18.56 5.44l.94 2.06.94-2.06 2.06-.94-2.06-.94-.94-2.06-.94 2.06-2.06.94zm-11 1L8.5 8.5l.94-2.06 2.06-.94-2.06-.94L8.5 2.5l-.94 2.06-2.06.94zm10 10l.94 2.06.94-2.06 2.06-.94-2.06-.94-.94-2.06-.94 2.06-2.06.94z\"/><path d=\"M17.41 7.96l-1.37-1.37c-.4-.4-.92-.59-1.43-.59-.52 0-1.04.2-1.43.59L10.3 9.45l-7.72 7.72c-.78.78-.78 2.05 0 2.83L4 21.41c.39.39.9.59 1.41.59.51 0 1.02-.2 1.41-.59l7.78-7.78 2.81-2.81c.8-.78.8-2.07 0-2.86zM5.41 20L4 18.59l7.72-7.72 1.47 1.35L5.41 20z\"/>\n",
              "  </svg>\n",
              "      </button>\n",
              "      \n",
              "  <style>\n",
              "    .colab-df-container {\n",
              "      display:flex;\n",
              "      flex-wrap:wrap;\n",
              "      gap: 12px;\n",
              "    }\n",
              "\n",
              "    .colab-df-convert {\n",
              "      background-color: #E8F0FE;\n",
              "      border: none;\n",
              "      border-radius: 50%;\n",
              "      cursor: pointer;\n",
              "      display: none;\n",
              "      fill: #1967D2;\n",
              "      height: 32px;\n",
              "      padding: 0 0 0 0;\n",
              "      width: 32px;\n",
              "    }\n",
              "\n",
              "    .colab-df-convert:hover {\n",
              "      background-color: #E2EBFA;\n",
              "      box-shadow: 0px 1px 2px rgba(60, 64, 67, 0.3), 0px 1px 3px 1px rgba(60, 64, 67, 0.15);\n",
              "      fill: #174EA6;\n",
              "    }\n",
              "\n",
              "    [theme=dark] .colab-df-convert {\n",
              "      background-color: #3B4455;\n",
              "      fill: #D2E3FC;\n",
              "    }\n",
              "\n",
              "    [theme=dark] .colab-df-convert:hover {\n",
              "      background-color: #434B5C;\n",
              "      box-shadow: 0px 1px 3px 1px rgba(0, 0, 0, 0.15);\n",
              "      filter: drop-shadow(0px 1px 2px rgba(0, 0, 0, 0.3));\n",
              "      fill: #FFFFFF;\n",
              "    }\n",
              "  </style>\n",
              "\n",
              "      <script>\n",
              "        const buttonEl =\n",
              "          document.querySelector('#df-3c656d28-8826-43e7-9220-0e0a342a650d button.colab-df-convert');\n",
              "        buttonEl.style.display =\n",
              "          google.colab.kernel.accessAllowed ? 'block' : 'none';\n",
              "\n",
              "        async function convertToInteractive(key) {\n",
              "          const element = document.querySelector('#df-3c656d28-8826-43e7-9220-0e0a342a650d');\n",
              "          const dataTable =\n",
              "            await google.colab.kernel.invokeFunction('convertToInteractive',\n",
              "                                                     [key], {});\n",
              "          if (!dataTable) return;\n",
              "\n",
              "          const docLinkHtml = 'Like what you see? Visit the ' +\n",
              "            '<a target=\"_blank\" href=https://colab.research.google.com/notebooks/data_table.ipynb>data table notebook</a>'\n",
              "            + ' to learn more about interactive tables.';\n",
              "          element.innerHTML = '';\n",
              "          dataTable['output_type'] = 'display_data';\n",
              "          await google.colab.output.renderOutput(dataTable, element);\n",
              "          const docLink = document.createElement('div');\n",
              "          docLink.innerHTML = docLinkHtml;\n",
              "          element.appendChild(docLink);\n",
              "        }\n",
              "      </script>\n",
              "    </div>\n",
              "  </div>\n",
              "  "
            ]
          },
          "metadata": {},
          "execution_count": 13
        }
      ],
      "source": [
        "# Dropping Character column from lines dataframe\n",
        "\n",
        "lines = lines.drop('Character', axis=1)\n",
        "lines.head()"
      ]
    },
    {
      "cell_type": "markdown",
      "source": [
        "As we mentioned before, the only information we need from our episodes dataframe is the `Title` and `Description` features. Lets make a new episodes dataframe that consists of only those columns."
      ],
      "metadata": {
        "id": "0gdv5xcRm5Xf"
      }
    },
    {
      "cell_type": "code",
      "execution_count": 14,
      "metadata": {
        "colab": {
          "base_uri": "https://localhost:8080/",
          "height": 572
        },
        "id": "ofeK5OSRCAaG",
        "outputId": "e07ae0d6-b4ab-42fc-b8ee-fe496e90d9bb"
      },
      "outputs": [
        {
          "output_type": "execute_result",
          "data": {
            "text/plain": [
              "                               Title  \\\n",
              "0         Cartman Gets an Anal Probe   \n",
              "1                   Weight Gain 4000   \n",
              "2                            Volcano   \n",
              "3     Big Gay Al's Big Gay Boat Ride   \n",
              "4    An Elephant Makes Love to a Pig   \n",
              "..                               ...   \n",
              "304                    Turd Burglars   \n",
              "305                      Basic Cable   \n",
              "306                   Christmas Snow   \n",
              "307             The Pandemic Special   \n",
              "308   South ParQ Vaccination Special   \n",
              "\n",
              "                                                                                                                                                                                                 Description  \n",
              "0                                                                      While the boys are waiting for the school bus, Cartman explains the odd nightmare he had the previous night involving alien visitors.  \n",
              "1                                                            When Cartman's environmental essay wins a national contest, America's sweetheart, Kathie Lee Gifford, comes to South Park to present the award.  \n",
              "2                                                                 A weekend trip to experience the finer points of camping, fishing and blowing animals to smithereens is threatened by an erupting volcano.  \n",
              "3                                                    When Stan discovers his new dog Sparky is gay, he becomes so confused he loses his will to play in the big Homecoming Football game against North Park.  \n",
              "4                                                  Kyle's mom won't let him keep his new pet, an elephant because it's so huge. So the boys turn to Dr. Mephesto to genetically engineer a smaller elephant.  \n",
              "..                                                                                                                                                                                                       ...  \n",
              "304                               Kyle’s mom looks so good after her fecal transplant that everyone wants to get their hands on her goods. Cartman and the boys jump into the quest for the best microbiome.  \n",
              "305  Scott Malkinson’s future with the new girl in his class depends on him getting the latest and greatest streaming platform. Scott’s dad works for the local cable company and refuses to move beyond ...  \n",
              "306  It's a bleak Christmas Season in South Park this year and it's all Santa's fault. He is single handedly stealing the joy from the holiday. The town just wants their Christmas Spirit back but that ...  \n",
              "307  Randy comes to terms with his role in the COVID-19 outbreak as the on-going pandemic presents continued challenges to the citizens of South Park. The kids happily head back to school but nothing r...  \n",
              "308                                          The citizens of South ParQ are clamoring for the COVID-19 vaccine. A hilarious new militant group tries to stop the boys from getting their teacher vaccinated.  \n",
              "\n",
              "[309 rows x 2 columns]"
            ],
            "text/html": [
              "\n",
              "  <div id=\"df-61cc8796-2750-434e-9426-cdc5aa91c9ab\">\n",
              "    <div class=\"colab-df-container\">\n",
              "      <div>\n",
              "<style scoped>\n",
              "    .dataframe tbody tr th:only-of-type {\n",
              "        vertical-align: middle;\n",
              "    }\n",
              "\n",
              "    .dataframe tbody tr th {\n",
              "        vertical-align: top;\n",
              "    }\n",
              "\n",
              "    .dataframe thead th {\n",
              "        text-align: right;\n",
              "    }\n",
              "</style>\n",
              "<table border=\"1\" class=\"dataframe\">\n",
              "  <thead>\n",
              "    <tr style=\"text-align: right;\">\n",
              "      <th></th>\n",
              "      <th>Title</th>\n",
              "      <th>Description</th>\n",
              "    </tr>\n",
              "  </thead>\n",
              "  <tbody>\n",
              "    <tr>\n",
              "      <th>0</th>\n",
              "      <td>Cartman Gets an Anal Probe</td>\n",
              "      <td>While the boys are waiting for the school bus, Cartman explains the odd nightmare he had the previous night involving alien visitors.</td>\n",
              "    </tr>\n",
              "    <tr>\n",
              "      <th>1</th>\n",
              "      <td>Weight Gain 4000</td>\n",
              "      <td>When Cartman's environmental essay wins a national contest, America's sweetheart, Kathie Lee Gifford, comes to South Park to present the award.</td>\n",
              "    </tr>\n",
              "    <tr>\n",
              "      <th>2</th>\n",
              "      <td>Volcano</td>\n",
              "      <td>A weekend trip to experience the finer points of camping, fishing and blowing animals to smithereens is threatened by an erupting volcano.</td>\n",
              "    </tr>\n",
              "    <tr>\n",
              "      <th>3</th>\n",
              "      <td>Big Gay Al's Big Gay Boat Ride</td>\n",
              "      <td>When Stan discovers his new dog Sparky is gay, he becomes so confused he loses his will to play in the big Homecoming Football game against North Park.</td>\n",
              "    </tr>\n",
              "    <tr>\n",
              "      <th>4</th>\n",
              "      <td>An Elephant Makes Love to a Pig</td>\n",
              "      <td>Kyle's mom won't let him keep his new pet, an elephant because it's so huge. So the boys turn to Dr. Mephesto to genetically engineer a smaller elephant.</td>\n",
              "    </tr>\n",
              "    <tr>\n",
              "      <th>...</th>\n",
              "      <td>...</td>\n",
              "      <td>...</td>\n",
              "    </tr>\n",
              "    <tr>\n",
              "      <th>304</th>\n",
              "      <td>Turd Burglars</td>\n",
              "      <td>Kyle’s mom looks so good after her fecal transplant that everyone wants to get their hands on her goods. Cartman and the boys jump into the quest for the best microbiome.</td>\n",
              "    </tr>\n",
              "    <tr>\n",
              "      <th>305</th>\n",
              "      <td>Basic Cable</td>\n",
              "      <td>Scott Malkinson’s future with the new girl in his class depends on him getting the latest and greatest streaming platform. Scott’s dad works for the local cable company and refuses to move beyond ...</td>\n",
              "    </tr>\n",
              "    <tr>\n",
              "      <th>306</th>\n",
              "      <td>Christmas Snow</td>\n",
              "      <td>It's a bleak Christmas Season in South Park this year and it's all Santa's fault. He is single handedly stealing the joy from the holiday. The town just wants their Christmas Spirit back but that ...</td>\n",
              "    </tr>\n",
              "    <tr>\n",
              "      <th>307</th>\n",
              "      <td>The Pandemic Special</td>\n",
              "      <td>Randy comes to terms with his role in the COVID-19 outbreak as the on-going pandemic presents continued challenges to the citizens of South Park. The kids happily head back to school but nothing r...</td>\n",
              "    </tr>\n",
              "    <tr>\n",
              "      <th>308</th>\n",
              "      <td>South ParQ Vaccination Special</td>\n",
              "      <td>The citizens of South ParQ are clamoring for the COVID-19 vaccine. A hilarious new militant group tries to stop the boys from getting their teacher vaccinated.</td>\n",
              "    </tr>\n",
              "  </tbody>\n",
              "</table>\n",
              "<p>309 rows × 2 columns</p>\n",
              "</div>\n",
              "      <button class=\"colab-df-convert\" onclick=\"convertToInteractive('df-61cc8796-2750-434e-9426-cdc5aa91c9ab')\"\n",
              "              title=\"Convert this dataframe to an interactive table.\"\n",
              "              style=\"display:none;\">\n",
              "        \n",
              "  <svg xmlns=\"http://www.w3.org/2000/svg\" height=\"24px\"viewBox=\"0 0 24 24\"\n",
              "       width=\"24px\">\n",
              "    <path d=\"M0 0h24v24H0V0z\" fill=\"none\"/>\n",
              "    <path d=\"M18.56 5.44l.94 2.06.94-2.06 2.06-.94-2.06-.94-.94-2.06-.94 2.06-2.06.94zm-11 1L8.5 8.5l.94-2.06 2.06-.94-2.06-.94L8.5 2.5l-.94 2.06-2.06.94zm10 10l.94 2.06.94-2.06 2.06-.94-2.06-.94-.94-2.06-.94 2.06-2.06.94z\"/><path d=\"M17.41 7.96l-1.37-1.37c-.4-.4-.92-.59-1.43-.59-.52 0-1.04.2-1.43.59L10.3 9.45l-7.72 7.72c-.78.78-.78 2.05 0 2.83L4 21.41c.39.39.9.59 1.41.59.51 0 1.02-.2 1.41-.59l7.78-7.78 2.81-2.81c.8-.78.8-2.07 0-2.86zM5.41 20L4 18.59l7.72-7.72 1.47 1.35L5.41 20z\"/>\n",
              "  </svg>\n",
              "      </button>\n",
              "      \n",
              "  <style>\n",
              "    .colab-df-container {\n",
              "      display:flex;\n",
              "      flex-wrap:wrap;\n",
              "      gap: 12px;\n",
              "    }\n",
              "\n",
              "    .colab-df-convert {\n",
              "      background-color: #E8F0FE;\n",
              "      border: none;\n",
              "      border-radius: 50%;\n",
              "      cursor: pointer;\n",
              "      display: none;\n",
              "      fill: #1967D2;\n",
              "      height: 32px;\n",
              "      padding: 0 0 0 0;\n",
              "      width: 32px;\n",
              "    }\n",
              "\n",
              "    .colab-df-convert:hover {\n",
              "      background-color: #E2EBFA;\n",
              "      box-shadow: 0px 1px 2px rgba(60, 64, 67, 0.3), 0px 1px 3px 1px rgba(60, 64, 67, 0.15);\n",
              "      fill: #174EA6;\n",
              "    }\n",
              "\n",
              "    [theme=dark] .colab-df-convert {\n",
              "      background-color: #3B4455;\n",
              "      fill: #D2E3FC;\n",
              "    }\n",
              "\n",
              "    [theme=dark] .colab-df-convert:hover {\n",
              "      background-color: #434B5C;\n",
              "      box-shadow: 0px 1px 3px 1px rgba(0, 0, 0, 0.15);\n",
              "      filter: drop-shadow(0px 1px 2px rgba(0, 0, 0, 0.3));\n",
              "      fill: #FFFFFF;\n",
              "    }\n",
              "  </style>\n",
              "\n",
              "      <script>\n",
              "        const buttonEl =\n",
              "          document.querySelector('#df-61cc8796-2750-434e-9426-cdc5aa91c9ab button.colab-df-convert');\n",
              "        buttonEl.style.display =\n",
              "          google.colab.kernel.accessAllowed ? 'block' : 'none';\n",
              "\n",
              "        async function convertToInteractive(key) {\n",
              "          const element = document.querySelector('#df-61cc8796-2750-434e-9426-cdc5aa91c9ab');\n",
              "          const dataTable =\n",
              "            await google.colab.kernel.invokeFunction('convertToInteractive',\n",
              "                                                     [key], {});\n",
              "          if (!dataTable) return;\n",
              "\n",
              "          const docLinkHtml = 'Like what you see? Visit the ' +\n",
              "            '<a target=\"_blank\" href=https://colab.research.google.com/notebooks/data_table.ipynb>data table notebook</a>'\n",
              "            + ' to learn more about interactive tables.';\n",
              "          element.innerHTML = '';\n",
              "          dataTable['output_type'] = 'display_data';\n",
              "          await google.colab.output.renderOutput(dataTable, element);\n",
              "          const docLink = document.createElement('div');\n",
              "          docLink.innerHTML = docLinkHtml;\n",
              "          element.appendChild(docLink);\n",
              "        }\n",
              "      </script>\n",
              "    </div>\n",
              "  </div>\n",
              "  "
            ]
          },
          "metadata": {},
          "execution_count": 14
        }
      ],
      "source": [
        "# Creating a new episodes dataframe\n",
        "\n",
        "episodes = episodes[['Title', 'Description']]\n",
        "episodes"
      ]
    },
    {
      "cell_type": "markdown",
      "source": [
        "We are now ready to merge the two dataframes on their respective `Title` columns"
      ],
      "metadata": {
        "id": "6H5EHJEWnnqY"
      }
    },
    {
      "cell_type": "code",
      "execution_count": 15,
      "metadata": {
        "colab": {
          "base_uri": "https://localhost:8080/",
          "height": 354
        },
        "id": "QRgo9IVqCAaG",
        "outputId": "8ec2e7c9-2e2d-4718-ede8-a7a3f8809c01"
      },
      "outputs": [
        {
          "output_type": "execute_result",
          "data": {
            "text/plain": [
              "                             Title  \\\n",
              "0       Cartman Gets an Anal Probe   \n",
              "1                 Weight Gain 4000   \n",
              "2                          Volcano   \n",
              "3   Big Gay Al's Big Gay Boat Ride   \n",
              "4  An Elephant Makes Love to a Pig   \n",
              "\n",
              "                                                                                                                                                                                                      Line  \\\n",
              "0  At the bus stop. School days, school days, teacher's golden ru... Ah, damn it! My little brother's trying to follow me to school again. Eat banana. Ike, you can't come to school with me. [Ike Chor...   \n",
              "1  Mr. Garrison's classroom. Hey Stan, did you see that rainbow this morning? Yeah, it was huge. Ugh, I hate those things. Nobody hates rainbows. Yeah, what's there to hate about rainbows? Well, you ...   \n",
              "2  In front of Cartman's house. Jimbo, Ned, and the boys are waiting for Cartman. Now you be careful, Eric. The woods can be very dangerous. Okay, Mom. Ready to go hunting, Cartman? Yeah, my Uncle Ji...   \n",
              "3  Bus Stop. Hey, where's the school bus? We're gonna be late for football practice. A dog walks up to the boys. Hiya, Sparky. [Looking] Who's that? That's my new dog Sparky. He followed me to the bu...   \n",
              "4  Bus Stop. Hey Stan, where'd you get that black eye? Nothing, I mu-I mean, nowhere. Your sister beat you up again, huh? No! Eheh, you know, heh, your sister kicked your ass. She's just pissed off '...   \n",
              "\n",
              "                                                                                                                                                 Description  \n",
              "0                      While the boys are waiting for the school bus, Cartman explains the odd nightmare he had the previous night involving alien visitors.  \n",
              "1            When Cartman's environmental essay wins a national contest, America's sweetheart, Kathie Lee Gifford, comes to South Park to present the award.  \n",
              "2                 A weekend trip to experience the finer points of camping, fishing and blowing animals to smithereens is threatened by an erupting volcano.  \n",
              "3    When Stan discovers his new dog Sparky is gay, he becomes so confused he loses his will to play in the big Homecoming Football game against North Park.  \n",
              "4  Kyle's mom won't let him keep his new pet, an elephant because it's so huge. So the boys turn to Dr. Mephesto to genetically engineer a smaller elephant.  "
            ],
            "text/html": [
              "\n",
              "  <div id=\"df-f56a0a34-6039-474d-9bd9-85e0c34df04e\">\n",
              "    <div class=\"colab-df-container\">\n",
              "      <div>\n",
              "<style scoped>\n",
              "    .dataframe tbody tr th:only-of-type {\n",
              "        vertical-align: middle;\n",
              "    }\n",
              "\n",
              "    .dataframe tbody tr th {\n",
              "        vertical-align: top;\n",
              "    }\n",
              "\n",
              "    .dataframe thead th {\n",
              "        text-align: right;\n",
              "    }\n",
              "</style>\n",
              "<table border=\"1\" class=\"dataframe\">\n",
              "  <thead>\n",
              "    <tr style=\"text-align: right;\">\n",
              "      <th></th>\n",
              "      <th>Title</th>\n",
              "      <th>Line</th>\n",
              "      <th>Description</th>\n",
              "    </tr>\n",
              "  </thead>\n",
              "  <tbody>\n",
              "    <tr>\n",
              "      <th>0</th>\n",
              "      <td>Cartman Gets an Anal Probe</td>\n",
              "      <td>At the bus stop. School days, school days, teacher's golden ru... Ah, damn it! My little brother's trying to follow me to school again. Eat banana. Ike, you can't come to school with me. [Ike Chor...</td>\n",
              "      <td>While the boys are waiting for the school bus, Cartman explains the odd nightmare he had the previous night involving alien visitors.</td>\n",
              "    </tr>\n",
              "    <tr>\n",
              "      <th>1</th>\n",
              "      <td>Weight Gain 4000</td>\n",
              "      <td>Mr. Garrison's classroom. Hey Stan, did you see that rainbow this morning? Yeah, it was huge. Ugh, I hate those things. Nobody hates rainbows. Yeah, what's there to hate about rainbows? Well, you ...</td>\n",
              "      <td>When Cartman's environmental essay wins a national contest, America's sweetheart, Kathie Lee Gifford, comes to South Park to present the award.</td>\n",
              "    </tr>\n",
              "    <tr>\n",
              "      <th>2</th>\n",
              "      <td>Volcano</td>\n",
              "      <td>In front of Cartman's house. Jimbo, Ned, and the boys are waiting for Cartman. Now you be careful, Eric. The woods can be very dangerous. Okay, Mom. Ready to go hunting, Cartman? Yeah, my Uncle Ji...</td>\n",
              "      <td>A weekend trip to experience the finer points of camping, fishing and blowing animals to smithereens is threatened by an erupting volcano.</td>\n",
              "    </tr>\n",
              "    <tr>\n",
              "      <th>3</th>\n",
              "      <td>Big Gay Al's Big Gay Boat Ride</td>\n",
              "      <td>Bus Stop. Hey, where's the school bus? We're gonna be late for football practice. A dog walks up to the boys. Hiya, Sparky. [Looking] Who's that? That's my new dog Sparky. He followed me to the bu...</td>\n",
              "      <td>When Stan discovers his new dog Sparky is gay, he becomes so confused he loses his will to play in the big Homecoming Football game against North Park.</td>\n",
              "    </tr>\n",
              "    <tr>\n",
              "      <th>4</th>\n",
              "      <td>An Elephant Makes Love to a Pig</td>\n",
              "      <td>Bus Stop. Hey Stan, where'd you get that black eye? Nothing, I mu-I mean, nowhere. Your sister beat you up again, huh? No! Eheh, you know, heh, your sister kicked your ass. She's just pissed off '...</td>\n",
              "      <td>Kyle's mom won't let him keep his new pet, an elephant because it's so huge. So the boys turn to Dr. Mephesto to genetically engineer a smaller elephant.</td>\n",
              "    </tr>\n",
              "  </tbody>\n",
              "</table>\n",
              "</div>\n",
              "      <button class=\"colab-df-convert\" onclick=\"convertToInteractive('df-f56a0a34-6039-474d-9bd9-85e0c34df04e')\"\n",
              "              title=\"Convert this dataframe to an interactive table.\"\n",
              "              style=\"display:none;\">\n",
              "        \n",
              "  <svg xmlns=\"http://www.w3.org/2000/svg\" height=\"24px\"viewBox=\"0 0 24 24\"\n",
              "       width=\"24px\">\n",
              "    <path d=\"M0 0h24v24H0V0z\" fill=\"none\"/>\n",
              "    <path d=\"M18.56 5.44l.94 2.06.94-2.06 2.06-.94-2.06-.94-.94-2.06-.94 2.06-2.06.94zm-11 1L8.5 8.5l.94-2.06 2.06-.94-2.06-.94L8.5 2.5l-.94 2.06-2.06.94zm10 10l.94 2.06.94-2.06 2.06-.94-2.06-.94-.94-2.06-.94 2.06-2.06.94z\"/><path d=\"M17.41 7.96l-1.37-1.37c-.4-.4-.92-.59-1.43-.59-.52 0-1.04.2-1.43.59L10.3 9.45l-7.72 7.72c-.78.78-.78 2.05 0 2.83L4 21.41c.39.39.9.59 1.41.59.51 0 1.02-.2 1.41-.59l7.78-7.78 2.81-2.81c.8-.78.8-2.07 0-2.86zM5.41 20L4 18.59l7.72-7.72 1.47 1.35L5.41 20z\"/>\n",
              "  </svg>\n",
              "      </button>\n",
              "      \n",
              "  <style>\n",
              "    .colab-df-container {\n",
              "      display:flex;\n",
              "      flex-wrap:wrap;\n",
              "      gap: 12px;\n",
              "    }\n",
              "\n",
              "    .colab-df-convert {\n",
              "      background-color: #E8F0FE;\n",
              "      border: none;\n",
              "      border-radius: 50%;\n",
              "      cursor: pointer;\n",
              "      display: none;\n",
              "      fill: #1967D2;\n",
              "      height: 32px;\n",
              "      padding: 0 0 0 0;\n",
              "      width: 32px;\n",
              "    }\n",
              "\n",
              "    .colab-df-convert:hover {\n",
              "      background-color: #E2EBFA;\n",
              "      box-shadow: 0px 1px 2px rgba(60, 64, 67, 0.3), 0px 1px 3px 1px rgba(60, 64, 67, 0.15);\n",
              "      fill: #174EA6;\n",
              "    }\n",
              "\n",
              "    [theme=dark] .colab-df-convert {\n",
              "      background-color: #3B4455;\n",
              "      fill: #D2E3FC;\n",
              "    }\n",
              "\n",
              "    [theme=dark] .colab-df-convert:hover {\n",
              "      background-color: #434B5C;\n",
              "      box-shadow: 0px 1px 3px 1px rgba(0, 0, 0, 0.15);\n",
              "      filter: drop-shadow(0px 1px 2px rgba(0, 0, 0, 0.3));\n",
              "      fill: #FFFFFF;\n",
              "    }\n",
              "  </style>\n",
              "\n",
              "      <script>\n",
              "        const buttonEl =\n",
              "          document.querySelector('#df-f56a0a34-6039-474d-9bd9-85e0c34df04e button.colab-df-convert');\n",
              "        buttonEl.style.display =\n",
              "          google.colab.kernel.accessAllowed ? 'block' : 'none';\n",
              "\n",
              "        async function convertToInteractive(key) {\n",
              "          const element = document.querySelector('#df-f56a0a34-6039-474d-9bd9-85e0c34df04e');\n",
              "          const dataTable =\n",
              "            await google.colab.kernel.invokeFunction('convertToInteractive',\n",
              "                                                     [key], {});\n",
              "          if (!dataTable) return;\n",
              "\n",
              "          const docLinkHtml = 'Like what you see? Visit the ' +\n",
              "            '<a target=\"_blank\" href=https://colab.research.google.com/notebooks/data_table.ipynb>data table notebook</a>'\n",
              "            + ' to learn more about interactive tables.';\n",
              "          element.innerHTML = '';\n",
              "          dataTable['output_type'] = 'display_data';\n",
              "          await google.colab.output.renderOutput(dataTable, element);\n",
              "          const docLink = document.createElement('div');\n",
              "          docLink.innerHTML = docLinkHtml;\n",
              "          element.appendChild(docLink);\n",
              "        }\n",
              "      </script>\n",
              "    </div>\n",
              "  </div>\n",
              "  "
            ]
          },
          "metadata": {},
          "execution_count": 15
        }
      ],
      "source": [
        "# Merging two dataframes into SP_df dataframe\n",
        "\n",
        "SP_df = pd.merge(lines, episodes, left_on='Title', right_on='Title')\n",
        "SP_df.head()"
      ]
    },
    {
      "cell_type": "code",
      "execution_count": 16,
      "metadata": {
        "colab": {
          "base_uri": "https://localhost:8080/"
        },
        "id": "S33vx6W0CAaG",
        "outputId": "ee38ebb9-b727-470e-eba4-a0bc4a7d3c06"
      },
      "outputs": [
        {
          "output_type": "execute_result",
          "data": {
            "text/plain": [
              "Title          0\n",
              "Line           0\n",
              "Description    0\n",
              "dtype: int64"
            ]
          },
          "metadata": {},
          "execution_count": 16
        }
      ],
      "source": [
        "# Checking for Nan values in new dataframe\n",
        "\n",
        "SP_df.isna().sum()"
      ]
    },
    {
      "cell_type": "code",
      "execution_count": 17,
      "metadata": {
        "colab": {
          "base_uri": "https://localhost:8080/"
        },
        "id": "3p5p18lACAaG",
        "outputId": "e6840ebd-aa25-408a-9ec1-cca690157957",
        "scrolled": false
      },
      "outputs": [
        {
          "output_type": "stream",
          "name": "stdout",
          "text": [
            "---- Episode Dialogue ----\n",
            "At the bus stop. School days, school days, teacher's golden ru... Ah, damn it! My little brother's trying to follow me to school again. Eat banana. Ike, you can't come to school with me. [Ike Chortles.] Yeah, go home you little dildo! Dude, don't call my brother a dildo! What's a dildo? Well, I don't know...[He faces Cartman and points at him.] and I'll bet Cartman doesn't know either! I know what it means! Well, what? I'm not telling you. What's a dildo, Kenny? (It's a plastic dick that goes in a vagina.) [The others laugh.] He-yeah, that's what Kyle's little brother is all right! [Kyle swings Ike by his feet, knocking Cartman down.] Ow! [Ike Laughs.] Dude, that kicks ass! Yeah, check this one out. Ready Ike? Kick the baby! Don't kick the baby. Kick the baby. He kicks Ike like a football, who lands, knocking down four mailboxes. Cartman yawns. Whoa, Cartman! Looks like you didn't get much sleep last night. That's 'cause I was having these... bogus nightmares. Really? What about? Well, I dreamt that I was lying in my bed... The dream sequence begins. ...in the dark, when all of a sudden this bright blue light filled the room. Through his window, one can see a spaceship land and its light stream in. Then slowly my bedroom door began to open... [A Visitor peeks inside.] ...and then the next thing I remember, I was being drug through a hallway. Weeaak! Then I was lying on a table... Cartman is laying face down, Visitors lower his pajamas. ...and these scary aliens wanted to operate on me. And they had big heads and big black eyes. Dude! Visitors! Totally! What? That wasn't a dream Cartman, those were Visitors! No, it was just a dream, my mom said so. Visitors are real. Yeah, they abduct people and they mutilate cows. Oh, shut up guys! You're just trying to make me scared. And it's not working. [Drives up and gets out of the car.] Hello there, children. [in unison] Hey, Chef. What's gonna be for lunch today, Chef? Well, today it's Salisbury steak with buttered noodles and a choice of green bean casserole or vegetable medley. Kick ass. Say, did any of you children see the alien space ship last night? [Surprised.] Huh? Yeah, fat boy saw it! Eh, no, that, that was just a dream. And I'm not fat, I'm big boned! Oh, was it the ones with the big long heads and the black eyes? Oh! They took him on their ship. Oh! [Quietly.] Did they give you an anal probe? Oh! What's an anal probe? That's when they put this big metal hoop-a-joop up yo' butt. Whoa! They gave you an anal probe Cartman? No! Uh-I mean, eh, why would they do that? Dude, they did, huh? Aliens stuck stuff up your ass! No! Eneh probe. Shut up, dildo! Well, I gotta get to the cafeteria. You children watch that fat boy now. He could be under alien control. Chef walks back to his car, there is a picture of a Visitor on his shirt with the word \"Believe\" written under it. Cartman goes catatonic as Chef drives off. Oh! We told you they were real Cartman. Sorry to hear about your ass. God damn it, they didn't do anything to my ass! It was just a dream! They start to file onto the bus. Why you walkin' so funny Cartman? Shut up! [Waddles by.] Oh foonuh bebe. No, Ike, go home. Eeeeee! This is it. This one's for the game. Purplor. Kick the baby! He kicks Ike, who flies through the first window of the school bus and crashes out the window on the other side. On the bus. Good morning, Miss Crabtree. SIT DOWN! WE\"RE RUNNING LATE! The bus pulls away, leaving Ike behind at the bus stop. Kyle is kneeling on the seat looking out the back window at him. Damn it, he's still there. Oh, don't worry about him. No, dude, if something happens to him, my parents are gonna blame me. SIT DOWN BACK THERE! AAAAAAH!! Yeah, whatever, ya fat bitch. WHAT DID YOU SAY? I said I have a bad itch. [calmly] Oh. [Gasps.] Oh, my God! Two Visitors are holding Ike between them [Turning to see.] Visitors! (Oh nooo!) Ike! [Kyle runs to the front of the bus.] STOP THE BUUUUUS! Ms. Crabtree, you have to stop this bus! SIT DOWN, KID! But I have to get off! DO YOU WANT AN OFFICE REFERRAL!? No. Then sit down! But I... Arrgghhh! Arrghh! Arrrggghhh! Kyle runs back to his seat. Ms. Crabtree has the last word. Cartman, are those the same Visitors you saw? Shut up you guys, it's not working. We have to do something! Well, we can't do anything for now, that fat bitch won't let us. WHAT DID YOU SAY?! Uh, I said that rabbits eat lettuce. Oh. Well, yes, they certainly do. she makes a hard right, flinging kids onto the left side of the bus. What am I going to do? My little brother's been abducted by aliens. [Stan farts.] You farted. [They laugh.] Heh, somebody's baking brownies. Behind the bus, a space craft rises into the sky, then zooms away. Farmer's grazing fields with a mutilated cow. That's the third cow this month. At this rate all my cattle are gonna die before the winter's through. The cows moo questioningly. This is nothing out of the unusual. Cows turn themselves inside out all the time. The cows shake their heads. People been saying they've been seeing UFO's around. UFO's? [Laughs.] Yeah, and black army CIA helicopters and trucks. That is the silliest thing I've ever heard. Helicopters fly by above him. What was that? That, that was a pigeon. What am I supposed to do, Barbrady? Just stand here and watch my cattle get mutilated one by one? The cows notice something and raise their heads. One Visitor waves a piece of hay and whistles. The cows start running away from them. Hey! My cattle! The \"Cattle Ranch\" sign falls down. You see? There is somethin' funny goin' on! There's nothing funny going on. I'll get those cows back. Mr. Garrison's class. And now children, our friend, Mr. Hat, is going to tell us about Christopher Columbus. That's right, Mr. Garrison. Christopher Columbus discovered America and was the Indians' best friend. He helped the Indians win their war against Fredrick Douglass and a freed the Hebrews from Napoleon and discovered France. And then in 1492 Columbus started a restaurant...[He is drowned out by Kyle's voice.] [Whispering.] Oh, man. I can't just sit here, I have to help my stupid brother, or I'll come home without him and my dad will start yelling, \"Where's your brother, Kyle?\" \"You weren't looking out for your little brother, Kyle?\" [Whispering.] Okay, okay, let's ditch school and go find him. [His voice is rising to an audible level.] \"You know he can't think on his own, Kyle!\" \"Brush and floss, Kyle!\" \"Where has that finger been, Kyle?\" Dude! Is there a problem, boys? Yes, Mr. Garrison, I have to go now. Oh, really, Kyle? What is it this time? Another prostate tumor? No, my little brother's been abducted by aliens. [Silence.] It's true! Ask Cartman, they gave him an anal probe. [Embarrassed.] Heh, heh, that's a, that's, that's a little joke. Heh, heh. [Kyle walks up to Mr. Garrison's desk.] Mr. Garrison, seriously, I have to go. Can I please be excused from class? I don't know, Kyle. Did you ask Mr. Hat? I don't want to ask Mr. Hat, I'm asking you! Oh I think you should ask Mr. Hat. Mr. Hat, may I please be excused from class? Well, Kyle, no!! You hear me?! You go to hell! You go to hell and you die! Hmm, guess you'll have to take your seat, Kyle. Damn it! Hah, hah. Mr. Hat yelled at you. Cartman farts fire. Poor Pip is stunned. Ow! My ass! The class gasps. Dude! Damn, Cartman! [Cartman farts fire again.] Uh... Ow! My ass! Dude, he's farting fire! It's the alien anal probe. It's shooting fire from Cartman's rectum! No, that was just a dream. Eric, do you need to sit in the corner until your flaming gas is under control? No, Mr. Garrison, I'm fine. Cartman farts fire again, setting Pip aflame. Pip runs around the room on fire. Train station. Cows flock in from all around and stand in line, waiting to board the train out of town. Hey, you cows can't get on this train! This is a people train. You cows have no business on a people train, all right? 'Cause you're cows. The cows are all staring at the conductor. No, no, no. Don't try any of that cow hypnosis on me, all right? 'Cause it's not gonna work. [Drives by with his lights flashing.] Hold it right there, cows! Cows split up and run off mooing. Come back here! Now then! [He pursues them.] Cafeteria So then I had bad, bad gas. Ya, seriously, killer. [Cartman farts fire.] Oh!! Whoa, I sure am hungry. How can you eat when you're farting fire? Shut up, dude, you're being totally immature. Hey, look, there's Wendy Testaburger. [Gasps.] Where? He finds himself looking right at her. An epiphany plays while hearts dance around Stan's head. Stan smiles, and it soon goes from ear to ear [Singing.] Stan wants to ki-iss Wendy Testabur-ger. Shut up, fat ass! I don't even like her! I'm not fat. And you obviously like her because you throw up every time she talks to you. I do not! Hi, guys. Hi, Wendy. Here, Stan. This is for you. [Wendy hands Stan a note.] Bleech! Eww! [She leaves.] [Their eyes follow her out.] Bye, Wendy. Dude, what does the note say? [He glances at it.] Holy crap! It says she wants to meet me at Stark's Pond after school. A look of wonder comes over his face. Whoa! Maybe you can kiss her. Or slip her the tongue. (Or look at the cat on her feet, then touch her.) [That gets his attention.] What? How do you know she has a cat? Silence, Kenny waits to see if the other guys got the message, then laughs. The rest follow, realizing what Kenny meant. Come on you guys, we need to figure out how to get out of school so we can get my little brother back. The cafeteria kitchen. Chef stands behind the counter, ready to serve food. The boys enter. Hello there, children. Hey, Chef. How are you doing? Bad. Why bad? Chef, have you ever had something happen to you, but nobody believed you? Oh, children, children, that's a problem we've all had to face at some time or another. Here, let me sing you a little song. It might clear things up. I'm gonna make love to you woman Gonna lay you down by the fire And caress your womanly body Make you moooooan and perspire Gonna-- Uh, Chef? --get those juices flowin'-- Chef. --we're makin' love gravy-- Chef! --love gravy, lovelovelovelovelove gravih! [shouts loud enough for Chef to hear] CHEF!!! Love luh--  Huh? Silence. Kenny nods towards Kyle. Do you feel better? No! Oh, come on children, what could be so bad? It's Salisbury steak day. Visitors took Kyle's baby brother. What?! Chef tosses a food tray aside and runs to the other side of the counter. What the hell do you think you're doing in school eatin' Salisbury steak?! Go find him, damn it! Mr. Garrison won't let us out of school. He thinks we're making it up. You are making it up. Cartman farts more fire, the anal probe pops out, moves around and puts its metal arms on its hip, looking annoyed at Cartman's determination that it didn't happen. Whoa! The probe goes back into Cartman's ass. What? That was cool! It's uh some kind of symbiotic, metamorphosis device. Cartman turns about so Chef can check out the probe. This could mean the Visitors want to communicate with us. [Turning to face Chef, testily.] Oh, I see. Now you're going to join in on the little joke huh? It's no joke, children, this is big! Please, Chef, if I don't get out of school and get my little brother back from the aliens, my parents are gonna disown me. Uuh, hold on now, hold on now. [To himself.] Uhyouyouyou you gotta help the children. Oh, you guys sure are going a long ways to try and scare me. I want my Salisbury steak! [Pulling on the fire alarm] Fire drill! Fire drill! Everybody out! [To the boys.] Okay children, this is your chance! Killer! Thanks, Chef. Mahahahahan oh man, first contact with the alien Visitors. I've got to get myself ready. The boys' neighborhood. [Singing.]  We got out of school, No more school today, We got out of school... Cartman, interrupting the song with a fiery fart. Oh!! You guys, my ass, seriously..! Okay, Cartman, you can stop farting fire now. I would if I could, you son of a bitch! Okay, so how do we get my little brother back? Uh—Would you stop going on about your little brother? I know it was just a dream, I know I didn't have an anal probe, and I know that I'm not under alien control! a radio wave strikes Cartman and he gets big blushy cheeks and starts to sing. I love to singa, About the moona and June-a and the springa, I love to singa, About a sky of blue-a or a tea for two-a... A second radio wave reverts him to normal and all is quiet. Dogs bark in the background. What the hell was that? He is under alien control. That thing in his butt is linked up to the Visitors! Ah, son of a bitch! You guys, shut up. I'm not under alien control. Kyle yells into Cartman's ear. His voice echoes. Hey! Uh... If you Visitors can hear me- The voice echoes in Cartman's head. Hey... -bring me back my little brother, God damnit! Ow! [Faces Kyle.] That hurts, you buttlicker! Stan notices a spaceship hovering overhead. Kyle, look! It's them. Give me back my brother! Kyle throws a rock at the spaceship. It fires back with a flash of light, hitting Kenny and knocking him into the road. Oh my God! They've killed Kenny! You bastards! Come back here! Coomme baack! The spaceship leaves. Damn it, we were so close! Hey look, [Kenny gets up.] I think Kenny's okay. (Don't worry, I'm alright. Argh!) The fleeing cows run over Kenny. Owww. [He gets up again.] (Nope, I'm all fine. Agh!) Officer Barbrady mows him down with his police cruiser. Kenny ends up along the curb, lifeless. The boys approach. Wow, poor Kenny. Now do you believe us, Cartman? No! Cartman, they killed Kenny! He's not dead. Dude, Kenny is dead! Stan picks up a stick and hits Kenny's bloody body. See? Shut up, you guys. He's dead, Cartman! Kyle pulls Kenny's head off his body. God damn it, I didn't have an anal probe! [He walks off.] Screw you guys, I'm goin' home. Go on and go home, you fat chicken! [Off screen.] Dildo! You're all I have left, Stan. Sorry, dude. I gotta go meet Wendy Testaburger. You can't! Poor Ike must be so scared, up there all alone. You gotta help me, dude! Rats feast upon Kenny's body. Dude, like Chef says, I've gotta get a piece of lovin' while the gettin's hot. [He hurries away.] Rats drag Kenny's head off. Rats. Cartman's house. Hello, Eric. Hi, Mom. How are you doing? Well, I'm pissed off! Here, I made you powdered donut pancake surprise. I don't want powdered donut pancake surprise. All the kids at school call me fat! You're not fat, you're big boned. That's what I said. You can have an eensy weensy bit, can't you? No! Just a weensy eensy woo woo? No, leave me alone mom! [He walks past her.] How about a nice chocolate chicken pot pie, then? [He stops in his tracks.] What? Well, that does sound pretty good. He returns to sit on the sofa while his mom goes off to get the pie. Uh, Mom? Yes, hon? If anybody calls or comes over, I'm not here, okay? Sure, hon. You want some Cheesy Poofs, too? Cartman is in disbelief she even asked. Yeah, I want Cheesy Poofs. Stark's Pond. Kyle decided to join Stan. Well, it looks like she's not going to show up, Stan. Let's go look for the Visitors now. But her note said she'd be here. Wendy appears out of nowhere. Hi, Stan. Bleech! Eww! You can't talk to Stan, Wendy. He throws up when you do. But why, Stan? Stan tries to hold it in. Bleech! Eww! Look, can you guys just get down to business so we can go find my little brother? [Turns to Kyle.] Huh? Just make sweet love down by the fire. What happened to your little brother? Cartman's house. Cartman is on the sofa watching TV. As the reports of UFO sightings increase, more mysterious crop circle patterns are appearing in fields all around South Park. These crop circles, when viewed from above, form strange patterns. A plane circles around a field with odd patterns on it, and a cameraman pans out to reveal the outline of Cartman. Hey, that kind of looks like... Tom Selleck. Could it be that aliens are trying to make contact with us, here on Earth? Meow. Noticing Mr. Kitty eyeing his pot pie. No, Kitty, this is mah pot pie. Meow. No, Kitty, you bad kitt--! Meow. No, Kitty, it's mah pot pie! Kitty hisses. Mom! Kitty's being a dildo! Liane peeks in suggestively. Well, then. I know a certain kitty-kitty who's sleeping with Mommy tonight. [Confused.] What? Stark's Pond. Kyle is explaining what happened to his little brother. ...and now I have to go home without him and my parents are going to have me killed. Well, why don't you go get the fat kid? Why? Well, if the fat kid has something implanted in his ass, maybe the Visitors are using him as part of their plan. You should use the fat kid as bait to bring them back. Hey. You're right, Wendy. Come on, Stan, we have to go get Cartman. [He moves out.] Come on, Stan. [She walks past him, following Kyle.] Bleech! Eww! [She walks away.] Hey, wait. When do I get to make sweet love? A bird flies into his puke and starts waddling around in it. Cartman's House, a short time later. Meow. No, Kitty, you can't have any! Meow. No, Kitty, this is mah pot pie! Bad Kitty--! Cartman farts fire, setting the cat ablaze. Eh, 'scuse me, Kitty. Liane enters the room with Kyle, Stan, and Wendy. Eric, look who's here. Dude, weak mom. Come on Eric, we can go play at the bus stop. I can't, my mom said... That's okay, Eric, I think you need to go spend time with your little friends. [Quietly.] But mom, I don't want to spend time with my little friends-- [Stern.] Don't be difficult, Eric! Now, you go out and play in the fun snow. God damn it! Mr. Kitty then runs by in flames. Forest at night. Cartman's right foot is tied to a tree. You guys, I have to get home. Don't be such a fraidy-cat, Cartman. This rope will make sure they can't take you on board again. Cartman tugs his foot testing the rope. Oh, man, this sucks. How come the Visitors aren't coming for him? I think we have to signal them somehow. [Cartman farts fire.] Ow! Hey, he's like Rudolph. Yeah! All you have to do is fart some more, Cartman, and the Visitors are sure to come! Really? Uh, I don't think I have to fart anymore tonight. Sure you do! Come on Cartman, fart! I don't wanna. [To Kyle and Wendy.] He can't hold it in forever. Fart, damn you! Okay, that's does it! Now listen! Why is it that everything today has involved things either going in or coming out of my ass?! Farts. An anal probe comes out of his butt and expands. I'm sick of it! It's completely immature. Hey, it's happening again. The probe is now a large satellite dish. Whoa, look at that. Now, do you believe us, Cartman? You guys can't scare me! I know you're making it all up. Cartman, there's a 80-foot satellite dish sticking out of your ass! Sure, you guys, what-ever. The dish sends a radio signal out to space. Chef's yard. He's sitting in a lawn chair with a can of ZOOP in his hand. An Igloo cooler is next to him. Oh, boy. The aliens are going to make first contact. Hey, down here, we are ready for your wisdom! [He looks at his watch.] And you've only got 20 minutes before Sanford and Son is on. Forest. You guys, I am seriously getting pissed off right now! I know there is no such things as aliens! Three small ships descend, followed by a mother-ship. Oh, God damn it! [Driving by, he stops.] What the? I tell you, there's some crazy stuff going on in this town. You can say that again, Mr. Garrison. Come down here, you stinking aliens! [Three Visitors appear.] Uh, uh... Go on, Kyle, ask 'em for your little brother back. Vi, Visitors, this morning you took my brother, Ike. He's the little freckled kid that looks like a football. At first, I was happy you took him away. But I've learned something today. That having a little brother... i- is a pretty special thing. Yeah. Ah, heck, Mr. Visitors, I'm just a kid all alone in this crazy world, but if you could find it in your hearts or whatever you have, to give my brother back to me, it sure would make my life brighter again. That was beautiful, dude. Did it work? No, they're leaving. Hey, you scrawny-eyed shits, what the fuck is wrong with you?! You must be some kind of fucking asshole to be able to ignore a crying child! Whoa, dude! You know what you fuckers like! You like to fuck! And shit! And fuck! And fuck! And fuck! And fuck! Hey Wendy, what's a fuck? [She shrugs.] The spaceship door opens. Help me doy tair. Ike, jump down, now! For the love of God, Ike, jump! Don't hurt me. A herd of cows runs away from the ship, but a trio of Visitors stops them in their tracks. The cows moo and quiver with fear until the middle Visitor raises its hand and addresses them. Moo... Moo...Moo...Moo... (Greetings, cows of Earth. We come in peace.) Moo?? (Really??) Come on, Ike! I promise I'll be nice to you from now on! Don't kick the baby. Moo moo, moo. Moo moo, moo. Moo. (We have experimented with all the beings of Earth, and we have learned that you are the most intelligent and wise.) What the hell are they talking about? Moo moo? (Why did you turn some of us inside out?) Moo moo, moo. Moo. (Oh, that was Carl's fault. He's new.) Moo...moo...moo. (Yeah, sorry about that. My bad!) Ike! Moo moo. Moo moo. Moo. (Take this device. It is a gift from us.) The cows look at each other and moo in agreement. Ike! Do your impersonation of David Caruso's career! It's my turn! Ike dives from the ship into the snow. The satellite goes back into Cartman's butt. Moo moo. Moo moo. (Farewell cows, peace be with you!) The Visitors disappear. The spaceship pulls Cartman up but the rope keeps him grounded. You guys, get me down from here! He farts fire, burning the rope. The tractor beam takes him into the ship and the spaceship flies away. Ow! Help! Sons o' bitches! Dildos! Phew, I'm sure glad that's over with. Yeah. Boy, am I glad to see you, Ike. Oh, he fly out the sky. Chef's yard. Wait, where are you going, alien Visitors? Come back! A blonde arrives with a brunette. Well, Chef, where's this amazing thing you were going to show us. Well, it's in the bedroom, ladies. Come on in. Forest. Come on, Ike, we can make it just in time for dinner. [They leave.] Thanks for your help, Wendy. Whatever, dude. Hey, I didn't throw up. Cool! She's happy now. They both look at each other like they're going to kiss, and that music plays again. Wendy puckers up. Stan gets queasy. Bleech! He barfs right on her face. Eww! Sorry. Hey, look. A French fry. Cool. And what is that? I think it's part of a Cheesy Poof. Chef's song starts up and the camera pulls away. Hey, what's that? That's uummm... a hamburger from... that's from, like, two days ago. Oh hey, what about that? I don't know what the hell that is... Bus Stop. Gee, the bus'll be here any minute, and Cartman still isn't around. Yeah, we're running out of friends. I wonder what that thing was that the Visitors gave the cows. Cows out on a pasture. Mooo. Ha ha cows! I've got you cornered. Let's see you get away now. One of the cows steps on the plate on the Visitor's device. A beam from the device strikes Officer Barbrady. His glasses fly off, and cheeks become rosy. I love to sing-a, About the moon-a and the June-a and the Spring-a, I love to sing-a, About a sky of blue-a or a tea for two-a... The cows begin hopping about gleefully. Bus Stop. Cartman falls out of the sky, landing on his side next to Kyle and Stan. Puh! Oh, hey Cartman. Wow Cartman, the Visitors dropped you off just in time to go to school. Ah, man, I had this crazy nightmare last night. Really, what about? Well, I was standing out in a field, and I had this huge satellite dish sticking out of my butt. And then there was... hundreds of cows and aliens, and then I went up on the ship and Scott Baio gave me pinkeye. That wasn't a dream, Cartman. That really happened. [Sarcastically.] Oh right, [Matter of factly.] why don't I have pinkeye then? Cartman, you do have pinkeye! Ahh, son of a bitch!\n",
            "---- Summary ----\n",
            "While the boys are waiting for the school bus, Cartman explains the odd nightmare he had the previous night involving alien visitors.\n"
          ]
        }
      ],
      "source": [
        "# Renaming our Line and Description columns\n",
        "SP_df.rename(columns={'Line': 'Text', \"Description\": \"Summary\" }, inplace=True)\n",
        "\n",
        "# Viewing exxample of dialogue and its associated summary\n",
        "print(\"---- Episode Dialogue ----\")\n",
        "print(SP_df.Text[0])\n",
        "print(\"---- Summary ----\")\n",
        "print(SP_df.Summary[0])"
      ]
    },
    {
      "cell_type": "markdown",
      "source": [
        "We now have a dataframe that we can use for our text summarization modeling. We will start by using an extractive approach using Gensim."
      ],
      "metadata": {
        "id": "qDpkFV1vrHq0"
      }
    },
    {
      "cell_type": "markdown",
      "metadata": {
        "id": "-ttZlzAACAaG"
      },
      "source": [
        "#  Gensim TextRank Model "
      ]
    },
    {
      "cell_type": "markdown",
      "metadata": {
        "id": "ye7qTq8qCAaJ"
      },
      "source": [
        "Text summarization can broadly be divided into two categories: **Extractive Summarization** and **Abstractive Summarization**. Extractive summarization compiles the most important words, sentences or pharases from a corpus into a concise summary. This approach does not neccessarily aim to understand the meaning of the text, therefore the summary that is produced is just a subset of the original text. Alternatively, abstractive summarization models use more advanced NLP techniques to understand semantics and structure and can therefore have new phrases and sentences that are not contained in the original text.\n",
        "\n",
        "We will take an iterative approach to our model building by first starting with an extractive summarization model using TextRank from Gensim, which we will use as our baseline. We can then work our way to more advanced NLP models for abstractive summarization. "
      ]
    },
    {
      "cell_type": "markdown",
      "source": [
        "Gensim TextRank summarizer is an unsupervised algorithm that summarizes text by extracting the most important sentences from it. It takes two arguments, the first will be a provided text while the second will be a ratio which specifies what fraction of sentences in the original text should be returned as output. \n",
        "\n",
        "We would like to match our output as closely as possible to the provided summary (our target variable). Let's find the average ratio of length of summary to length of text in our dataframe.\n",
        "\n"
      ],
      "metadata": {
        "id": "2N3fiazCreSN"
      }
    },
    {
      "cell_type": "code",
      "execution_count": 18,
      "metadata": {
        "colab": {
          "base_uri": "https://localhost:8080/"
        },
        "id": "O9s0Fls8CAaG",
        "outputId": "3750c2f5-1f97-4975-f241-03604e787dad"
      },
      "outputs": [
        {
          "output_type": "execute_result",
          "data": {
            "text/plain": [
              "0.005029402376588137"
            ]
          },
          "metadata": {},
          "execution_count": 18
        }
      ],
      "source": [
        "# Fining the ratio of text to summary\n",
        "\n",
        "ratios = []\n",
        "for i in range(len(SP_df)):\n",
        "    ratios.append(len(SP_df['Summary'][i]) / len(SP_df['Text'][i]))\n",
        "SP_df['Ratio'] = ratios\n",
        "SP_df.Ratio.mean()"
      ]
    },
    {
      "cell_type": "markdown",
      "source": [
        "The length of our summary is .05% of the length of our dialogue, which is very small. Let's see how our textrank model performs."
      ],
      "metadata": {
        "id": "aWa8wA2Swdv-"
      }
    },
    {
      "cell_type": "code",
      "execution_count": 19,
      "metadata": {
        "colab": {
          "base_uri": "https://localhost:8080/"
        },
        "id": "2xZIhf0xRi0u",
        "outputId": "6573c3bc-e5d0-448a-ef44-43058d2a19d3"
      },
      "outputs": [
        {
          "output_type": "stream",
          "name": "stdout",
          "text": [
            "Looking in indexes: https://pypi.org/simple, https://us-python.pkg.dev/colab-wheels/public/simple/\n",
            "Requirement already satisfied: gensim==3.8.3 in /usr/local/lib/python3.9/dist-packages (3.8.3)\n",
            "Requirement already satisfied: numpy>=1.11.3 in /usr/local/lib/python3.9/dist-packages (from gensim==3.8.3) (1.24.2)\n",
            "Requirement already satisfied: scipy>=0.18.1 in /usr/local/lib/python3.9/dist-packages (from gensim==3.8.3) (1.10.1)\n",
            "Requirement already satisfied: six>=1.5.0 in /usr/local/lib/python3.9/dist-packages (from gensim==3.8.3) (1.16.0)\n",
            "Requirement already satisfied: smart-open>=1.8.1 in /usr/local/lib/python3.9/dist-packages (from gensim==3.8.3) (6.3.0)\n"
          ]
        }
      ],
      "source": [
        "#Importing gensim 3.8.3\n",
        "\n",
        "!pip install gensim==3.8.3"
      ]
    },
    {
      "cell_type": "code",
      "execution_count": 20,
      "metadata": {
        "id": "CRMZTl4MCAaG"
      },
      "outputs": [],
      "source": [
        "# Importing gensim\n",
        "import gensim\n",
        "\n",
        "# Defining textrank function\n",
        "def textrank(corpus, ratio=None):        \n",
        "    lst_summaries = [gensim.summarization.summarize(txt,  \n",
        "                     ratio=ratio) for txt in corpus]    \n",
        "    return lst_summaries\n",
        "\n",
        "# Apply the function to corpus\n",
        "SP_df['predicted'] = textrank(corpus=SP_df.Text, ratio=.005)"
      ]
    },
    {
      "cell_type": "code",
      "execution_count": 21,
      "metadata": {
        "colab": {
          "base_uri": "https://localhost:8080/"
        },
        "id": "bb9nPmIYCAaH",
        "outputId": "95e1b25e-05ef-4fb0-f8ca-4a385f521c0f"
      },
      "outputs": [
        {
          "output_type": "stream",
          "name": "stdout",
          "text": [
            "-----------------Summary----------------\n",
            "While the boys are waiting for the school bus, Cartman explains the odd nightmare he had the previous night involving alien visitors.\n",
            "-----------------Predicted--------------\n",
            "(It's a plastic dick that goes in a vagina.) [The others laugh.] He-yeah, that's what Kyle's little brother is all right!\n",
            "I can't just sit here, I have to help my stupid brother, or I'll come home without him and my dad will start yelling, \"Where's your brother, Kyle?\" \"You weren't looking out for your little brother, Kyle?\" [Whispering.] Okay, okay, let's ditch school and go find him.\n",
            "All you have to do is fart some more, Cartman, and the Visitors are sure to come!\n",
            "\n",
            "\n",
            "-----------------Summary----------------\n",
            "When Cartman's environmental essay wins a national contest, America's sweetheart, Kathie Lee Gifford, comes to South Park to present the award.\n",
            "-----------------Predicted--------------\n",
            "Children, as you all know, Miss Kathie Lee Gifford will be in South Park to present the award to some kid for an essay.\n",
            "Mr. Garrison's Bed. He hears Kathie Lee singing in his head: \"If they could see me now, that little crowd of mine, and eating fancy chow...\" He wakes up startled.\n",
            "\n",
            "\n",
            "-----------------Summary----------------\n",
            "A weekend trip to experience the finer points of camping, fishing and blowing animals to smithereens is threatened by an erupting volcano.\n",
            "-----------------Predicted--------------\n",
            "Jimbo, Ned, and the boys are waiting for Cartman.\n",
            "Looks like about a .46 gauge, Ned. It's coming right for us!\n",
            "\n",
            "\n",
            "-----------------Summary----------------\n",
            "When Stan discovers his new dog Sparky is gay, he becomes so confused he loses his will to play in the big Homecoming Football game against North Park.\n",
            "-----------------Predicted--------------\n",
            "Yeah dude, I think your dog is gay.\n",
            "Well, how about Stan, our little South Park quarterback star?\n",
            "Hey, speaking of pounding ass, here comes Stan's little homo dog.\n",
            "\n",
            "\n",
            "-----------------Summary----------------\n",
            "Kyle's mom won't let him keep his new pet, an elephant because it's so huge. So the boys turn to Dr. Mephesto to genetically engineer a smaller elephant.\n",
            "-----------------Predicted--------------\n",
            "(Hey you guys, I talked to Garrison and he told me that they're almost the same.) Well yeah, but pigs aren't smart, like elephants.\n",
            "Oh yeah, I bet I can genetically clone a whole human being before you crossbreed and elephant and a pig.\n",
            "\n",
            "\n"
          ]
        }
      ],
      "source": [
        "# Comparing first 5 summaries\n",
        "\n",
        "for i in range(5):\n",
        "  print(\"-----------------Summary----------------\")\n",
        "  print(SP_df.Summary[i])\n",
        "  print('-----------------Predicted--------------')\n",
        "  print(SP_df.predicted[i])\n",
        "  print('\\n')"
      ]
    },
    {
      "cell_type": "markdown",
      "source": [
        "Viewing the summaries above (sorry for the language) you can see that the textrank algorithm did a fairly good job at capturing the information in the dialogue on certain occasions while on others it did not. But for an unsupervised extractive approach to summarization the information contained in the output is pretty impressive.\n",
        "\n",
        "For this analysis we will be using ROUGE score to measure just how well our models produced a viable summary. In particular we will be using ROUGE-1, ROUGE-2 and ROUGE-L.\n",
        "\n",
        "ROUGE-1 refers to the overlap of unigram (each word) between the system and reference summaries.\n",
        "\n",
        "ROUGE-2 refers to the overlap of bigrams between the system and reference summaries.\n",
        "\n",
        "ROUGE-L: Takes into account sentence level structure similarity naturally and identifies longest co-occurring in sequence n-grams automatically."
      ],
      "metadata": {
        "id": "I3HreuoPzTeW"
      }
    },
    {
      "cell_type": "code",
      "execution_count": 22,
      "metadata": {
        "colab": {
          "base_uri": "https://localhost:8080/"
        },
        "id": "z6JWZ8LS7URW",
        "outputId": "7fb60f8f-079b-4ff3-dad3-0f87e2c03c68"
      },
      "outputs": [
        {
          "output_type": "stream",
          "name": "stdout",
          "text": [
            "Looking in indexes: https://pypi.org/simple, https://us-python.pkg.dev/colab-wheels/public/simple/\n",
            "Requirement already satisfied: rouge in /usr/local/lib/python3.9/dist-packages (1.0.1)\n",
            "Requirement already satisfied: six in /usr/local/lib/python3.9/dist-packages (from rouge) (1.16.0)\n"
          ]
        }
      ],
      "source": [
        "# Installing ROUGE\n",
        "!pip install rouge"
      ]
    },
    {
      "cell_type": "code",
      "execution_count": 23,
      "metadata": {
        "id": "a1LbiqmZCAaH"
      },
      "outputs": [],
      "source": [
        "\n",
        "import rouge\n",
        "score_1 = []\n",
        "score_2 = []\n",
        "score_L = []\n",
        "\n",
        "for i in range(len(SP_df)):   \n",
        "    rouge_score = rouge.Rouge()    \n",
        "    scores = rouge_score.get_scores(SP_df.Summary[i], SP_df.predicted[i], avg=True)       \n",
        "    score_1.append(round(scores['rouge-1']['f'], 2))\n",
        "    score_2.append(round(scores['rouge-2']['f'], 2))\n",
        "    score_L.append(round(scores['rouge-l']['f'], 2))    \n",
        "    \n",
        "SP_df[\"Score_1\"] = score_1\n",
        "SP_df['Score_2'] = score_2\n",
        "SP_df['Score_L'] = score_L"
      ]
    },
    {
      "cell_type": "code",
      "execution_count": 24,
      "metadata": {
        "colab": {
          "base_uri": "https://localhost:8080/",
          "height": 597
        },
        "id": "0hvsJzBoCAaH",
        "outputId": "7b8cd8c0-17ea-4ba8-9dc2-22329321aff4"
      },
      "outputs": [
        {
          "output_type": "execute_result",
          "data": {
            "text/plain": [
              "                             Title  \\\n",
              "0       Cartman Gets an Anal Probe   \n",
              "1                 Weight Gain 4000   \n",
              "2                          Volcano   \n",
              "3   Big Gay Al's Big Gay Boat Ride   \n",
              "4  An Elephant Makes Love to a Pig   \n",
              "\n",
              "                                                                                                                                                                                                      Text  \\\n",
              "0  At the bus stop. School days, school days, teacher's golden ru... Ah, damn it! My little brother's trying to follow me to school again. Eat banana. Ike, you can't come to school with me. [Ike Chor...   \n",
              "1  Mr. Garrison's classroom. Hey Stan, did you see that rainbow this morning? Yeah, it was huge. Ugh, I hate those things. Nobody hates rainbows. Yeah, what's there to hate about rainbows? Well, you ...   \n",
              "2  In front of Cartman's house. Jimbo, Ned, and the boys are waiting for Cartman. Now you be careful, Eric. The woods can be very dangerous. Okay, Mom. Ready to go hunting, Cartman? Yeah, my Uncle Ji...   \n",
              "3  Bus Stop. Hey, where's the school bus? We're gonna be late for football practice. A dog walks up to the boys. Hiya, Sparky. [Looking] Who's that? That's my new dog Sparky. He followed me to the bu...   \n",
              "4  Bus Stop. Hey Stan, where'd you get that black eye? Nothing, I mu-I mean, nowhere. Your sister beat you up again, huh? No! Eheh, you know, heh, your sister kicked your ass. She's just pissed off '...   \n",
              "\n",
              "                                                                                                                                                     Summary  \\\n",
              "0                      While the boys are waiting for the school bus, Cartman explains the odd nightmare he had the previous night involving alien visitors.   \n",
              "1            When Cartman's environmental essay wins a national contest, America's sweetheart, Kathie Lee Gifford, comes to South Park to present the award.   \n",
              "2                 A weekend trip to experience the finer points of camping, fishing and blowing animals to smithereens is threatened by an erupting volcano.   \n",
              "3    When Stan discovers his new dog Sparky is gay, he becomes so confused he loses his will to play in the big Homecoming Football game against North Park.   \n",
              "4  Kyle's mom won't let him keep his new pet, an elephant because it's so huge. So the boys turn to Dr. Mephesto to genetically engineer a smaller elephant.   \n",
              "\n",
              "      Ratio  \\\n",
              "0  0.005584   \n",
              "1  0.006676   \n",
              "2  0.006777   \n",
              "3  0.006211   \n",
              "4  0.006620   \n",
              "\n",
              "                                                                                                                                                                                                 predicted  \\\n",
              "0  (It's a plastic dick that goes in a vagina.) [The others laugh.] He-yeah, that's what Kyle's little brother is all right!\\nI can't just sit here, I have to help my stupid brother, or I'll come hom...   \n",
              "1  Children, as you all know, Miss Kathie Lee Gifford will be in South Park to present the award to some kid for an essay.\\nMr. Garrison's Bed. He hears Kathie Lee singing in his head: \"If they could...   \n",
              "2                                                                                          Jimbo, Ned, and the boys are waiting for Cartman.\\nLooks like about a .46 gauge, Ned. It's coming right for us!   \n",
              "3                                    Yeah dude, I think your dog is gay.\\nWell, how about Stan, our little South Park quarterback star?\\nHey, speaking of pounding ass, here comes Stan's little homo dog.   \n",
              "4  (Hey you guys, I talked to Garrison and he told me that they're almost the same.) Well yeah, but pigs aren't smart, like elephants.\\nOh yeah, I bet I can genetically clone a whole human being befo...   \n",
              "\n",
              "   Score_1  Score_2  Score_L  \n",
              "0     0.09     0.00     0.09  \n",
              "1     0.26     0.16     0.23  \n",
              "2     0.10     0.00     0.05  \n",
              "3     0.11     0.00     0.08  \n",
              "4     0.16     0.00     0.16  "
            ],
            "text/html": [
              "\n",
              "  <div id=\"df-54d28958-f9ec-4d55-858b-f6b2710927f9\">\n",
              "    <div class=\"colab-df-container\">\n",
              "      <div>\n",
              "<style scoped>\n",
              "    .dataframe tbody tr th:only-of-type {\n",
              "        vertical-align: middle;\n",
              "    }\n",
              "\n",
              "    .dataframe tbody tr th {\n",
              "        vertical-align: top;\n",
              "    }\n",
              "\n",
              "    .dataframe thead th {\n",
              "        text-align: right;\n",
              "    }\n",
              "</style>\n",
              "<table border=\"1\" class=\"dataframe\">\n",
              "  <thead>\n",
              "    <tr style=\"text-align: right;\">\n",
              "      <th></th>\n",
              "      <th>Title</th>\n",
              "      <th>Text</th>\n",
              "      <th>Summary</th>\n",
              "      <th>Ratio</th>\n",
              "      <th>predicted</th>\n",
              "      <th>Score_1</th>\n",
              "      <th>Score_2</th>\n",
              "      <th>Score_L</th>\n",
              "    </tr>\n",
              "  </thead>\n",
              "  <tbody>\n",
              "    <tr>\n",
              "      <th>0</th>\n",
              "      <td>Cartman Gets an Anal Probe</td>\n",
              "      <td>At the bus stop. School days, school days, teacher's golden ru... Ah, damn it! My little brother's trying to follow me to school again. Eat banana. Ike, you can't come to school with me. [Ike Chor...</td>\n",
              "      <td>While the boys are waiting for the school bus, Cartman explains the odd nightmare he had the previous night involving alien visitors.</td>\n",
              "      <td>0.005584</td>\n",
              "      <td>(It's a plastic dick that goes in a vagina.) [The others laugh.] He-yeah, that's what Kyle's little brother is all right!\\nI can't just sit here, I have to help my stupid brother, or I'll come hom...</td>\n",
              "      <td>0.09</td>\n",
              "      <td>0.00</td>\n",
              "      <td>0.09</td>\n",
              "    </tr>\n",
              "    <tr>\n",
              "      <th>1</th>\n",
              "      <td>Weight Gain 4000</td>\n",
              "      <td>Mr. Garrison's classroom. Hey Stan, did you see that rainbow this morning? Yeah, it was huge. Ugh, I hate those things. Nobody hates rainbows. Yeah, what's there to hate about rainbows? Well, you ...</td>\n",
              "      <td>When Cartman's environmental essay wins a national contest, America's sweetheart, Kathie Lee Gifford, comes to South Park to present the award.</td>\n",
              "      <td>0.006676</td>\n",
              "      <td>Children, as you all know, Miss Kathie Lee Gifford will be in South Park to present the award to some kid for an essay.\\nMr. Garrison's Bed. He hears Kathie Lee singing in his head: \"If they could...</td>\n",
              "      <td>0.26</td>\n",
              "      <td>0.16</td>\n",
              "      <td>0.23</td>\n",
              "    </tr>\n",
              "    <tr>\n",
              "      <th>2</th>\n",
              "      <td>Volcano</td>\n",
              "      <td>In front of Cartman's house. Jimbo, Ned, and the boys are waiting for Cartman. Now you be careful, Eric. The woods can be very dangerous. Okay, Mom. Ready to go hunting, Cartman? Yeah, my Uncle Ji...</td>\n",
              "      <td>A weekend trip to experience the finer points of camping, fishing and blowing animals to smithereens is threatened by an erupting volcano.</td>\n",
              "      <td>0.006777</td>\n",
              "      <td>Jimbo, Ned, and the boys are waiting for Cartman.\\nLooks like about a .46 gauge, Ned. It's coming right for us!</td>\n",
              "      <td>0.10</td>\n",
              "      <td>0.00</td>\n",
              "      <td>0.05</td>\n",
              "    </tr>\n",
              "    <tr>\n",
              "      <th>3</th>\n",
              "      <td>Big Gay Al's Big Gay Boat Ride</td>\n",
              "      <td>Bus Stop. Hey, where's the school bus? We're gonna be late for football practice. A dog walks up to the boys. Hiya, Sparky. [Looking] Who's that? That's my new dog Sparky. He followed me to the bu...</td>\n",
              "      <td>When Stan discovers his new dog Sparky is gay, he becomes so confused he loses his will to play in the big Homecoming Football game against North Park.</td>\n",
              "      <td>0.006211</td>\n",
              "      <td>Yeah dude, I think your dog is gay.\\nWell, how about Stan, our little South Park quarterback star?\\nHey, speaking of pounding ass, here comes Stan's little homo dog.</td>\n",
              "      <td>0.11</td>\n",
              "      <td>0.00</td>\n",
              "      <td>0.08</td>\n",
              "    </tr>\n",
              "    <tr>\n",
              "      <th>4</th>\n",
              "      <td>An Elephant Makes Love to a Pig</td>\n",
              "      <td>Bus Stop. Hey Stan, where'd you get that black eye? Nothing, I mu-I mean, nowhere. Your sister beat you up again, huh? No! Eheh, you know, heh, your sister kicked your ass. She's just pissed off '...</td>\n",
              "      <td>Kyle's mom won't let him keep his new pet, an elephant because it's so huge. So the boys turn to Dr. Mephesto to genetically engineer a smaller elephant.</td>\n",
              "      <td>0.006620</td>\n",
              "      <td>(Hey you guys, I talked to Garrison and he told me that they're almost the same.) Well yeah, but pigs aren't smart, like elephants.\\nOh yeah, I bet I can genetically clone a whole human being befo...</td>\n",
              "      <td>0.16</td>\n",
              "      <td>0.00</td>\n",
              "      <td>0.16</td>\n",
              "    </tr>\n",
              "  </tbody>\n",
              "</table>\n",
              "</div>\n",
              "      <button class=\"colab-df-convert\" onclick=\"convertToInteractive('df-54d28958-f9ec-4d55-858b-f6b2710927f9')\"\n",
              "              title=\"Convert this dataframe to an interactive table.\"\n",
              "              style=\"display:none;\">\n",
              "        \n",
              "  <svg xmlns=\"http://www.w3.org/2000/svg\" height=\"24px\"viewBox=\"0 0 24 24\"\n",
              "       width=\"24px\">\n",
              "    <path d=\"M0 0h24v24H0V0z\" fill=\"none\"/>\n",
              "    <path d=\"M18.56 5.44l.94 2.06.94-2.06 2.06-.94-2.06-.94-.94-2.06-.94 2.06-2.06.94zm-11 1L8.5 8.5l.94-2.06 2.06-.94-2.06-.94L8.5 2.5l-.94 2.06-2.06.94zm10 10l.94 2.06.94-2.06 2.06-.94-2.06-.94-.94-2.06-.94 2.06-2.06.94z\"/><path d=\"M17.41 7.96l-1.37-1.37c-.4-.4-.92-.59-1.43-.59-.52 0-1.04.2-1.43.59L10.3 9.45l-7.72 7.72c-.78.78-.78 2.05 0 2.83L4 21.41c.39.39.9.59 1.41.59.51 0 1.02-.2 1.41-.59l7.78-7.78 2.81-2.81c.8-.78.8-2.07 0-2.86zM5.41 20L4 18.59l7.72-7.72 1.47 1.35L5.41 20z\"/>\n",
              "  </svg>\n",
              "      </button>\n",
              "      \n",
              "  <style>\n",
              "    .colab-df-container {\n",
              "      display:flex;\n",
              "      flex-wrap:wrap;\n",
              "      gap: 12px;\n",
              "    }\n",
              "\n",
              "    .colab-df-convert {\n",
              "      background-color: #E8F0FE;\n",
              "      border: none;\n",
              "      border-radius: 50%;\n",
              "      cursor: pointer;\n",
              "      display: none;\n",
              "      fill: #1967D2;\n",
              "      height: 32px;\n",
              "      padding: 0 0 0 0;\n",
              "      width: 32px;\n",
              "    }\n",
              "\n",
              "    .colab-df-convert:hover {\n",
              "      background-color: #E2EBFA;\n",
              "      box-shadow: 0px 1px 2px rgba(60, 64, 67, 0.3), 0px 1px 3px 1px rgba(60, 64, 67, 0.15);\n",
              "      fill: #174EA6;\n",
              "    }\n",
              "\n",
              "    [theme=dark] .colab-df-convert {\n",
              "      background-color: #3B4455;\n",
              "      fill: #D2E3FC;\n",
              "    }\n",
              "\n",
              "    [theme=dark] .colab-df-convert:hover {\n",
              "      background-color: #434B5C;\n",
              "      box-shadow: 0px 1px 3px 1px rgba(0, 0, 0, 0.15);\n",
              "      filter: drop-shadow(0px 1px 2px rgba(0, 0, 0, 0.3));\n",
              "      fill: #FFFFFF;\n",
              "    }\n",
              "  </style>\n",
              "\n",
              "      <script>\n",
              "        const buttonEl =\n",
              "          document.querySelector('#df-54d28958-f9ec-4d55-858b-f6b2710927f9 button.colab-df-convert');\n",
              "        buttonEl.style.display =\n",
              "          google.colab.kernel.accessAllowed ? 'block' : 'none';\n",
              "\n",
              "        async function convertToInteractive(key) {\n",
              "          const element = document.querySelector('#df-54d28958-f9ec-4d55-858b-f6b2710927f9');\n",
              "          const dataTable =\n",
              "            await google.colab.kernel.invokeFunction('convertToInteractive',\n",
              "                                                     [key], {});\n",
              "          if (!dataTable) return;\n",
              "\n",
              "          const docLinkHtml = 'Like what you see? Visit the ' +\n",
              "            '<a target=\"_blank\" href=https://colab.research.google.com/notebooks/data_table.ipynb>data table notebook</a>'\n",
              "            + ' to learn more about interactive tables.';\n",
              "          element.innerHTML = '';\n",
              "          dataTable['output_type'] = 'display_data';\n",
              "          await google.colab.output.renderOutput(dataTable, element);\n",
              "          const docLink = document.createElement('div');\n",
              "          docLink.innerHTML = docLinkHtml;\n",
              "          element.appendChild(docLink);\n",
              "        }\n",
              "      </script>\n",
              "    </div>\n",
              "  </div>\n",
              "  "
            ]
          },
          "metadata": {},
          "execution_count": 24
        }
      ],
      "source": [
        "SP_df.head()"
      ]
    },
    {
      "cell_type": "code",
      "execution_count": 25,
      "metadata": {
        "colab": {
          "base_uri": "https://localhost:8080/",
          "height": 529
        },
        "id": "2krhVcjnCAaH",
        "outputId": "7bfd1b1a-cf2f-42e0-d491-9c271bb20dcc"
      },
      "outputs": [
        {
          "output_type": "display_data",
          "data": {
            "text/plain": [
              "<Figure size 500x500 with 1 Axes>"
            ],
            "image/png": "[encoded data removed]"
          },
          "metadata": {}
        }
      ],
      "source": [
        "sns.displot(SP_df[\"Score_1\"], kde=True)\n",
        "plt.xlabel(\"Rouge-1 Scores\")\n",
        "plt.ylabel(\"Count\")\n",
        "plt.title('TextRank Rouge-1 Scores')\n",
        "plt.axvline(SP_df.Score_1.mean(),\n",
        "            color='red', label=round(SP_df.Score_1.mean(),2))\n",
        "plt.legend();"
      ]
    },
    {
      "cell_type": "code",
      "execution_count": 26,
      "metadata": {
        "colab": {
          "base_uri": "https://localhost:8080/",
          "height": 529
        },
        "id": "rXapgEyQCAaH",
        "outputId": "d00c3e95-62dd-4ff1-e86f-369814c23aab"
      },
      "outputs": [
        {
          "output_type": "display_data",
          "data": {
            "text/plain": [
              "<Figure size 500x500 with 1 Axes>"
            ],
            "image/png": "[encoded data removed]"
          },
          "metadata": {}
        }
      ],
      "source": [
        "sns.displot(SP_df[\"Score_2\"], kde=True)\n",
        "plt.xlabel(\"Rouge-2 Scores\")\n",
        "plt.ylabel(\"Count\")\n",
        "plt.title('TextRank Rouge-2 Scores')\n",
        "plt.axvline(SP_df.Score_2.mean(),\n",
        "            color='red');"
      ]
    },
    {
      "cell_type": "code",
      "execution_count": 27,
      "metadata": {
        "colab": {
          "base_uri": "https://localhost:8080/",
          "height": 529
        },
        "id": "nq-PLaKbCAaH",
        "outputId": "34e4d287-780d-47bf-cd37-27e38d43bac1"
      },
      "outputs": [
        {
          "output_type": "display_data",
          "data": {
            "text/plain": [
              "<Figure size 500x500 with 1 Axes>"
            ],
            "image/png": "[encoded data removed]"
          },
          "metadata": {}
        }
      ],
      "source": [
        "sns.displot(SP_df[\"Score_L\"], kde=True)\n",
        "plt.xlabel(\"Rouge-L Scores\")\n",
        "plt.ylabel(\"Count\")\n",
        "plt.title('TextRank Rouge-L Scores')\n",
        "plt.axvline(SP_df.Score_L.mean(),\n",
        "            color='red', label=round(SP_df.Score_L.mean(),2))\n",
        "plt.legend();"
      ]
    },
    {
      "cell_type": "code",
      "execution_count": 28,
      "metadata": {
        "colab": {
          "base_uri": "https://localhost:8080/",
          "height": 529
        },
        "id": "wWMzi8uaCAaH",
        "outputId": "c3fec098-4bc3-401a-c1a2-8937d52de6d5"
      },
      "outputs": [
        {
          "output_type": "display_data",
          "data": {
            "text/plain": [
              "<Figure size 500x500 with 1 Axes>"
            ],
            "image/png": "[encoded data removed]"
          },
          "metadata": {}
        }
      ],
      "source": [
        "SP_df['Score_avg'] = np.mean(SP_df[['Score_1', 'Score_L']], axis=1)\n",
        "sns.displot(SP_df[\"Score_avg\"], kde=True)\n",
        "plt.xlabel(\"Average Rouge Scores\")\n",
        "plt.ylabel(\"Count\")\n",
        "plt.title('TextRank Average Rouge Scores')\n",
        "plt.axvline(SP_df.Score_L.mean(),\n",
        "            color='red', label=round(SP_df.Score_avg.mean(),2))\n",
        "plt.legend();"
      ]
    },
    {
      "cell_type": "markdown",
      "metadata": {
        "id": "MK8wmBqICAaH"
      },
      "source": [
        "# Seq2Seq Modeling"
      ]
    },
    {
      "cell_type": "markdown",
      "source": [
        "A Sequence to Sequence (Seq2Seq) model involves any problem that deals with sequenctial information. In regards to natural language processing, this could be useful in translating a text to a different language, providing sentiment analysis, or in our case producing a summary of a text. \n",
        "\n",
        "We will provide a Seq2Seq model with an input of sequence with a certain length of words (dialouge), and hopefully produce an output with a differenct length of words (summary). First we need clean the text so that we can then tokenize it."
      ],
      "metadata": {
        "id": "lRoCDPUiWm47"
      }
    },
    {
      "cell_type": "code",
      "execution_count": 29,
      "metadata": {
        "colab": {
          "base_uri": "https://localhost:8080/"
        },
        "id": "XWI4UoapCAaI",
        "outputId": "7ad2ee5d-3e87-4cbe-852d-3105f1b59fa2"
      },
      "outputs": [
        {
          "output_type": "stream",
          "name": "stderr",
          "text": [
            "[nltk_data] Downloading package wordnet to /root/nltk_data...\n",
            "[nltk_data]   Package wordnet is already up-to-date!\n",
            "[nltk_data] Downloading package punkt to /root/nltk_data...\n",
            "[nltk_data]   Package punkt is already up-to-date!\n",
            "[nltk_data] Downloading package stopwords to /root/nltk_data...\n",
            "[nltk_data]   Package stopwords is already up-to-date!\n"
          ]
        }
      ],
      "source": [
        "# Importing useful libraries to clean text\n",
        "\n",
        "import nltk\n",
        "nltk.download('wordnet')\n",
        "nltk.download('punkt')\n",
        "nltk.download('stopwords')\n",
        "from nltk.corpus import stopwords\n",
        "from nltk.tokenize import word_tokenize, sent_tokenize\n",
        "import string\n",
        "import re \n",
        "from nltk.stem.wordnet import WordNetLemmatizer\n",
        "import contractions"
      ]
    },
    {
      "cell_type": "code",
      "execution_count": 30,
      "metadata": {
        "colab": {
          "base_uri": "https://localhost:8080/",
          "height": 354
        },
        "id": "2AJ-Ac0PCAaI",
        "outputId": "c6463c9f-1c8b-43b1-a4cf-058d6fc89bd0"
      },
      "outputs": [
        {
          "output_type": "execute_result",
          "data": {
            "text/plain": [
              "                             Title  \\\n",
              "0       Cartman Gets an Anal Probe   \n",
              "1                 Weight Gain 4000   \n",
              "2                          Volcano   \n",
              "3   Big Gay Al's Big Gay Boat Ride   \n",
              "4  An Elephant Makes Love to a Pig   \n",
              "\n",
              "                                                                                                                                                                                                      Text  \\\n",
              "0  At the bus stop. School days, school days, teacher's golden ru... Ah, damn it! My little brother's trying to follow me to school again. Eat banana. Ike, you can't come to school with me. [Ike Chor...   \n",
              "1  Mr. Garrison's classroom. Hey Stan, did you see that rainbow this morning? Yeah, it was huge. Ugh, I hate those things. Nobody hates rainbows. Yeah, what's there to hate about rainbows? Well, you ...   \n",
              "2  In front of Cartman's house. Jimbo, Ned, and the boys are waiting for Cartman. Now you be careful, Eric. The woods can be very dangerous. Okay, Mom. Ready to go hunting, Cartman? Yeah, my Uncle Ji...   \n",
              "3  Bus Stop. Hey, where's the school bus? We're gonna be late for football practice. A dog walks up to the boys. Hiya, Sparky. [Looking] Who's that? That's my new dog Sparky. He followed me to the bu...   \n",
              "4  Bus Stop. Hey Stan, where'd you get that black eye? Nothing, I mu-I mean, nowhere. Your sister beat you up again, huh? No! Eheh, you know, heh, your sister kicked your ass. She's just pissed off '...   \n",
              "\n",
              "                                                                                                                                                     Summary  \n",
              "0                      While the boys are waiting for the school bus, Cartman explains the odd nightmare he had the previous night involving alien visitors.  \n",
              "1            When Cartman's environmental essay wins a national contest, America's sweetheart, Kathie Lee Gifford, comes to South Park to present the award.  \n",
              "2                 A weekend trip to experience the finer points of camping, fishing and blowing animals to smithereens is threatened by an erupting volcano.  \n",
              "3    When Stan discovers his new dog Sparky is gay, he becomes so confused he loses his will to play in the big Homecoming Football game against North Park.  \n",
              "4  Kyle's mom won't let him keep his new pet, an elephant because it's so huge. So the boys turn to Dr. Mephesto to genetically engineer a smaller elephant.  "
            ],
            "text/html": [
              "\n",
              "  <div id=\"df-cde7c278-4d51-4188-a92d-cff175a2ff19\">\n",
              "    <div class=\"colab-df-container\">\n",
              "      <div>\n",
              "<style scoped>\n",
              "    .dataframe tbody tr th:only-of-type {\n",
              "        vertical-align: middle;\n",
              "    }\n",
              "\n",
              "    .dataframe tbody tr th {\n",
              "        vertical-align: top;\n",
              "    }\n",
              "\n",
              "    .dataframe thead th {\n",
              "        text-align: right;\n",
              "    }\n",
              "</style>\n",
              "<table border=\"1\" class=\"dataframe\">\n",
              "  <thead>\n",
              "    <tr style=\"text-align: right;\">\n",
              "      <th></th>\n",
              "      <th>Title</th>\n",
              "      <th>Text</th>\n",
              "      <th>Summary</th>\n",
              "    </tr>\n",
              "  </thead>\n",
              "  <tbody>\n",
              "    <tr>\n",
              "      <th>0</th>\n",
              "      <td>Cartman Gets an Anal Probe</td>\n",
              "      <td>At the bus stop. School days, school days, teacher's golden ru... Ah, damn it! My little brother's trying to follow me to school again. Eat banana. Ike, you can't come to school with me. [Ike Chor...</td>\n",
              "      <td>While the boys are waiting for the school bus, Cartman explains the odd nightmare he had the previous night involving alien visitors.</td>\n",
              "    </tr>\n",
              "    <tr>\n",
              "      <th>1</th>\n",
              "      <td>Weight Gain 4000</td>\n",
              "      <td>Mr. Garrison's classroom. Hey Stan, did you see that rainbow this morning? Yeah, it was huge. Ugh, I hate those things. Nobody hates rainbows. Yeah, what's there to hate about rainbows? Well, you ...</td>\n",
              "      <td>When Cartman's environmental essay wins a national contest, America's sweetheart, Kathie Lee Gifford, comes to South Park to present the award.</td>\n",
              "    </tr>\n",
              "    <tr>\n",
              "      <th>2</th>\n",
              "      <td>Volcano</td>\n",
              "      <td>In front of Cartman's house. Jimbo, Ned, and the boys are waiting for Cartman. Now you be careful, Eric. The woods can be very dangerous. Okay, Mom. Ready to go hunting, Cartman? Yeah, my Uncle Ji...</td>\n",
              "      <td>A weekend trip to experience the finer points of camping, fishing and blowing animals to smithereens is threatened by an erupting volcano.</td>\n",
              "    </tr>\n",
              "    <tr>\n",
              "      <th>3</th>\n",
              "      <td>Big Gay Al's Big Gay Boat Ride</td>\n",
              "      <td>Bus Stop. Hey, where's the school bus? We're gonna be late for football practice. A dog walks up to the boys. Hiya, Sparky. [Looking] Who's that? That's my new dog Sparky. He followed me to the bu...</td>\n",
              "      <td>When Stan discovers his new dog Sparky is gay, he becomes so confused he loses his will to play in the big Homecoming Football game against North Park.</td>\n",
              "    </tr>\n",
              "    <tr>\n",
              "      <th>4</th>\n",
              "      <td>An Elephant Makes Love to a Pig</td>\n",
              "      <td>Bus Stop. Hey Stan, where'd you get that black eye? Nothing, I mu-I mean, nowhere. Your sister beat you up again, huh? No! Eheh, you know, heh, your sister kicked your ass. She's just pissed off '...</td>\n",
              "      <td>Kyle's mom won't let him keep his new pet, an elephant because it's so huge. So the boys turn to Dr. Mephesto to genetically engineer a smaller elephant.</td>\n",
              "    </tr>\n",
              "  </tbody>\n",
              "</table>\n",
              "</div>\n",
              "      <button class=\"colab-df-convert\" onclick=\"convertToInteractive('df-cde7c278-4d51-4188-a92d-cff175a2ff19')\"\n",
              "              title=\"Convert this dataframe to an interactive table.\"\n",
              "              style=\"display:none;\">\n",
              "        \n",
              "  <svg xmlns=\"http://www.w3.org/2000/svg\" height=\"24px\"viewBox=\"0 0 24 24\"\n",
              "       width=\"24px\">\n",
              "    <path d=\"M0 0h24v24H0V0z\" fill=\"none\"/>\n",
              "    <path d=\"M18.56 5.44l.94 2.06.94-2.06 2.06-.94-2.06-.94-.94-2.06-.94 2.06-2.06.94zm-11 1L8.5 8.5l.94-2.06 2.06-.94-2.06-.94L8.5 2.5l-.94 2.06-2.06.94zm10 10l.94 2.06.94-2.06 2.06-.94-2.06-.94-.94-2.06-.94 2.06-2.06.94z\"/><path d=\"M17.41 7.96l-1.37-1.37c-.4-.4-.92-.59-1.43-.59-.52 0-1.04.2-1.43.59L10.3 9.45l-7.72 7.72c-.78.78-.78 2.05 0 2.83L4 21.41c.39.39.9.59 1.41.59.51 0 1.02-.2 1.41-.59l7.78-7.78 2.81-2.81c.8-.78.8-2.07 0-2.86zM5.41 20L4 18.59l7.72-7.72 1.47 1.35L5.41 20z\"/>\n",
              "  </svg>\n",
              "      </button>\n",
              "      \n",
              "  <style>\n",
              "    .colab-df-container {\n",
              "      display:flex;\n",
              "      flex-wrap:wrap;\n",
              "      gap: 12px;\n",
              "    }\n",
              "\n",
              "    .colab-df-convert {\n",
              "      background-color: #E8F0FE;\n",
              "      border: none;\n",
              "      border-radius: 50%;\n",
              "      cursor: pointer;\n",
              "      display: none;\n",
              "      fill: #1967D2;\n",
              "      height: 32px;\n",
              "      padding: 0 0 0 0;\n",
              "      width: 32px;\n",
              "    }\n",
              "\n",
              "    .colab-df-convert:hover {\n",
              "      background-color: #E2EBFA;\n",
              "      box-shadow: 0px 1px 2px rgba(60, 64, 67, 0.3), 0px 1px 3px 1px rgba(60, 64, 67, 0.15);\n",
              "      fill: #174EA6;\n",
              "    }\n",
              "\n",
              "    [theme=dark] .colab-df-convert {\n",
              "      background-color: #3B4455;\n",
              "      fill: #D2E3FC;\n",
              "    }\n",
              "\n",
              "    [theme=dark] .colab-df-convert:hover {\n",
              "      background-color: #434B5C;\n",
              "      box-shadow: 0px 1px 3px 1px rgba(0, 0, 0, 0.15);\n",
              "      filter: drop-shadow(0px 1px 2px rgba(0, 0, 0, 0.3));\n",
              "      fill: #FFFFFF;\n",
              "    }\n",
              "  </style>\n",
              "\n",
              "      <script>\n",
              "        const buttonEl =\n",
              "          document.querySelector('#df-cde7c278-4d51-4188-a92d-cff175a2ff19 button.colab-df-convert');\n",
              "        buttonEl.style.display =\n",
              "          google.colab.kernel.accessAllowed ? 'block' : 'none';\n",
              "\n",
              "        async function convertToInteractive(key) {\n",
              "          const element = document.querySelector('#df-cde7c278-4d51-4188-a92d-cff175a2ff19');\n",
              "          const dataTable =\n",
              "            await google.colab.kernel.invokeFunction('convertToInteractive',\n",
              "                                                     [key], {});\n",
              "          if (!dataTable) return;\n",
              "\n",
              "          const docLinkHtml = 'Like what you see? Visit the ' +\n",
              "            '<a target=\"_blank\" href=https://colab.research.google.com/notebooks/data_table.ipynb>data table notebook</a>'\n",
              "            + ' to learn more about interactive tables.';\n",
              "          element.innerHTML = '';\n",
              "          dataTable['output_type'] = 'display_data';\n",
              "          await google.colab.output.renderOutput(dataTable, element);\n",
              "          const docLink = document.createElement('div');\n",
              "          docLink.innerHTML = docLinkHtml;\n",
              "          element.appendChild(docLink);\n",
              "        }\n",
              "      </script>\n",
              "    </div>\n",
              "  </div>\n",
              "  "
            ]
          },
          "metadata": {},
          "execution_count": 30
        }
      ],
      "source": [
        "# Creating seq-2-seq dataframe\n",
        "\n",
        "s2s_df = SP_df[['Title', 'Text', 'Summary']]\n",
        "s2s_df.head()"
      ]
    },
    {
      "cell_type": "markdown",
      "source": [
        "We created a new s2s_df so that we have an easy dataframe to work with that has all of the required information."
      ],
      "metadata": {
        "id": "9vWIi78BpE7E"
      }
    },
    {
      "cell_type": "code",
      "execution_count": 31,
      "metadata": {
        "colab": {
          "base_uri": "https://localhost:8080/"
        },
        "id": "3DafNtz4gIQh",
        "outputId": "3161dfe0-22b8-4fe8-e0e5-eb012d85baea"
      },
      "outputs": [
        {
          "output_type": "stream",
          "name": "stdout",
          "text": [
            "<class 'pandas.core.frame.DataFrame'>\n",
            "Int64Index: 305 entries, 0 to 304\n",
            "Data columns (total 3 columns):\n",
            " #   Column   Non-Null Count  Dtype \n",
            "---  ------   --------------  ----- \n",
            " 0   Title    305 non-null    object\n",
            " 1   Text     305 non-null    object\n",
            " 2   Summary  305 non-null    object\n",
            "dtypes: object(3)\n",
            "memory usage: 17.6+ KB\n"
          ]
        }
      ],
      "source": [
        "# Viewing newly created dataframe inforation\n",
        "s2s_df.info()"
      ]
    },
    {
      "cell_type": "code",
      "execution_count": 32,
      "metadata": {
        "colab": {
          "base_uri": "https://localhost:8080/",
          "height": 161
        },
        "id": "_0ZEOsTDwndG",
        "outputId": "442a999f-c0f9-4d2f-ecf9-7d39dc692e91"
      },
      "outputs": [
        {
          "output_type": "stream",
          "name": "stdout",
          "text": [
            "Length of text: 23816\n"
          ]
        },
        {
          "output_type": "execute_result",
          "data": {
            "text/plain": [
              "'At the bus stop. School days, school days, teacher\\'s golden ru... Ah, damn it! My little brother\\'s trying to follow me to school again. Eat banana. Ike, you can\\'t come to school with me. [Ike Chortles.] Yeah, go home you little dildo! Dude, don\\'t call my brother a dildo! What\\'s a dildo? Well, I don\\'t know...[He faces Cartman and points at him.] and I\\'ll bet Cartman doesn\\'t know either! I know what it means! Well, what? I\\'m not telling you. What\\'s a dildo, Kenny? (It\\'s a plastic dick that goes in a vagina.) [The others laugh.] He-yeah, that\\'s what Kyle\\'s little brother is all right! [Kyle swings Ike by his feet, knocking Cartman down.] Ow! [Ike Laughs.] Dude, that kicks ass! Yeah, check this one out. Ready Ike? Kick the baby! Don\\'t kick the baby. Kick the baby. He kicks Ike like a football, who lands, knocking down four mailboxes. Cartman yawns. Whoa, Cartman! Looks like you didn\\'t get much sleep last night. That\\'s \\'cause I was having these... bogus nightmares. Really? What about? Well, I dreamt that I was lying in my bed... The dream sequence begins. ...in the dark, when all of a sudden this bright blue light filled the room. Through his window, one can see a spaceship land and its light stream in. Then slowly my bedroom door began to open... [A Visitor peeks inside.] ...and then the next thing I remember, I was being drug through a hallway. Weeaak! Then I was lying on a table... Cartman is laying face down, Visitors lower his pajamas. ...and these scary aliens wanted to operate on me. And they had big heads and big black eyes. Dude! Visitors! Totally! What? That wasn\\'t a dream Cartman, those were Visitors! No, it was just a dream, my mom said so. Visitors are real. Yeah, they abduct people and they mutilate cows. Oh, shut up guys! You\\'re just trying to make me scared. And it\\'s not working. [Drives up and gets out of the car.] Hello there, children. [in unison] Hey, Chef. What\\'s gonna be for lunch today, Chef? Well, today it\\'s Salisbury steak with buttered noodles and a choice of green bean casserole or vegetable medley. Kick ass. Say, did any of you children see the alien space ship last night? [Surprised.] Huh? Yeah, fat boy saw it! Eh, no, that, that was just a dream. And I\\'m not fat, I\\'m big boned! Oh, was it the ones with the big long heads and the black eyes? Oh! They took him on their ship. Oh! [Quietly.] Did they give you an anal probe? Oh! What\\'s an anal probe? That\\'s when they put this big metal hoop-a-joop up yo\\' butt. Whoa! They gave you an anal probe Cartman? No! Uh-I mean, eh, why would they do that? Dude, they did, huh? Aliens stuck stuff up your ass! No! Eneh probe. Shut up, dildo! Well, I gotta get to the cafeteria. You children watch that fat boy now. He could be under alien control. Chef walks back to his car, there is a picture of a Visitor on his shirt with the word \"Believe\" written under it. Cartman goes catatonic as Chef drives off. Oh! We told you they were real Cartman. Sorry to hear about your ass. God damn it, they didn\\'t do anything to my ass! It was just a dream! They start to file onto the bus. Why you walkin\\' so funny Cartman? Shut up! [Waddles by.] Oh foonuh bebe. No, Ike, go home. Eeeeee! This is it. This one\\'s for the game. Purplor. Kick the baby! He kicks Ike, who flies through the first window of the school bus and crashes out the window on the other side. On the bus. Good morning, Miss Crabtree. SIT DOWN! WE\"RE RUNNING LATE! The bus pulls away, leaving Ike behind at the bus stop. Kyle is kneeling on the seat looking out the back window at him. Damn it, he\\'s still there. Oh, don\\'t worry about him. No, dude, if something happens to him, my parents are gonna blame me. SIT DOWN BACK THERE! AAAAAAH!! Yeah, whatever, ya fat bitch. WHAT DID YOU SAY? I said I have a bad itch. [calmly] Oh. [Gasps.] Oh, my God! Two Visitors are holding Ike between them [Turning to see.] Visitors! (Oh nooo!) Ike! [Kyle runs to the front of the bus.] STOP THE BUUUUUS! Ms. Crabtree, you have to stop this bus! SIT DOWN, KID! But I have to get off! DO YOU WANT AN OFFICE REFERRAL!? No. Then sit down! But I... Arrgghhh! Arrghh! Arrrggghhh! Kyle runs back to his seat. Ms. Crabtree has the last word. Cartman, are those the same Visitors you saw? Shut up you guys, it\\'s not working. We have to do something! Well, we can\\'t do anything for now, that fat bitch won\\'t let us. WHAT DID YOU SAY?! Uh, I said that rabbits eat lettuce. Oh. Well, yes, they certainly do. she makes a hard right, flinging kids onto the left side of the bus. What am I going to do? My little brother\\'s been abducted by aliens. [Stan farts.] You farted. [They laugh.] Heh, somebody\\'s baking brownies. Behind the bus, a space craft rises into the sky, then zooms away. Farmer\\'s grazing fields with a mutilated cow. That\\'s the third cow this month. At this rate all my cattle are gonna die before the winter\\'s through. The cows moo questioningly. This is nothing out of the unusual. Cows turn themselves inside out all the time. The cows shake their heads. People been saying they\\'ve been seeing UFO\\'s around. UFO\\'s? [Laughs.] Yeah, and black army CIA helicopters and trucks. That is the silliest thing I\\'ve ever heard. Helicopters fly by above him. What was that? That, that was a pigeon. What am I supposed to do, Barbrady? Just stand here and watch my cattle get mutilated one by one? The cows notice something and raise their heads. One Visitor waves a piece of hay and whistles. The cows start running away from them. Hey! My cattle! The \"Cattle Ranch\" sign falls down. You see? There is somethin\\' funny goin\\' on! There\\'s nothing funny going on. I\\'ll get those cows back. Mr. Garrison\\'s class. And now children, our friend, Mr. Hat, is going to tell us about Christopher Columbus. That\\'s right, Mr. Garrison. Christopher Columbus discovered America and was the Indians\\' best friend. He helped the Indians win their war against Fredrick Douglass and a freed the Hebrews from Napoleon and discovered France. And then in 1492 Columbus started a restaurant...[He is drowned out by Kyle\\'s voice.] [Whispering.] Oh, man. I can\\'t just sit here, I have to help my stupid brother, or I\\'ll come home without him and my dad will start yelling, \"Where\\'s your brother, Kyle?\" \"You weren\\'t looking out for your little brother, Kyle?\" [Whispering.] Okay, okay, let\\'s ditch school and go find him. [His voice is rising to an audible level.] \"You know he can\\'t think on his own, Kyle!\" \"Brush and floss, Kyle!\" \"Where has that finger been, Kyle?\" Dude! Is there a problem, boys? Yes, Mr. Garrison, I have to go now. Oh, really, Kyle? What is it this time? Another prostate tumor? No, my little brother\\'s been abducted by aliens. [Silence.] It\\'s true! Ask Cartman, they gave him an anal probe. [Embarrassed.] Heh, heh, that\\'s a, that\\'s, that\\'s a little joke. Heh, heh. [Kyle walks up to Mr. Garrison\\'s desk.] Mr. Garrison, seriously, I have to go. Can I please be excused from class? I don\\'t know, Kyle. Did you ask Mr. Hat? I don\\'t want to ask Mr. Hat, I\\'m asking you! Oh I think you should ask Mr. Hat. Mr. Hat, may I please be excused from class? Well, Kyle, no!! You hear me?! You go to hell! You go to hell and you die! Hmm, guess you\\'ll have to take your seat, Kyle. Damn it! Hah, hah. Mr. Hat yelled at you. Cartman farts fire. Poor Pip is stunned. Ow! My ass! The class gasps. Dude! Damn, Cartman! [Cartman farts fire again.] Uh... Ow! My ass! Dude, he\\'s farting fire! It\\'s the alien anal probe. It\\'s shooting fire from Cartman\\'s rectum! No, that was just a dream. Eric, do you need to sit in the corner until your flaming gas is under control? No, Mr. Garrison, I\\'m fine. Cartman farts fire again, setting Pip aflame. Pip runs around the room on fire. Train station. Cows flock in from all around and stand in line, waiting to board the train out of town. Hey, you cows can\\'t get on this train! This is a people train. You cows have no business on a people train, all right? \\'Cause you\\'re cows. The cows are all staring at the conductor. No, no, no. Don\\'t try any of that cow hypnosis on me, all right? \\'Cause it\\'s not gonna work. [Drives by with his lights flashing.] Hold it right there, cows! Cows split up and run off mooing. Come back here! Now then! [He pursues them.] Cafeteria So then I had bad, bad gas. Ya, seriously, killer. [Cartman farts fire.] Oh!! Whoa, I sure am hungry. How can you eat when you\\'re farting fire? Shut up, dude, you\\'re being totally immature. Hey, look, there\\'s Wendy Testaburger. [Gasps.] Where? He finds himself looking right at her. An epiphany plays while hearts dance around Stan\\'s head. Stan smiles, and it soon goes from ear to ear [Singing.] Stan wants to ki-iss Wendy Testabur-ger. Shut up, fat ass! I don\\'t even like her! I\\'m not fat. And you obviously like her because you throw up every time she talks to you. I do not! Hi, guys. Hi, Wendy. Here, Stan. This is for you. [Wendy hands Stan a note.] Bleech! Eww! [She leaves.] [Their eyes follow her out.] Bye, Wendy. Dude, what does the note say? [He glances at it.] Holy crap! It says she wants to meet me at Stark\\'s Pond after school. A look of wonder comes over his face. Whoa! Maybe you can kiss her. Or slip her the tongue. (Or look at the cat on her feet, then touch her.) [That gets his attention.] What? How do you know she has a cat? Silence, Kenny waits to see if the other guys got the message, then laughs. The rest follow, realizing what Kenny meant. Come on you guys, we need to figure out how to get out of school so we can get my little brother back. The cafeteria kitchen. Chef stands behind the counter, ready to serve food. The boys enter. Hello there, children. Hey, Chef. How are you doing? Bad. Why bad? Chef, have you ever had something happen to you, but nobody believed you? Oh, children, children, that\\'s a problem we\\'ve all had to face at some time or another. Here, let me sing you a little song. It might clear things up. I\\'m gonna make love to you woman Gonna lay you down by the fire And caress your womanly body Make you moooooan and perspire Gonna-- Uh, Chef? --get those juices flowin\\'-- Chef. --we\\'re makin\\' love gravy-- Chef! --love gravy, lovelovelovelovelove gravih! [shouts loud enough for Chef to hear] CHEF!!! Love luh--  Huh? Silence. Kenny nods towards Kyle. Do you feel better? No! Oh, come on children, what could be so bad? It\\'s Salisbury steak day. Visitors took Kyle\\'s baby brother. What?! Chef tosses a food tray aside and runs to the other side of the counter. What the hell do you think you\\'re doing in school eatin\\' Salisbury steak?! Go find him, damn it! Mr. Garrison won\\'t let us out of school. He thinks we\\'re making it up. You are making it up. Cartman farts more fire, the anal probe pops out, moves around and puts its metal arms on its hip, looking annoyed at Cartman\\'s determination that it didn\\'t happen. Whoa! The probe goes back into Cartman\\'s ass. What? That was cool! It\\'s uh some kind of symbiotic, metamorphosis device. Cartman turns about so Chef can check out the probe. This could mean the Visitors want to communicate with us. [Turning to face Chef, testily.] Oh, I see. Now you\\'re going to join in on the little joke huh? It\\'s no joke, children, this is big! Please, Chef, if I don\\'t get out of school and get my little brother back from the aliens, my parents are gonna disown me. Uuh, hold on now, hold on now. [To himself.] Uhyouyouyou you gotta help the children. Oh, you guys sure are going a long ways to try and scare me. I want my Salisbury steak! [Pulling on the fire alarm] Fire drill! Fire drill! Everybody out! [To the boys.] Okay children, this is your chance! Killer! Thanks, Chef. Mahahahahan oh man, first contact with the alien Visitors. I\\'ve got to get myself ready. The boys\\' neighborhood. [Singing.]  We got out of school, No more school today, We got out of school... Cartman, interrupting the song with a fiery fart. Oh!! You guys, my ass, seriously..! Okay, Cartman, you can stop farting fire now. I would if I could, you son of a bitch! Okay, so how do we get my little brother back? Uh—Would you stop going on about your little brother? I know it was just a dream, I know I didn\\'t have an anal probe, and I know that I\\'m not under alien control! a radio wave strikes Cartman and he gets big blushy cheeks and starts to sing. I love to singa, About the moona and June-a and the springa, I love to singa, About a sky of blue-a or a tea for two-a... A second radio wave reverts him to normal and all is quiet. Dogs bark in the background. What the hell was that? He is under alien control. That thing in his butt is linked up to the Visitors! Ah, son of a bitch! You guys, shut up. I\\'m not under alien control. Kyle yells into Cartman\\'s ear. His voice echoes. Hey! Uh... If you Visitors can hear me- The voice echoes in Cartman\\'s head. Hey... -bring me back my little brother, God damnit! Ow! [Faces Kyle.] That hurts, you buttlicker! Stan notices a spaceship hovering overhead. Kyle, look! It\\'s them. Give me back my brother! Kyle throws a rock at the spaceship. It fires back with a flash of light, hitting Kenny and knocking him into the road. Oh my God! They\\'ve killed Kenny! You bastards! Come back here! Coomme baack! The spaceship leaves. Damn it, we were so close! Hey look, [Kenny gets up.] I think Kenny\\'s okay. (Don\\'t worry, I\\'m alright. Argh!) The fleeing cows run over Kenny. Owww. [He gets up again.] (Nope, I\\'m all fine. Agh!) Officer Barbrady mows him down with his police cruiser. Kenny ends up along the curb, lifeless. The boys approach. Wow, poor Kenny. Now do you believe us, Cartman? No! Cartman, they killed Kenny! He\\'s not dead. Dude, Kenny is dead! Stan picks up a stick and hits Kenny\\'s bloody body. See? Shut up, you guys. He\\'s dead, Cartman! Kyle pulls Kenny\\'s head off his body. God damn it, I didn\\'t have an anal probe! [He walks off.] Screw you guys, I\\'m goin\\' home. Go on and go home, you fat chicken! [Off screen.] Dildo! You\\'re all I have left, Stan. Sorry, dude. I gotta go meet Wendy Testaburger. You can\\'t! Poor Ike must be so scared, up there all alone. You gotta help me, dude! Rats feast upon Kenny\\'s body. Dude, like Chef says, I\\'ve gotta get a piece of lovin\\' while the gettin\\'s hot. [He hurries away.] Rats drag Kenny\\'s head off. Rats. Cartman\\'s house. Hello, Eric. Hi, Mom. How are you doing? Well, I\\'m pissed off! Here, I made you powdered donut pancake surprise. I don\\'t want powdered donut pancake surprise. All the kids at school call me fat! You\\'re not fat, you\\'re big boned. That\\'s what I said. You can have an eensy weensy bit, can\\'t you? No! Just a weensy eensy woo woo? No, leave me alone mom! [He walks past her.] How about a nice chocolate chicken pot pie, then? [He stops in his tracks.] What? Well, that does sound pretty good. He returns to sit on the sofa while his mom goes off to get the pie. Uh, Mom? Yes, hon? If anybody calls or comes over, I\\'m not here, okay? Sure, hon. You want some Cheesy Poofs, too? Cartman is in disbelief she even asked. Yeah, I want Cheesy Poofs. Stark\\'s Pond. Kyle decided to join Stan. Well, it looks like she\\'s not going to show up, Stan. Let\\'s go look for the Visitors now. But her note said she\\'d be here. Wendy appears out of nowhere. Hi, Stan. Bleech! Eww! You can\\'t talk to Stan, Wendy. He throws up when you do. But why, Stan? Stan tries to hold it in. Bleech! Eww! Look, can you guys just get down to business so we can go find my little brother? [Turns to Kyle.] Huh? Just make sweet love down by the fire. What happened to your little brother? Cartman\\'s house. Cartman is on the sofa watching TV. As the reports of UFO sightings increase, more mysterious crop circle patterns are appearing in fields all around South Park. These crop circles, when viewed from above, form strange patterns. A plane circles around a field with odd patterns on it, and a cameraman pans out to reveal the outline of Cartman. Hey, that kind of looks like... Tom Selleck. Could it be that aliens are trying to make contact with us, here on Earth? Meow. Noticing Mr. Kitty eyeing his pot pie. No, Kitty, this is mah pot pie. Meow. No, Kitty, you bad kitt--! Meow. No, Kitty, it\\'s mah pot pie! Kitty hisses. Mom! Kitty\\'s being a dildo! Liane peeks in suggestively. Well, then. I know a certain kitty-kitty who\\'s sleeping with Mommy tonight. [Confused.] What? Stark\\'s Pond. Kyle is explaining what happened to his little brother. ...and now I have to go home without him and my parents are going to have me killed. Well, why don\\'t you go get the fat kid? Why? Well, if the fat kid has something implanted in his ass, maybe the Visitors are using him as part of their plan. You should use the fat kid as bait to bring them back. Hey. You\\'re right, Wendy. Come on, Stan, we have to go get Cartman. [He moves out.] Come on, Stan. [She walks past him, following Kyle.] Bleech! Eww! [She walks away.] Hey, wait. When do I get to make sweet love? A bird flies into his puke and starts waddling around in it. Cartman\\'s House, a short time later. Meow. No, Kitty, you can\\'t have any! Meow. No, Kitty, this is mah pot pie! Bad Kitty--! Cartman farts fire, setting the cat ablaze. Eh, \\'scuse me, Kitty. Liane enters the room with Kyle, Stan, and Wendy. Eric, look who\\'s here. Dude, weak mom. Come on Eric, we can go play at the bus stop. I can\\'t, my mom said... That\\'s okay, Eric, I think you need to go spend time with your little friends. [Quietly.] But mom, I don\\'t want to spend time with my little friends-- [Stern.] Don\\'t be difficult, Eric! Now, you go out and play in the fun snow. God damn it! Mr. Kitty then runs by in flames. Forest at night. Cartman\\'s right foot is tied to a tree. You guys, I have to get home. Don\\'t be such a fraidy-cat, Cartman. This rope will make sure they can\\'t take you on board again. Cartman tugs his foot testing the rope. Oh, man, this sucks. How come the Visitors aren\\'t coming for him? I think we have to signal them somehow. [Cartman farts fire.] Ow! Hey, he\\'s like Rudolph. Yeah! All you have to do is fart some more, Cartman, and the Visitors are sure to come! Really? Uh, I don\\'t think I have to fart anymore tonight. Sure you do! Come on Cartman, fart! I don\\'t wanna. [To Kyle and Wendy.] He can\\'t hold it in forever. Fart, damn you! Okay, that\\'s does it! Now listen! Why is it that everything today has involved things either going in or coming out of my ass?! Farts. An anal probe comes out of his butt and expands. I\\'m sick of it! It\\'s completely immature. Hey, it\\'s happening again. The probe is now a large satellite dish. Whoa, look at that. Now, do you believe us, Cartman? You guys can\\'t scare me! I know you\\'re making it all up. Cartman, there\\'s a 80-foot satellite dish sticking out of your ass! Sure, you guys, what-ever. The dish sends a radio signal out to space. Chef\\'s yard. He\\'s sitting in a lawn chair with a can of ZOOP in his hand. An Igloo cooler is next to him. Oh, boy. The aliens are going to make first contact. Hey, down here, we are ready for your wisdom! [He looks at his watch.] And you\\'ve only got 20 minutes before Sanford and Son is on. Forest. You guys, I am seriously getting pissed off right now! I know there is no such things as aliens! Three small ships descend, followed by a mother-ship. Oh, God damn it! [Driving by, he stops.] What the? I tell you, there\\'s some crazy stuff going on in this town. You can say that again, Mr. Garrison. Come down here, you stinking aliens! [Three Visitors appear.] Uh, uh... Go on, Kyle, ask \\'em for your little brother back. Vi, Visitors, this morning you took my brother, Ike. He\\'s the little freckled kid that looks like a football. At first, I was happy you took him away. But I\\'ve learned something today. That having a little brother... i- is a pretty special thing. Yeah. Ah, heck, Mr. Visitors, I\\'m just a kid all alone in this crazy world, but if you could find it in your hearts or whatever you have, to give my brother back to me, it sure would make my life brighter again. That was beautiful, dude. Did it work? No, they\\'re leaving. Hey, you scrawny-eyed shits, what the fuck is wrong with you?! You must be some kind of fucking asshole to be able to ignore a crying child! Whoa, dude! You know what you fuckers like! You like to fuck! And shit! And fuck! And fuck! And fuck! And fuck! Hey Wendy, what\\'s a fuck? [She shrugs.] The spaceship door opens. Help me doy tair. Ike, jump down, now! For the love of God, Ike, jump! Don\\'t hurt me. A herd of cows runs away from the ship, but a trio of Visitors stops them in their tracks. The cows moo and quiver with fear until the middle Visitor raises its hand and addresses them. Moo... Moo...Moo...Moo... (Greetings, cows of Earth. We come in peace.) Moo?? (Really??) Come on, Ike! I promise I\\'ll be nice to you from now on! Don\\'t kick the baby. Moo moo, moo. Moo moo, moo. Moo. (We have experimented with all the beings of Earth, and we have learned that you are the most intelligent and wise.) What the hell are they talking about? Moo moo? (Why did you turn some of us inside out?) Moo moo, moo. Moo. (Oh, that was Carl\\'s fault. He\\'s new.) Moo...moo...moo. (Yeah, sorry about that. My bad!) Ike! Moo moo. Moo moo. Moo. (Take this device. It is a gift from us.) The cows look at each other and moo in agreement. Ike! Do your impersonation of David Caruso\\'s career! It\\'s my turn! Ike dives from the ship into the snow. The satellite goes back into Cartman\\'s butt. Moo moo. Moo moo. (Farewell cows, peace be with you!) The Visitors disappear. The spaceship pulls Cartman up but the rope keeps him grounded. You guys, get me down from here! He farts fire, burning the rope. The tractor beam takes him into the ship and the spaceship flies away. Ow! Help! Sons o\\' bitches! Dildos! Phew, I\\'m sure glad that\\'s over with. Yeah. Boy, am I glad to see you, Ike. Oh, he fly out the sky. Chef\\'s yard. Wait, where are you going, alien Visitors? Come back! A blonde arrives with a brunette. Well, Chef, where\\'s this amazing thing you were going to show us. Well, it\\'s in the bedroom, ladies. Come on in. Forest. Come on, Ike, we can make it just in time for dinner. [They leave.] Thanks for your help, Wendy. Whatever, dude. Hey, I didn\\'t throw up. Cool! She\\'s happy now. They both look at each other like they\\'re going to kiss, and that music plays again. Wendy puckers up. Stan gets queasy. Bleech! He barfs right on her face. Eww! Sorry. Hey, look. A French fry. Cool. And what is that? I think it\\'s part of a Cheesy Poof. Chef\\'s song starts up and the camera pulls away. Hey, what\\'s that? That\\'s uummm... a hamburger from... that\\'s from, like, two days ago. Oh hey, what about that? I don\\'t know what the hell that is... Bus Stop. Gee, the bus\\'ll be here any minute, and Cartman still isn\\'t around. Yeah, we\\'re running out of friends. I wonder what that thing was that the Visitors gave the cows. Cows out on a pasture. Mooo. Ha ha cows! I\\'ve got you cornered. Let\\'s see you get away now. One of the cows steps on the plate on the Visitor\\'s device. A beam from the device strikes Officer Barbrady. His glasses fly off, and cheeks become rosy. I love to sing-a, About the moon-a and the June-a and the Spring-a, I love to sing-a, About a sky of blue-a or a tea for two-a... The cows begin hopping about gleefully. Bus Stop. Cartman falls out of the sky, landing on his side next to Kyle and Stan. Puh! Oh, hey Cartman. Wow Cartman, the Visitors dropped you off just in time to go to school. Ah, man, I had this crazy nightmare last night. Really, what about? Well, I was standing out in a field, and I had this huge satellite dish sticking out of my butt. And then there was... hundreds of cows and aliens, and then I went up on the ship and Scott Baio gave me pinkeye. That wasn\\'t a dream, Cartman. That really happened. [Sarcastically.] Oh right, [Matter of factly.] why don\\'t I have pinkeye then? Cartman, you do have pinkeye! Ahh, son of a bitch!'"
            ],
            "application/vnd.google.colaboratory.intrinsic+json": {
              "type": "string"
            }
          },
          "metadata": {},
          "execution_count": 32
        }
      ],
      "source": [
        "# Viewing sample of text\n",
        "print('Length of text:', len(s2s_df['Text'][0]))\n",
        "s2s_df['Text'][0]"
      ]
    },
    {
      "cell_type": "markdown",
      "source": [
        "As you can see in the sample text above there is a lot of punctuation, capitalizatiion, contractions etc. that will interfere with our ability to provide adequate sequences to our model. Some examples of how you can clean your text are :\n",
        "\n",
        "1.   Removing common words that hold no real information, these are known as stopwords (i.e “the”, “is” and “and”).\n",
        "2.   Removing punctuation and special characters.\n",
        "3.   Making every word lowercase so that our model doesn't recognize \"Vitamin\" and \"vitamin\" as two different words.\n",
        "4.   Fixing contrations (we'll = we will).\n",
        "5.   Lemmatization, convert the word to its root word.\n"
      ],
      "metadata": {
        "id": "slA5Fk5Hpm16"
      }
    },
    {
      "cell_type": "markdown",
      "source": [
        "Before we clean our text we need to address the dimentionality of our data. In our text example above you can see that the length of the text is approx 24,000 words. That is a lot of information for our model to rembember once we have sequenced and embedded our text on 305 documents. \n",
        "\n",
        "In order to make the length of our text more managable we will again use the text rank function, this time at a ratio of 0.1. This will ideally provide us with text that is <5000 words while still containing the most important information."
      ],
      "metadata": {
        "id": "2zIghB35uLf8"
      }
    },
    {
      "cell_type": "code",
      "execution_count": 33,
      "metadata": {
        "id": "WsNvDTufp0cA"
      },
      "outputs": [],
      "source": [
        "# Applying textrank function on s2s_df\n",
        "\n",
        "import gensim\n",
        "def textrank(corpus, ratio=.10):        \n",
        "    lst_summaries = [gensim.summarization.summarize(txt,  \n",
        "                     ratio=ratio) for txt in corpus]    \n",
        "    return lst_summaries\n",
        "\n",
        "# Apply the function to corpus\n",
        "s2s_df['reduced_text'] = textrank(corpus=s2s_df.Text, ratio=.10)"
      ]
    },
    {
      "cell_type": "code",
      "source": [
        "# Viewing sample of text\n",
        "\n",
        "print('Length of text:', len(s2s_df['reduced_text'][0]))\n",
        "s2s_df['reduced_text'][0]"
      ],
      "metadata": {
        "colab": {
          "base_uri": "https://localhost:8080/",
          "height": 161
        },
        "id": "Y7Cx9WsAx-c8",
        "outputId": "f265105a-800a-4da4-b834-dc3d0291746a"
      },
      "execution_count": 34,
      "outputs": [
        {
          "output_type": "stream",
          "name": "stdout",
          "text": [
            "Length of text: 4149\n"
          ]
        },
        {
          "output_type": "execute_result",
          "data": {
            "text/plain": [
              "'My little brother\\'s trying to follow me to school again.\\n[Ike Chortles.] Yeah, go home you little dildo!\\nDude, don\\'t call my brother a dildo!\\n(It\\'s a plastic dick that goes in a vagina.) [The others laugh.] He-yeah, that\\'s what Kyle\\'s little brother is all right!\\n[Kyle swings Ike by his feet, knocking Cartman down.] Ow!\\n[Ike Laughs.] Dude, that kicks ass!\\nCartman is laying face down, Visitors lower his pajamas.\\nThat wasn\\'t a dream Cartman, those were Visitors!\\nYeah, they abduct people and they mutilate cows.\\nThey gave you an anal probe Cartman?\\nYou children watch that fat boy now.\\nChef walks back to his car, there is a picture of a Visitor on his shirt with the word \"Believe\" written under it.\\nCartman goes catatonic as Chef drives off.\\nThe bus pulls away, leaving Ike behind at the bus stop.\\n[Kyle runs to the front of the bus.] STOP THE BUUUUUS!\\nCartman, are those the same Visitors you saw?\\nThe cows start running away from them.\\nAnd now children, our friend, Mr. Hat, is going to tell us about Christopher Columbus.\\nI can\\'t just sit here, I have to help my stupid brother, or I\\'ll come home without him and my dad will start yelling, \"Where\\'s your brother, Kyle?\" \"You weren\\'t looking out for your little brother, Kyle?\" [Whispering.] Okay, okay, let\\'s ditch school and go find him.\\n[His voice is rising to an audible level.] \"You know he can\\'t think on his own, Kyle!\" \"Brush and floss, Kyle!\" \"Where has that finger been, Kyle?\" Dude!\\nAsk Cartman, they gave him an anal probe.\\nHey, you cows can\\'t get on this train!\\nHey, look, there\\'s Wendy Testaburger.\\nSilence, Kenny waits to see if the other guys got the message, then laughs.\\nCome on you guys, we need to figure out how to get out of school so we can get my little brother back.\\nVisitors took Kyle\\'s baby brother.\\nCartman farts more fire, the anal probe pops out, moves around and puts its metal arms on its hip, looking annoyed at Cartman\\'s determination that it didn\\'t happen.\\nThe probe goes back into Cartman\\'s ass.\\nCartman turns about so Chef can check out the probe.\\nPlease, Chef, if I don\\'t get out of school and get my little brother back from the aliens, my parents are gonna disown me.\\nOh, you guys sure are going a long ways to try and scare me.\\nOkay, Cartman, you can stop farting fire now.\\nUh—Would you stop going on about your little brother?\\na radio wave strikes Cartman and he gets big blushy cheeks and starts to sing.\\nKyle yells into Cartman\\'s ear.\\nIf you Visitors can hear me- The voice echoes in Cartman\\'s head.\\nHey look, [Kenny gets up.] I think Kenny\\'s okay.\\nArgh!) The fleeing cows run over Kenny.\\nCartman, they killed Kenny!\\nKyle pulls Kenny\\'s head off his body.\\nDude, like Chef says, I\\'ve gotta get a piece of lovin\\' while the gettin\\'s hot.\\nWell, it looks like she\\'s not going to show up, Stan.\\nLet\\'s go look for the Visitors now.\\nLook, can you guys just get down to business so we can go find my little brother?\\nHey, that kind of looks like...\\nKyle is explaining what happened to his little brother.\\nWell, if the fat kid has something implanted in his ass, maybe the Visitors are using him as part of their plan.\\nHey. You\\'re right, Wendy.\\nCome on, Stan, we have to go get Cartman.\\nLiane enters the room with Kyle, Stan, and Wendy.\\nThat\\'s okay, Eric, I think you need to go spend time with your little friends.\\nAll you have to do is fart some more, Cartman, and the Visitors are sure to come!\\nCome on Cartman, fart!\\nWhy is it that everything today has involved things either going in or coming out of my ass?!\\nCartman, there\\'s a 80-foot satellite dish sticking out of your ass!\\nGo on, Kyle, ask \\'em for your little brother back.\\nVi, Visitors, this morning you took my brother, Ike. He\\'s the little freckled kid that looks like a football.\\nA herd of cows runs away from the ship, but a trio of Visitors stops them in their tracks.\\nWait, where are you going, alien Visitors?\\nI wonder what that thing was that the Visitors gave the cows.\\nOne of the cows steps on the plate on the Visitor\\'s device.\\nCartman falls out of the sky, landing on his side next to Kyle and Stan.\\nOh, hey Cartman.\\nWow Cartman, the Visitors dropped you off just in time to go to school.'"
            ],
            "application/vnd.google.colaboratory.intrinsic+json": {
              "type": "string"
            }
          },
          "metadata": {},
          "execution_count": 34
        }
      ]
    },
    {
      "cell_type": "markdown",
      "source": [
        "That is much more manageable, now its time to clean our text. Lets define a function that is able to provide us with clean text."
      ],
      "metadata": {
        "id": "5NbiVAZ0yRy9"
      }
    },
    {
      "cell_type": "code",
      "execution_count": 36,
      "metadata": {
        "colab": {
          "base_uri": "https://localhost:8080/"
        },
        "id": "Drj-gvMf7EUE",
        "outputId": "6c7cc5ba-1697-4539-853b-23c1bc0b9dd2"
      },
      "outputs": [
        {
          "output_type": "stream",
          "name": "stdout",
          "text": [
            "Looking in indexes: https://pypi.org/simple, https://us-python.pkg.dev/colab-wheels/public/simple/\n",
            "Requirement already satisfied: contractions in /usr/local/lib/python3.9/dist-packages (0.1.73)\n",
            "Requirement already satisfied: textsearch>=0.0.21 in /usr/local/lib/python3.9/dist-packages (from contractions) (0.0.24)\n",
            "Requirement already satisfied: pyahocorasick in /usr/local/lib/python3.9/dist-packages (from textsearch>=0.0.21->contractions) (2.0.0)\n",
            "Requirement already satisfied: anyascii in /usr/local/lib/python3.9/dist-packages (from textsearch>=0.0.21->contractions) (0.3.2)\n"
          ]
        }
      ],
      "source": [
        "# Installing contrations\n",
        "!pip install contractions\n",
        "\n",
        "# Creating stopwords list\n",
        "stopwords_list = stopwords.words('english')\n",
        "stopwords_list += list(string.punctuation)\n",
        "\n",
        "## cleaning function\n",
        "def clean_text(txt):\n",
        "    ### separate sentences with '. '\n",
        "    txt = re.sub(r'\\.(?=[^ \\W\\d])', '. ', str(txt))\n",
        "    ### remove punctuations and characters\n",
        "    txt = re.sub(r'[^\\w\\s]', '', txt)\n",
        "    ### strip\n",
        "    txt = \" \".join([word.strip() for word in txt.split()])\n",
        "    ### lowercase\n",
        "    txt = txt.lower()\n",
        "    ### slang\n",
        "    txt = contractions.fix(txt)    \n",
        "    ### tokenize (convert from string to list)\n",
        "    lst_txt = txt.split()\n",
        "    ### lemmatization (convert the word into root word)\n",
        "    lem = nltk.stem.wordnet.WordNetLemmatizer()\n",
        "    lst_txt = [lem.lemmatize(word) for word in lst_txt]\n",
        "    ### remove Stopwords\n",
        "    lst_txt = [word for word in lst_txt if word not in \n",
        "                   stopwords_list]\n",
        "    ### back to string\n",
        "    txt = \" \".join(lst_txt)\n",
        "    return txt"
      ]
    },
    {
      "cell_type": "code",
      "source": [
        "# Cleaning our reduced text in s2s_df\n",
        "cleaned_text = []\n",
        "for t in s2s_df['reduced_text']:\n",
        "    cleaned_text.append(clean_text(t))\n",
        "\n",
        "# Viewing sample\n",
        "cleaned_text[0]"
      ],
      "metadata": {
        "colab": {
          "base_uri": "https://localhost:8080/",
          "height": 143
        },
        "id": "4EzOI-0z8Fy-",
        "outputId": "93beb3af-511f-4770-a222-41850a5b7b76"
      },
      "execution_count": 37,
      "outputs": [
        {
          "output_type": "execute_result",
          "data": {
            "text/plain": [
              "'little brother trying follow school ike chortle yeah go home little dildo dude call brother dildo plastic dick go vagina others laugh heyeah kyles little brother right kyle swing ike foot knocking cartman ow ike laugh dude kick cartman laying face visitor lower pajama wa dream cartman visitor yeah abduct people mutilate cow gave anal probe cartman child watch fat boy chef walk back car picture visitor shirt word believe written cartman go catatonic chef drive bus pull away leaving ike behind bus stop kyle run front bus stop buuuuus cartman visitor saw cow start running away child friend mr hat going tell u christopher columbus cannot sit help stupid brother ill come home without dad start yelling brother kyle looking little brother kyle whispering okay okay let u ditch school go find voice rising audible level know cannot think kyle brush floss kyle ha finger kyle dude ask cartman gave anal probe hey cow cannot get train hey look wendy testaburger silence kenny wait see guy got message laugh come guy need figure get school get little brother back visitor took kyles baby brother cartman fart fire anal probe pop move around put metal arm hip looking annoyed cartmans determination happen probe go back cartmans cartman turn chef check probe please chef get school get little brother back alien parent going disown oh guy sure going long way try scare okay cartman stop farting fire uhwould stop going little brother radio wave strike cartman get big blushy cheek start sing kyle yell cartmans ear visitor hear voice echo cartmans head hey look kenny get think kennys okay argh fleeing cow run kenny cartman killed kenny kyle pull kennys head body dude like chef say got get piece lovin gettins hot well look like going show stan let u go look visitor look guy get business go find little brother hey kind look like kyle explaining happened little brother well fat kid ha something implanted maybe visitor using part plan hey right wendy come stan go get cartman liane enters room kyle stan wendy okay eric think need go spend time little friend fart cartman visitor sure come come cartman fart everything today ha involved thing either going coming cartman 80foot satellite dish sticking go kyle ask little brother back vi visitor morning took brother ike little freckled kid look like football herd cow run away ship trio visitor stop track wait going alien visitor wonder thing wa visitor gave cow one cow step plate visitor device cartman fall sky landing side next kyle stan oh hey cartman wow cartman visitor dropped time go school'"
            ],
            "application/vnd.google.colaboratory.intrinsic+json": {
              "type": "string"
            }
          },
          "metadata": {},
          "execution_count": 37
        }
      ]
    },
    {
      "cell_type": "markdown",
      "source": [
        "As you can see the text above looks less busy, while grammaitcally it doesnt make sense, the format it is in now will be much easier for our model to understand. \n",
        "\n",
        "Lets apply the same cleaning fuction to the summary column of our dataframe."
      ],
      "metadata": {
        "id": "XqlGfSN60Ff3"
      }
    },
    {
      "cell_type": "code",
      "execution_count": 38,
      "metadata": {
        "id": "-joKbWdGgJLM",
        "colab": {
          "base_uri": "https://localhost:8080/",
          "height": 35
        },
        "outputId": "b8ebf728-de64-4585-df56-fdfd7e2a24ef"
      },
      "outputs": [
        {
          "output_type": "execute_result",
          "data": {
            "text/plain": [
              "'boy waiting school bus cartman explains odd nightmare previous night involving alien visitor'"
            ],
            "application/vnd.google.colaboratory.intrinsic+json": {
              "type": "string"
            }
          },
          "metadata": {},
          "execution_count": 38
        }
      ],
      "source": [
        "# Cleaning our summaries in s2s_df\n",
        "\n",
        "cleaned_summary = []\n",
        "for t in s2s_df['Summary']:\n",
        "    cleaned_summary.append(clean_text(t))\n",
        "\n",
        "# Viewing sample\n",
        "cleaned_summary[0]"
      ]
    },
    {
      "cell_type": "code",
      "execution_count": 39,
      "metadata": {
        "id": "6yhnM2CxgJXm",
        "colab": {
          "base_uri": "https://localhost:8080/",
          "height": 702
        },
        "outputId": "0186991c-4c8d-4def-8c08-28441ccd2391"
      },
      "outputs": [
        {
          "output_type": "execute_result",
          "data": {
            "text/plain": [
              "                             Title  \\\n",
              "0       Cartman Gets an Anal Probe   \n",
              "1                 Weight Gain 4000   \n",
              "2                          Volcano   \n",
              "3   Big Gay Al's Big Gay Boat Ride   \n",
              "4  An Elephant Makes Love to a Pig   \n",
              "\n",
              "                                                                                                                                                                                                      Text  \\\n",
              "0  At the bus stop. School days, school days, teacher's golden ru... Ah, damn it! My little brother's trying to follow me to school again. Eat banana. Ike, you can't come to school with me. [Ike Chor...   \n",
              "1  Mr. Garrison's classroom. Hey Stan, did you see that rainbow this morning? Yeah, it was huge. Ugh, I hate those things. Nobody hates rainbows. Yeah, what's there to hate about rainbows? Well, you ...   \n",
              "2  In front of Cartman's house. Jimbo, Ned, and the boys are waiting for Cartman. Now you be careful, Eric. The woods can be very dangerous. Okay, Mom. Ready to go hunting, Cartman? Yeah, my Uncle Ji...   \n",
              "3  Bus Stop. Hey, where's the school bus? We're gonna be late for football practice. A dog walks up to the boys. Hiya, Sparky. [Looking] Who's that? That's my new dog Sparky. He followed me to the bu...   \n",
              "4  Bus Stop. Hey Stan, where'd you get that black eye? Nothing, I mu-I mean, nowhere. Your sister beat you up again, huh? No! Eheh, you know, heh, your sister kicked your ass. She's just pissed off '...   \n",
              "\n",
              "                                                                                                                                                     Summary  \\\n",
              "0                      While the boys are waiting for the school bus, Cartman explains the odd nightmare he had the previous night involving alien visitors.   \n",
              "1            When Cartman's environmental essay wins a national contest, America's sweetheart, Kathie Lee Gifford, comes to South Park to present the award.   \n",
              "2                 A weekend trip to experience the finer points of camping, fishing and blowing animals to smithereens is threatened by an erupting volcano.   \n",
              "3    When Stan discovers his new dog Sparky is gay, he becomes so confused he loses his will to play in the big Homecoming Football game against North Park.   \n",
              "4  Kyle's mom won't let him keep his new pet, an elephant because it's so huge. So the boys turn to Dr. Mephesto to genetically engineer a smaller elephant.   \n",
              "\n",
              "                                                                                                                                                                                              reduced_text  \\\n",
              "0  My little brother's trying to follow me to school again.\\n[Ike Chortles.] Yeah, go home you little dildo!\\nDude, don't call my brother a dildo!\\n(It's a plastic dick that goes in a vagina.) [The o...   \n",
              "1  Well, you know, you'll just be sitting there, minding your own business, and they'll come, marching in and crawl up your leg and start biting the inside of your ass, and you'll be all like: \"EHY!\\...   \n",
              "2  Jimbo, Ned, and the boys are waiting for Cartman.\\nOkay, Mom. Ready to go hunting, Cartman?\\nYeah, my Uncle Jimbo says we gotta get up there early.\\nRight, Uncle Jimbo?\\n[In a slight falsetto.] Do...   \n",
              "3  Good boy, Sparky.\\nEverybody knows that Sylvester is the toughest dog in South Park.\\nYeah dude, I think your dog is gay.\\nThat dog is a gay homosexual.\\nStan's dog's a homo.\\nStan's dog's a homo....   \n",
              "4  Eheh, you know, heh, your sister kicked your ass.\\nYeah, but that sucks, to get your butt kicked by a girl, Stan.\\nIf she tried anything, I'd be like, \"hey, you get your bitch ass back in the kitc...   \n",
              "\n",
              "                                                                                                                                                                                              cleaned_text  \\\n",
              "0  little brother trying follow school ike chortle yeah go home little dildo dude call brother dildo plastic dick go vagina others laugh heyeah kyles little brother right kyle swing ike foot knocking...   \n",
              "1  well know sitting minding business come marching crawl leg start biting inside like ehy get stupid rainbow silence cartman hell talking right mr hat winner national save fragile planet contest say...   \n",
              "2  jimbo ned boy waiting cartman okay mom ready go hunting cartman yeah uncle jimbo say got get early right uncle jimbo slight falsetto get scared mountain cartman cartman start fighting kenny second...   \n",
              "3  good boy sparky everybody know sylvester toughest dog south park yeah dude think dog gay dog gay homosexual stans dog homo stans dog homo okay child know extremely excited nervous anxious homecomi...   \n",
              "4  eheh know heh sister kicked yeah suck get butt kicked girl stan tried anything id like hey get bitch back kitchen make pie parent even believe beat hey guy talked garrison told almost well yeah pi...   \n",
              "\n",
              "                                                                                                         cleaned_summary  \n",
              "0                           boy waiting school bus cartman explains odd nightmare previous night involving alien visitor  \n",
              "1  cartmans environmental essay win national contest america sweetheart kathie lee gifford come south park present award  \n",
              "2             weekend trip experience finer point camping fishing blowing animal smithereens threatened erupting volcano  \n",
              "3                  stan discovers new dog sparky gay becomes confused loses play big homecoming football game north park  \n",
              "4                    kyles mom let keep new pet elephant huge boy turn dr mephesto genetically engineer smaller elephant  "
            ],
            "text/html": [
              "\n",
              "  <div id=\"df-d632e744-fbe7-4869-9005-468eafb2a599\">\n",
              "    <div class=\"colab-df-container\">\n",
              "      <div>\n",
              "<style scoped>\n",
              "    .dataframe tbody tr th:only-of-type {\n",
              "        vertical-align: middle;\n",
              "    }\n",
              "\n",
              "    .dataframe tbody tr th {\n",
              "        vertical-align: top;\n",
              "    }\n",
              "\n",
              "    .dataframe thead th {\n",
              "        text-align: right;\n",
              "    }\n",
              "</style>\n",
              "<table border=\"1\" class=\"dataframe\">\n",
              "  <thead>\n",
              "    <tr style=\"text-align: right;\">\n",
              "      <th></th>\n",
              "      <th>Title</th>\n",
              "      <th>Text</th>\n",
              "      <th>Summary</th>\n",
              "      <th>reduced_text</th>\n",
              "      <th>cleaned_text</th>\n",
              "      <th>cleaned_summary</th>\n",
              "    </tr>\n",
              "  </thead>\n",
              "  <tbody>\n",
              "    <tr>\n",
              "      <th>0</th>\n",
              "      <td>Cartman Gets an Anal Probe</td>\n",
              "      <td>At the bus stop. School days, school days, teacher's golden ru... Ah, damn it! My little brother's trying to follow me to school again. Eat banana. Ike, you can't come to school with me. [Ike Chor...</td>\n",
              "      <td>While the boys are waiting for the school bus, Cartman explains the odd nightmare he had the previous night involving alien visitors.</td>\n",
              "      <td>My little brother's trying to follow me to school again.\\n[Ike Chortles.] Yeah, go home you little dildo!\\nDude, don't call my brother a dildo!\\n(It's a plastic dick that goes in a vagina.) [The o...</td>\n",
              "      <td>little brother trying follow school ike chortle yeah go home little dildo dude call brother dildo plastic dick go vagina others laugh heyeah kyles little brother right kyle swing ike foot knocking...</td>\n",
              "      <td>boy waiting school bus cartman explains odd nightmare previous night involving alien visitor</td>\n",
              "    </tr>\n",
              "    <tr>\n",
              "      <th>1</th>\n",
              "      <td>Weight Gain 4000</td>\n",
              "      <td>Mr. Garrison's classroom. Hey Stan, did you see that rainbow this morning? Yeah, it was huge. Ugh, I hate those things. Nobody hates rainbows. Yeah, what's there to hate about rainbows? Well, you ...</td>\n",
              "      <td>When Cartman's environmental essay wins a national contest, America's sweetheart, Kathie Lee Gifford, comes to South Park to present the award.</td>\n",
              "      <td>Well, you know, you'll just be sitting there, minding your own business, and they'll come, marching in and crawl up your leg and start biting the inside of your ass, and you'll be all like: \"EHY!\\...</td>\n",
              "      <td>well know sitting minding business come marching crawl leg start biting inside like ehy get stupid rainbow silence cartman hell talking right mr hat winner national save fragile planet contest say...</td>\n",
              "      <td>cartmans environmental essay win national contest america sweetheart kathie lee gifford come south park present award</td>\n",
              "    </tr>\n",
              "    <tr>\n",
              "      <th>2</th>\n",
              "      <td>Volcano</td>\n",
              "      <td>In front of Cartman's house. Jimbo, Ned, and the boys are waiting for Cartman. Now you be careful, Eric. The woods can be very dangerous. Okay, Mom. Ready to go hunting, Cartman? Yeah, my Uncle Ji...</td>\n",
              "      <td>A weekend trip to experience the finer points of camping, fishing and blowing animals to smithereens is threatened by an erupting volcano.</td>\n",
              "      <td>Jimbo, Ned, and the boys are waiting for Cartman.\\nOkay, Mom. Ready to go hunting, Cartman?\\nYeah, my Uncle Jimbo says we gotta get up there early.\\nRight, Uncle Jimbo?\\n[In a slight falsetto.] Do...</td>\n",
              "      <td>jimbo ned boy waiting cartman okay mom ready go hunting cartman yeah uncle jimbo say got get early right uncle jimbo slight falsetto get scared mountain cartman cartman start fighting kenny second...</td>\n",
              "      <td>weekend trip experience finer point camping fishing blowing animal smithereens threatened erupting volcano</td>\n",
              "    </tr>\n",
              "    <tr>\n",
              "      <th>3</th>\n",
              "      <td>Big Gay Al's Big Gay Boat Ride</td>\n",
              "      <td>Bus Stop. Hey, where's the school bus? We're gonna be late for football practice. A dog walks up to the boys. Hiya, Sparky. [Looking] Who's that? That's my new dog Sparky. He followed me to the bu...</td>\n",
              "      <td>When Stan discovers his new dog Sparky is gay, he becomes so confused he loses his will to play in the big Homecoming Football game against North Park.</td>\n",
              "      <td>Good boy, Sparky.\\nEverybody knows that Sylvester is the toughest dog in South Park.\\nYeah dude, I think your dog is gay.\\nThat dog is a gay homosexual.\\nStan's dog's a homo.\\nStan's dog's a homo....</td>\n",
              "      <td>good boy sparky everybody know sylvester toughest dog south park yeah dude think dog gay dog gay homosexual stans dog homo stans dog homo okay child know extremely excited nervous anxious homecomi...</td>\n",
              "      <td>stan discovers new dog sparky gay becomes confused loses play big homecoming football game north park</td>\n",
              "    </tr>\n",
              "    <tr>\n",
              "      <th>4</th>\n",
              "      <td>An Elephant Makes Love to a Pig</td>\n",
              "      <td>Bus Stop. Hey Stan, where'd you get that black eye? Nothing, I mu-I mean, nowhere. Your sister beat you up again, huh? No! Eheh, you know, heh, your sister kicked your ass. She's just pissed off '...</td>\n",
              "      <td>Kyle's mom won't let him keep his new pet, an elephant because it's so huge. So the boys turn to Dr. Mephesto to genetically engineer a smaller elephant.</td>\n",
              "      <td>Eheh, you know, heh, your sister kicked your ass.\\nYeah, but that sucks, to get your butt kicked by a girl, Stan.\\nIf she tried anything, I'd be like, \"hey, you get your bitch ass back in the kitc...</td>\n",
              "      <td>eheh know heh sister kicked yeah suck get butt kicked girl stan tried anything id like hey get bitch back kitchen make pie parent even believe beat hey guy talked garrison told almost well yeah pi...</td>\n",
              "      <td>kyles mom let keep new pet elephant huge boy turn dr mephesto genetically engineer smaller elephant</td>\n",
              "    </tr>\n",
              "  </tbody>\n",
              "</table>\n",
              "</div>\n",
              "      <button class=\"colab-df-convert\" onclick=\"convertToInteractive('df-d632e744-fbe7-4869-9005-468eafb2a599')\"\n",
              "              title=\"Convert this dataframe to an interactive table.\"\n",
              "              style=\"display:none;\">\n",
              "        \n",
              "  <svg xmlns=\"http://www.w3.org/2000/svg\" height=\"24px\"viewBox=\"0 0 24 24\"\n",
              "       width=\"24px\">\n",
              "    <path d=\"M0 0h24v24H0V0z\" fill=\"none\"/>\n",
              "    <path d=\"M18.56 5.44l.94 2.06.94-2.06 2.06-.94-2.06-.94-.94-2.06-.94 2.06-2.06.94zm-11 1L8.5 8.5l.94-2.06 2.06-.94-2.06-.94L8.5 2.5l-.94 2.06-2.06.94zm10 10l.94 2.06.94-2.06 2.06-.94-2.06-.94-.94-2.06-.94 2.06-2.06.94z\"/><path d=\"M17.41 7.96l-1.37-1.37c-.4-.4-.92-.59-1.43-.59-.52 0-1.04.2-1.43.59L10.3 9.45l-7.72 7.72c-.78.78-.78 2.05 0 2.83L4 21.41c.39.39.9.59 1.41.59.51 0 1.02-.2 1.41-.59l7.78-7.78 2.81-2.81c.8-.78.8-2.07 0-2.86zM5.41 20L4 18.59l7.72-7.72 1.47 1.35L5.41 20z\"/>\n",
              "  </svg>\n",
              "      </button>\n",
              "      \n",
              "  <style>\n",
              "    .colab-df-container {\n",
              "      display:flex;\n",
              "      flex-wrap:wrap;\n",
              "      gap: 12px;\n",
              "    }\n",
              "\n",
              "    .colab-df-convert {\n",
              "      background-color: #E8F0FE;\n",
              "      border: none;\n",
              "      border-radius: 50%;\n",
              "      cursor: pointer;\n",
              "      display: none;\n",
              "      fill: #1967D2;\n",
              "      height: 32px;\n",
              "      padding: 0 0 0 0;\n",
              "      width: 32px;\n",
              "    }\n",
              "\n",
              "    .colab-df-convert:hover {\n",
              "      background-color: #E2EBFA;\n",
              "      box-shadow: 0px 1px 2px rgba(60, 64, 67, 0.3), 0px 1px 3px 1px rgba(60, 64, 67, 0.15);\n",
              "      fill: #174EA6;\n",
              "    }\n",
              "\n",
              "    [theme=dark] .colab-df-convert {\n",
              "      background-color: #3B4455;\n",
              "      fill: #D2E3FC;\n",
              "    }\n",
              "\n",
              "    [theme=dark] .colab-df-convert:hover {\n",
              "      background-color: #434B5C;\n",
              "      box-shadow: 0px 1px 3px 1px rgba(0, 0, 0, 0.15);\n",
              "      filter: drop-shadow(0px 1px 2px rgba(0, 0, 0, 0.3));\n",
              "      fill: #FFFFFF;\n",
              "    }\n",
              "  </style>\n",
              "\n",
              "      <script>\n",
              "        const buttonEl =\n",
              "          document.querySelector('#df-d632e744-fbe7-4869-9005-468eafb2a599 button.colab-df-convert');\n",
              "        buttonEl.style.display =\n",
              "          google.colab.kernel.accessAllowed ? 'block' : 'none';\n",
              "\n",
              "        async function convertToInteractive(key) {\n",
              "          const element = document.querySelector('#df-d632e744-fbe7-4869-9005-468eafb2a599');\n",
              "          const dataTable =\n",
              "            await google.colab.kernel.invokeFunction('convertToInteractive',\n",
              "                                                     [key], {});\n",
              "          if (!dataTable) return;\n",
              "\n",
              "          const docLinkHtml = 'Like what you see? Visit the ' +\n",
              "            '<a target=\"_blank\" href=https://colab.research.google.com/notebooks/data_table.ipynb>data table notebook</a>'\n",
              "            + ' to learn more about interactive tables.';\n",
              "          element.innerHTML = '';\n",
              "          dataTable['output_type'] = 'display_data';\n",
              "          await google.colab.output.renderOutput(dataTable, element);\n",
              "          const docLink = document.createElement('div');\n",
              "          docLink.innerHTML = docLinkHtml;\n",
              "          element.appendChild(docLink);\n",
              "        }\n",
              "      </script>\n",
              "    </div>\n",
              "  </div>\n",
              "  "
            ]
          },
          "metadata": {},
          "execution_count": 39
        }
      ],
      "source": [
        "# Creating new columns in dataframe for cleaned texts\n",
        "\n",
        "s2s_df['cleaned_text']=cleaned_text\n",
        "s2s_df['cleaned_summary']=cleaned_summary\n",
        "s2s_df.head()"
      ]
    },
    {
      "cell_type": "code",
      "execution_count": 40,
      "metadata": {
        "id": "q-NAwjjbhbD7"
      },
      "outputs": [],
      "source": [
        "s2s_df.replace('', np.nan, inplace=True)\n",
        "s2s_df.dropna(axis=0,inplace=True)"
      ]
    },
    {
      "cell_type": "markdown",
      "source": [
        "Our next step is to investigate how many unique words we have in our documents. This will help us to determine our sequence an appropriate sequence length we want to limit the amount of words we expose to our model. "
      ],
      "metadata": {
        "id": "18hH1mLA3VUp"
      }
    },
    {
      "cell_type": "code",
      "execution_count": 41,
      "metadata": {
        "colab": {
          "base_uri": "https://localhost:8080/",
          "height": 452
        },
        "id": "eoAOIXKWhbaV",
        "outputId": "b7c98064-3082-48ad-b98d-f69e3bf613d9"
      },
      "outputs": [
        {
          "output_type": "display_data",
          "data": {
            "text/plain": [
              "<Figure size 640x480 with 2 Axes>"
            ],
            "image/png": "[encoded data removed]"
          },
          "metadata": {}
        }
      ],
      "source": [
        "import matplotlib.pyplot as plt\n",
        "\n",
        "text_word_count = []\n",
        "summary_word_count = []\n",
        "\n",
        "# populate the lists with sentence lengths\n",
        "for i in s2s_df['cleaned_text']:\n",
        "      text_word_count.append(len(i.split()))\n",
        "\n",
        "for i in s2s_df['cleaned_summary']:\n",
        "      summary_word_count.append(len(i.split()))\n",
        "\n",
        "length_df = pd.DataFrame({'text':text_word_count, 'summary':summary_word_count})\n",
        "\n",
        "length_df.hist(bins = 30)\n",
        "plt.show()"
      ]
    },
    {
      "cell_type": "code",
      "execution_count": 42,
      "metadata": {
        "colab": {
          "base_uri": "https://localhost:8080/"
        },
        "id": "pG7WYd_7hbiQ",
        "outputId": "0dbe8327-f8fd-4996-dd66-e2aa1117d791"
      },
      "outputs": [
        {
          "output_type": "stream",
          "name": "stdout",
          "text": [
            "0.8819672131147541\n"
          ]
        }
      ],
      "source": [
        "cnt=0\n",
        "for i in s2s_df['cleaned_summary']:\n",
        "    if(len(i.split())<=20):\n",
        "        cnt=cnt+1\n",
        "print(cnt/len(s2s_df['cleaned_summary']))"
      ]
    },
    {
      "cell_type": "code",
      "execution_count": 43,
      "metadata": {
        "colab": {
          "base_uri": "https://localhost:8080/"
        },
        "id": "TLP_84_shbpG",
        "outputId": "da393e58-a88a-4596-ff39-9c3a3c2332dc"
      },
      "outputs": [
        {
          "output_type": "stream",
          "name": "stdout",
          "text": [
            "0.580327868852459\n"
          ]
        }
      ],
      "source": [
        "cnt=0\n",
        "for i in s2s_df['cleaned_text']:\n",
        "    if(len(i.split())<=500):\n",
        "        cnt=cnt+1\n",
        "print(cnt/len(s2s_df['cleaned_text']))"
      ]
    },
    {
      "cell_type": "code",
      "execution_count": 44,
      "metadata": {
        "id": "RyrxGYGxhbwd"
      },
      "outputs": [],
      "source": [
        "max_text_len=500\n",
        "max_summary_len=20"
      ]
    },
    {
      "cell_type": "code",
      "execution_count": 45,
      "metadata": {
        "id": "6u54bjiDhb3r"
      },
      "outputs": [],
      "source": [
        "cleaned_text =np.array(s2s_df['cleaned_text'])\n",
        "cleaned_summary=np.array(s2s_df['cleaned_summary'])\n",
        "\n",
        "short_text=[]\n",
        "short_summary=[]\n",
        "\n",
        "for i in range(len(cleaned_text)):\n",
        "    if(len(cleaned_summary[i].split())<=max_summary_len and len(cleaned_text[i].split())<=max_text_len):\n",
        "        short_text.append(cleaned_text[i])\n",
        "        short_summary.append(cleaned_summary[i])\n",
        "        \n",
        "df=pd.DataFrame({'text':short_text,'summary':short_summary})"
      ]
    },
    {
      "cell_type": "code",
      "execution_count": 46,
      "metadata": {
        "id": "5_Wjxh3Bhb-n"
      },
      "outputs": [],
      "source": [
        "df['summary'] = df['summary'].apply(lambda x : 'sostok '+ x + ' eostok')"
      ]
    },
    {
      "cell_type": "code",
      "execution_count": 47,
      "metadata": {
        "colab": {
          "base_uri": "https://localhost:8080/"
        },
        "id": "aOnGkpsG9e7L",
        "outputId": "9a18f84b-b300-4169-c18d-5424605db000"
      },
      "outputs": [
        {
          "output_type": "stream",
          "name": "stdout",
          "text": [
            "Review: little brother trying follow school ike chortle yeah go home little dildo dude call brother dildo plastic dick go vagina others laugh heyeah kyles little brother right kyle swing ike foot knocking cartman ow ike laugh dude kick cartman laying face visitor lower pajama wa dream cartman visitor yeah abduct people mutilate cow gave anal probe cartman child watch fat boy chef walk back car picture visitor shirt word believe written cartman go catatonic chef drive bus pull away leaving ike behind bus stop kyle run front bus stop buuuuus cartman visitor saw cow start running away child friend mr hat going tell u christopher columbus cannot sit help stupid brother ill come home without dad start yelling brother kyle looking little brother kyle whispering okay okay let u ditch school go find voice rising audible level know cannot think kyle brush floss kyle ha finger kyle dude ask cartman gave anal probe hey cow cannot get train hey look wendy testaburger silence kenny wait see guy got message laugh come guy need figure get school get little brother back visitor took kyles baby brother cartman fart fire anal probe pop move around put metal arm hip looking annoyed cartmans determination happen probe go back cartmans cartman turn chef check probe please chef get school get little brother back alien parent going disown oh guy sure going long way try scare okay cartman stop farting fire uhwould stop going little brother radio wave strike cartman get big blushy cheek start sing kyle yell cartmans ear visitor hear voice echo cartmans head hey look kenny get think kennys okay argh fleeing cow run kenny cartman killed kenny kyle pull kennys head body dude like chef say got get piece lovin gettins hot well look like going show stan let u go look visitor look guy get business go find little brother hey kind look like kyle explaining happened little brother well fat kid ha something implanted maybe visitor using part plan hey right wendy come stan go get cartman liane enters room kyle stan wendy okay eric think need go spend time little friend fart cartman visitor sure come come cartman fart everything today ha involved thing either going coming cartman 80foot satellite dish sticking go kyle ask little brother back vi visitor morning took brother ike little freckled kid look like football herd cow run away ship trio visitor stop track wait going alien visitor wonder thing wa visitor gave cow one cow step plate visitor device cartman fall sky landing side next kyle stan oh hey cartman wow cartman visitor dropped time go school\n",
            "Summary: sostok boy waiting school bus cartman explains odd nightmare previous night involving alien visitor eostok\n",
            "\n",
            "\n",
            "Review: well know sitting minding business come marching crawl leg start biting inside like ehy get stupid rainbow silence cartman hell talking right mr hat winner national save fragile planet contest say erics trophy presented kathie lee gifford kathie lee coming south park thinking kathie lee gifford kathie lee gifford south park even child south park put little play kathie lee love child kathie lee gifford coming south park yeah cartman cheated environmental essay contest mr garrison hand forgotten pain suffering kathie lee gifford caused wow mr hat look like might win id like stumble bum see fact kind topdrawer firstrate chum attract mexican puppet say wowwee looka tourist puppet tonight landed pow right pot jam coming south park know way make better mr hat could kill kathie lee gifford child know miss kathie lee gifford south park present award kid essay going luscious little youngster play history south park mr garrison asking direct little play turning face cartman believe minute contest fairly fat boy mr garrison bed hears kathie lee singing head could see little crowd mine eating fancy chow wake startled well mr garrison little play going pioneer come stage start beating indian tossing mr garrison child beating senseless front kathie lee gifford actually think kathie lee gifford would enjoy hell kathie lee gifford said hell kathie lee gifford boo around cartman fat walk street people go god damn big fat jealous weakling wendy move cartman whisper stan going find cartmans paper get bottom essay eric cartman wrote following page rather bulk lived alone wood shore mr garrison enters well mr hat guess old kathie lee really surprised get tomorrow nice gun mr garrison going try kill kathie lee gifford cartman look stan kathie lee come riding bullet proof bubble back truck mr garrison looking book depository window damn guess person america thought killing kathie lee gifford stage great pride honor id like welcome mr kathie lee gifford south park south park elementary chef sing special song honor mr lee gifford know kathie lee special woman god bless kathie lee wendy stan run officer barbrady mr garrison kill kathie lee favorite celebrity mine crowd cheer kathie lee gifford cartman get stage help kyle kenny kathie lee bubble land truck kathie lee public interest holding cartmans award winning paper yeah kathie lee giffords gone lucky missed kathie lee gifford nobody got hurt u today live via satellite eric cartman south park obese cannot even get house\n",
            "Summary: sostok cartmans environmental essay win national contest america sweetheart kathie lee gifford come south park present award eostok\n",
            "\n",
            "\n",
            "Review: jimbo ned boy waiting cartman okay mom ready go hunting cartman yeah uncle jimbo say got get early right uncle jimbo slight falsetto get scared mountain cartman cartman start fighting kenny second shoot anything look human third never spill beer bullet chamber mmmmoh yeah right think eight year old kid drink beer mmm jimbo drive humvee small mountain close town like gun used nam vietnam cartman cartman always make stuff ned cannot believe anything say uncle jimbo say going take hunting africa hey wa coming right u therefore shoot somethin say coming right u wow smart uncle jimbo mmm jimbo look mm look like 46 gauge ned coming right u hell talking want shoot bunny babbling making sense hysterical well ned look like well use old indian fire trick hehehaahaa hey stopdropand roll ned haaahaaaaahaha cartman cooking weenie neds burning body hey guy work pretty good right meah mayor school child camping mountain right hey ned hand gin yeah cartmans pee guy ever heard turn flashlight face dramatic effect scuzzlebutt scuzzlebutt creature life mountain kill anybody dare climb top maybe scuzzlebutt coming weave u wicker basket uncle jimbo cry mmmoh lord kumbayah let u see like actually see scuzzlebutt uncle jimbo ned well stan want know think kenny throw grenade killing four fish uncle jimbo cartmans missing heh think ever seen kid cool kenny ticking timebomb hot lava wait engulf people end miserable life one last fleeting moment excruciatingly painful burning agony know right child sobsob camping mountain ready 321 melodramatically know right child camping mountain okay people let u go get kid many animal today jimbo mmm scuzzlebutt lord mountain well dig large trench divert lava canyon would bypass south park pretty much completely see cartman still dressed scuzzlebutt look people south park try desperately save mountain town others look missing townspeople look like got idea normally come stan kill oh god killed kenny lava coming right u jimbo others made mountain way town ha cut quick ned shoot well boy sorry got killed hey look kennys okay stan shoot scuzzlebutt wanted proud like kenny\n",
            "Summary: sostok weekend trip experience finer point camping fishing blowing animal smithereens threatened erupting volcano eostok\n",
            "\n",
            "\n",
            "Review: good boy sparky everybody know sylvester toughest dog south park yeah dude think dog gay dog gay homosexual stans dog homo stans dog homo okay child know extremely excited nervous anxious homecoming game middle park football like making love reeeeeally beautiful woman cartman hike ball stans head hey practice coming chef think shot beating spread middle park year look towards field kenny tackle cartman causing drop ball hey stan dog aw dog rex follows football practice time stan forgot mention dog gay homosexual sure glad dog gay yeah maybe name dog sparkette stan well stan little south park quarterback star eric stanley might lead team victory middle park cowboy first time decade go outside practice football like good little heterosexual going need kick beat cowboy hey speaking pounding come stans little homo dog sparky come panting pink scarf sparky look stan confusion growl hey stan dog pride march lately laugh stupid little gay dog gay dog gay dog want 500 south park cow nephew stan best quarterback school ha ever seen come ned middle park going get halftime show never forget stan notice pink scarf sparky care dog gay way dude mom say god hate gay people think garrison said gay people suck know mr garrison said homosexual evil sparky doe seem evil want gay dog cannot concentrate dog gay hello little pup big gay al sparky look well glad found big gay animal sanctuary kenny kyle cartman bus stop guy seen sparky still ha come back well help look game stan well look like chef south park cow coach look little nervous south park football field first quarter yeah hell little jewish kid playing quarterback got enrique sideline look like bomb still attached yay stan follows dog footprint find facing big gay al big gay animal sanctuary gay dog ran away wa wondering maybe came enter lot gay dog fumble middle park get ball stan dancing monkey see sparky sparky follows stan south park football field second quarter minute go half score middle park cowboy 52 south park cow 0 okay stan think get line big gay boat ride stan look boat look like south park cow even going beat 72 point spread long shot okay hey gay south park football field south park football field south park football field well wrap stan sparky come onto field stan south park star quarterback stan hike ball stan throw ball clock run final score middle park cowboy 73 south park cow 6 south park beat spread big gay al suddenly stans side\n",
            "Summary: sostok stan discovers new dog sparky gay becomes confused loses play big homecoming football game north park eostok\n",
            "\n",
            "\n",
            "Review: eheh know heh sister kicked yeah suck get butt kicked girl stan tried anything id like hey get bitch back kitchen make pie parent even believe beat hey guy talked garrison told almost well yeah pig smart like elephant boy look like welcome anywhere elephant child friend mr hat going tell u genetic engineering right mr garrison genetic engineering exciting new science could splice elephant gene dog cat potbellied pig gene oh yeah bet genetically clone whole human crossbreed elephant pig yes mr garrison genetic engineering let u u correct god horrible horrible mistake like german people know boy might want visit genetic engineering ranch outside town help shelly turn see stan coming sofa shadow got cartmans pig splice gene elephant yeah sissy chick tried kick id like hey listen missy eh yewhy go knit sweater slap face appears broken window cartman going splicing fluffy elephant together want crossbreed elephant pig want make little potbellied elephant people keep house pet oh well sorry child pig elephant dna splice diindoon pig elephant dna splice need genetically engineer pig elephant gene splice dooodnnndoodnn pig elephant dna pigelephant want combine pig elephant get make sweeet love think elephant would make love pig think pig would want make love stupid elephant hey uh guy want come house got work stan think take elephant get drunk sister going kick going hit hand yeah stan girl yeah girl tried kick id like hey stop dressin like mailman annnd making dance go smoke crack bedroom sex guy even know dad bed astonished look guy stan use family love weapon shelly next time going kick tell shelly sister love want see handling breast sick dude sister fuckin elephant going make love fluffy shelly smile stan smile look like going let go elephant pig approach inside south park genetic engineering ranch inside south park genetic engineering ranch inside south park genetic engineering ranch clone stan throw fourassed frog wall killing clone stan jump window tear ranch gate entrance clone stan ha car one hand destroying clone stan throw mr garrison aside come stan even know would go clone stan running two people arm asked wa wreaking much havoc home town little boy reply simply stan bachomp bachewychomp bachewychomp boy watching xfiles much thing genetic clone ahhhh stan would like go home meet sister boy clone stan approach front door clone stan proceeds destroy house kenny run towards clone stan us chair chuck microwave kitchen boy run clone stan knock one aside hey got clone mephesto shoot clone stan head zip away yeah stan go find cartmans pig pregnant shelly begin beating crap stan doe look like pig elephant\n",
            "Summary: sostok kyles mom let keep new pet elephant huge boy turn dr mephesto genetically engineer smaller elephant eostok\n",
            "\n",
            "\n"
          ]
        }
      ],
      "source": [
        "for i in range(5):\n",
        "    print(\"Review:\",df['text'][i])\n",
        "    print(\"Summary:\",df['summary'][i])\n",
        "    print(\"\\n\")"
      ]
    },
    {
      "cell_type": "code",
      "execution_count": 48,
      "metadata": {
        "id": "J4uLV6VchcFE"
      },
      "outputs": [],
      "source": [
        "from sklearn.model_selection import train_test_split\n",
        "x_tr,x_val,y_tr,y_val=train_test_split(np.array(df['text']),np.array(df['summary']),test_size=0.1,random_state=0,shuffle=True) "
      ]
    },
    {
      "cell_type": "code",
      "execution_count": 49,
      "metadata": {
        "id": "0F1e6I8miqV1"
      },
      "outputs": [],
      "source": [
        "from keras.preprocessing.text import Tokenizer \n",
        "\n",
        "#prepare a tokenizer for reviews on training data\n",
        "x_tokenizer = Tokenizer() \n",
        "x_tokenizer.fit_on_texts(list(x_tr))"
      ]
    },
    {
      "cell_type": "code",
      "execution_count": 50,
      "metadata": {
        "colab": {
          "base_uri": "https://localhost:8080/"
        },
        "id": "Y6L0LxFdiqpv",
        "outputId": "7eb4d91d-47a8-498e-e72b-08fe4269706d"
      },
      "outputs": [
        {
          "output_type": "stream",
          "name": "stdout",
          "text": [
            "% of rare words in vocabulary: 73.8544848653152\n",
            "Total Coverage of rare words: 13.655475987123053\n"
          ]
        }
      ],
      "source": [
        "thresh=5\n",
        "\n",
        "cnt=0\n",
        "tot_cnt=0\n",
        "freq=0\n",
        "tot_freq=0\n",
        "\n",
        "for key,value in x_tokenizer.word_counts.items():\n",
        "    tot_cnt=tot_cnt+1\n",
        "    tot_freq=tot_freq+value\n",
        "    if(value<thresh):\n",
        "        cnt=cnt+1\n",
        "        freq=freq+value\n",
        "    \n",
        "print(\"% of rare words in vocabulary:\",(cnt/tot_cnt)*100)\n",
        "print(\"Total Coverage of rare words:\",(freq/tot_freq)*100)"
      ]
    },
    {
      "cell_type": "code",
      "execution_count": 51,
      "metadata": {
        "id": "e2EV271iiq1I"
      },
      "outputs": [],
      "source": [
        "\n",
        "#prepare a tokenizer for reviews on training data\n",
        "x_tokenizer = Tokenizer(num_words=tot_cnt-cnt) \n",
        "x_tokenizer.fit_on_texts(list(x_tr))\n",
        "\n",
        "#convert text sequences into integer sequences\n",
        "x_tr_seq    =   x_tokenizer.texts_to_sequences(x_tr) \n",
        "x_val_seq   =   x_tokenizer.texts_to_sequences(x_val)\n",
        "\n",
        "#padding zero upto maximum length\n",
        "x_tr    =   kprocessing.sequence.pad_sequences(x_tr_seq,  maxlen=max_text_len, padding='post')\n",
        "x_val   =   kprocessing.sequence.pad_sequences(x_val_seq, maxlen=max_text_len, padding='post')\n",
        "\n",
        "#size of vocabulary ( +1 for padding token)\n",
        "x_voc   =  x_tokenizer.num_words + 1"
      ]
    },
    {
      "cell_type": "code",
      "execution_count": 52,
      "metadata": {
        "colab": {
          "base_uri": "https://localhost:8080/"
        },
        "id": "gcFgHW1Hiq9H",
        "outputId": "a9040f1a-ee8d-4022-b8f2-22968266319d"
      },
      "outputs": [
        {
          "output_type": "execute_result",
          "data": {
            "text/plain": [
              "1884"
            ]
          },
          "metadata": {},
          "execution_count": 52
        }
      ],
      "source": [
        "x_voc\n"
      ]
    },
    {
      "cell_type": "code",
      "execution_count": 53,
      "metadata": {
        "id": "ht1tpmIfirEF"
      },
      "outputs": [],
      "source": [
        "#prepare a tokenizer for reviews on training data\n",
        "y_tokenizer = Tokenizer()   \n",
        "y_tokenizer.fit_on_texts(list(y_tr))"
      ]
    },
    {
      "cell_type": "code",
      "execution_count": 54,
      "metadata": {
        "colab": {
          "base_uri": "https://localhost:8080/"
        },
        "id": "gcmrXyYYirLA",
        "outputId": "861918ea-07fd-4ad4-f825-a2fa8476049a"
      },
      "outputs": [
        {
          "output_type": "stream",
          "name": "stdout",
          "text": [
            "% of rare words in vocabulary: 95.30271398747391\n",
            "Total Coverage of rare words: 61.87729417933928\n"
          ]
        }
      ],
      "source": [
        "thresh=5\n",
        "\n",
        "cnt=0\n",
        "tot_cnt=0\n",
        "freq=0\n",
        "tot_freq=0\n",
        "\n",
        "for key,value in y_tokenizer.word_counts.items():\n",
        "    tot_cnt=tot_cnt+1\n",
        "    tot_freq=tot_freq+value\n",
        "    if(value<thresh):\n",
        "        cnt=cnt+1\n",
        "        freq=freq+value\n",
        "    \n",
        "print(\"% of rare words in vocabulary:\",(cnt/tot_cnt)*100)\n",
        "print(\"Total Coverage of rare words:\",(freq/tot_freq)*100)"
      ]
    },
    {
      "cell_type": "code",
      "execution_count": 55,
      "metadata": {
        "id": "iuJToDNPirRM"
      },
      "outputs": [],
      "source": [
        "#prepare a tokenizer for reviews on training data\n",
        "y_tokenizer = Tokenizer(num_words=tot_cnt-cnt) \n",
        "y_tokenizer.fit_on_texts(list(y_tr))\n",
        "\n",
        "#convert text sequences into integer sequences\n",
        "y_tr_seq    =   y_tokenizer.texts_to_sequences(y_tr) \n",
        "y_val_seq   =   y_tokenizer.texts_to_sequences(y_val) \n",
        "\n",
        "#padding zero upto maximum length\n",
        "y_tr    =   kprocessing.sequence.pad_sequences(y_tr_seq, maxlen=max_summary_len, padding='post')\n",
        "y_val   =   kprocessing.sequence.pad_sequences(y_val_seq, maxlen=max_summary_len, padding='post')\n",
        "\n",
        "#size of vocabulary\n",
        "y_voc  =   y_tokenizer.num_words +1"
      ]
    },
    {
      "cell_type": "code",
      "execution_count": 56,
      "metadata": {
        "colab": {
          "base_uri": "https://localhost:8080/"
        },
        "id": "o27dP6UiirW8",
        "outputId": "16e1767e-f4b3-44e9-b092-1375ce5fba26"
      },
      "outputs": [
        {
          "output_type": "execute_result",
          "data": {
            "text/plain": [
              "(137, 137)"
            ]
          },
          "metadata": {},
          "execution_count": 56
        }
      ],
      "source": [
        "y_tokenizer.word_counts['sostok'],len(y_tr)   \n"
      ]
    },
    {
      "cell_type": "code",
      "execution_count": 57,
      "metadata": {
        "colab": {
          "base_uri": "https://localhost:8080/"
        },
        "id": "5hHnbVe5IXeF",
        "outputId": "2312f767-6ba2-4f65-f0ad-baadacd2930e"
      },
      "outputs": [
        {
          "output_type": "execute_result",
          "data": {
            "text/plain": [
              "(137, 137)"
            ]
          },
          "metadata": {},
          "execution_count": 57
        }
      ],
      "source": [
        "y_tokenizer.word_counts['eostok'],len(y_tr)   \n"
      ]
    },
    {
      "cell_type": "code",
      "execution_count": 58,
      "metadata": {
        "id": "71ucnvIZkGJa"
      },
      "outputs": [],
      "source": [
        "ind=[]\n",
        "for i in range(len(y_tr)):\n",
        "    cnt=0\n",
        "    for j in y_tr[i]:\n",
        "        if j!=0:\n",
        "            cnt=cnt+1\n",
        "    if(cnt==2):\n",
        "        ind.append(i)\n",
        "\n",
        "y_tr=np.delete(y_tr,ind, axis=0)\n",
        "x_tr=np.delete(x_tr,ind, axis=0)"
      ]
    },
    {
      "cell_type": "code",
      "execution_count": 59,
      "metadata": {
        "id": "ZcZGIlzVkKP6"
      },
      "outputs": [],
      "source": [
        "ind=[]\n",
        "for i in range(len(y_val)):\n",
        "    cnt=0\n",
        "    for j in y_val[i]:\n",
        "        if j!=0:\n",
        "            cnt=cnt+1\n",
        "    if(cnt==2):\n",
        "        ind.append(i)\n",
        "\n",
        "y_val=np.delete(y_val,ind, axis=0)\n",
        "x_val=np.delete(x_val,ind, axis=0)"
      ]
    },
    {
      "cell_type": "code",
      "execution_count": 60,
      "metadata": {
        "colab": {
          "base_uri": "https://localhost:8080/"
        },
        "id": "d7I5RjymkPZE",
        "outputId": "0cabcfa5-a863-479d-e243-05ab822cbc72"
      },
      "outputs": [
        {
          "output_type": "stream",
          "name": "stdout",
          "text": [
            "Model: \"model\"\n",
            "__________________________________________________________________________________________________\n",
            " Layer (type)                   Output Shape         Param #     Connected to                     \n",
            "==================================================================================================\n",
            " input_1 (InputLayer)           [(None, 500)]        0           []                               \n",
            "                                                                                                  \n",
            " embedding (Embedding)          (None, 500, 100)     188400      ['input_1[0][0]']                \n",
            "                                                                                                  \n",
            " lstm (LSTM)                    [(None, 500, 250),   351000      ['embedding[0][0]']              \n",
            "                                 (None, 250),                                                     \n",
            "                                 (None, 250)]                                                     \n",
            "                                                                                                  \n",
            " input_2 (InputLayer)           [(None, None)]       0           []                               \n",
            "                                                                                                  \n",
            " lstm_1 (LSTM)                  [(None, 500, 250),   501000      ['lstm[0][0]']                   \n",
            "                                 (None, 250),                                                     \n",
            "                                 (None, 250)]                                                     \n",
            "                                                                                                  \n",
            " embedding_1 (Embedding)        (None, None, 100)    4600        ['input_2[0][0]']                \n",
            "                                                                                                  \n",
            " lstm_2 (LSTM)                  [(None, 500, 250),   501000      ['lstm_1[0][0]']                 \n",
            "                                 (None, 250),                                                     \n",
            "                                 (None, 250)]                                                     \n",
            "                                                                                                  \n",
            " lstm_3 (LSTM)                  [(None, None, 250),  351000      ['embedding_1[0][0]',            \n",
            "                                 (None, 250),                     'lstm_2[0][1]',                 \n",
            "                                 (None, 250)]                     'lstm_2[0][2]']                 \n",
            "                                                                                                  \n",
            " attention_layer (AttentionLaye  ((None, None, 250),  125250     ['lstm_2[0][0]',                 \n",
            " r)                              (None, None, 500))               'lstm_3[0][0]']                 \n",
            "                                                                                                  \n",
            " concat_layer (Concatenate)     (None, None, 500)    0           ['lstm_3[0][0]',                 \n",
            "                                                                  'attention_layer[0][0]']        \n",
            "                                                                                                  \n",
            " time_distributed (TimeDistribu  (None, None, 46)    23046       ['concat_layer[0][0]']           \n",
            " ted)                                                                                             \n",
            "                                                                                                  \n",
            "==================================================================================================\n",
            "Total params: 2,045,296\n",
            "Trainable params: 2,045,296\n",
            "Non-trainable params: 0\n",
            "__________________________________________________________________________________________________\n"
          ]
        }
      ],
      "source": [
        "from keras import backend as K \n",
        "K.clear_session()\n",
        "\n",
        "latent_dim = 250\n",
        "embedding_dim=100\n",
        "\n",
        "# Encoder\n",
        "encoder_inputs = Input(shape=(max_text_len,))\n",
        "\n",
        "#embedding layer\n",
        "enc_emb =  Embedding(x_voc, embedding_dim, trainable=True)(encoder_inputs)\n",
        "\n",
        "#encoder lstm 1\n",
        "encoder_lstm1 = LSTM(latent_dim,return_sequences=True,return_state=True,dropout=0.4,recurrent_dropout=0.4)\n",
        "encoder_output1, state_h1, state_c1 = encoder_lstm1(enc_emb)\n",
        "\n",
        "#encoder lstm 2\n",
        "encoder_lstm2 = LSTM(latent_dim,return_sequences=True,return_state=True,dropout=0.4,recurrent_dropout=0.4)\n",
        "encoder_output2, state_h2, state_c2 = encoder_lstm2(encoder_output1)\n",
        "\n",
        "#encoder lstm 3\n",
        "encoder_lstm3=LSTM(latent_dim, return_state=True, return_sequences=True,dropout=0.4,recurrent_dropout=0.4)\n",
        "encoder_outputs, state_h, state_c= encoder_lstm3(encoder_output2)\n",
        "\n",
        "# Set up the decoder, using `encoder_states` as initial state.\n",
        "decoder_inputs = Input(shape=(None,))\n",
        "\n",
        "#embedding layer\n",
        "dec_emb_layer = Embedding(y_voc, embedding_dim,trainable=True)\n",
        "dec_emb = dec_emb_layer(decoder_inputs)\n",
        "\n",
        "decoder_lstm = LSTM(latent_dim, return_sequences=True, return_state=True,dropout=0.4,recurrent_dropout=0.2)\n",
        "decoder_outputs,decoder_fwd_state, decoder_back_state = decoder_lstm(dec_emb,initial_state=[state_h, state_c])\n",
        "\n",
        "# Attention layer\n",
        "attn_layer = AttentionLayer(name='attention_layer')\n",
        "attn_out, attn_states = attn_layer([encoder_outputs, decoder_outputs])\n",
        "\n",
        "\n",
        "# Concat attention input and decoder LSTM output\n",
        "decoder_concat_input = Concatenate(axis=-1, name='concat_layer')([decoder_outputs, attn_out])\n",
        "\n",
        "#dense layer\n",
        "decoder_dense =  TimeDistributed(Dense(y_voc, activation='softmax'))\n",
        "decoder_outputs = decoder_dense(decoder_concat_input)\n",
        "\n",
        "# Define the model \n",
        "model = Model([encoder_inputs, decoder_inputs], decoder_outputs)\n",
        "\n",
        "model.summary() "
      ]
    },
    {
      "cell_type": "code",
      "execution_count": 61,
      "metadata": {
        "id": "u-S6bk01kP5u"
      },
      "outputs": [],
      "source": [
        "model.compile(optimizer='rmsprop', loss='sparse_categorical_crossentropy')\n"
      ]
    },
    {
      "cell_type": "code",
      "execution_count": 62,
      "metadata": {
        "id": "xAxEpxxgkQC5"
      },
      "outputs": [],
      "source": [
        "es = EarlyStopping(monitor='val_loss', mode='min', verbose=1, patience=2)"
      ]
    },
    {
      "cell_type": "code",
      "execution_count": 63,
      "metadata": {
        "colab": {
          "base_uri": "https://localhost:8080/"
        },
        "id": "60NqV6TEkQLB",
        "outputId": "05b9fe55-1e72-4426-efaf-7a56dfb1dc74"
      },
      "outputs": [
        {
          "output_type": "stream",
          "name": "stdout",
          "text": [
            "Epoch 1/50\n",
            "2/2 [==============================] - 25s 3s/step - loss: 3.8230 - val_loss: 3.1708\n",
            "Epoch 2/50\n",
            "2/2 [==============================] - 7s 2s/step - loss: 3.1813 - val_loss: 1.8561\n",
            "Epoch 3/50\n",
            "2/2 [==============================] - 7s 2s/step - loss: 1.9589 - val_loss: 0.8227\n",
            "Epoch 4/50\n",
            "2/2 [==============================] - 7s 2s/step - loss: 1.0335 - val_loss: 0.7712\n",
            "Epoch 5/50\n",
            "2/2 [==============================] - 7s 2s/step - loss: 0.9834 - val_loss: 0.8125\n",
            "Epoch 6/50\n",
            "2/2 [==============================] - 7s 2s/step - loss: 0.9826 - val_loss: 0.7296\n",
            "Epoch 7/50\n",
            "2/2 [==============================] - 7s 2s/step - loss: 0.9467 - val_loss: 0.7014\n",
            "Epoch 8/50\n",
            "2/2 [==============================] - 7s 2s/step - loss: 0.9480 - val_loss: 0.7190\n",
            "Epoch 9/50\n",
            "2/2 [==============================] - 7s 2s/step - loss: 0.9349 - val_loss: 0.8189\n",
            "Epoch 9: early stopping\n"
          ]
        }
      ],
      "source": [
        "history=model.fit([x_tr,y_tr[:,:-1]], y_tr.reshape(y_tr.shape[0],y_tr.shape[1], 1)[:,1:] ,epochs=50,callbacks=[es],\n",
        "                  batch_size=128, validation_data=([x_val,y_val[:,:-1]], y_val.reshape(y_val.shape[0],y_val.shape[1], 1)[:,1:]))\n"
      ]
    },
    {
      "cell_type": "code",
      "execution_count": 64,
      "metadata": {
        "colab": {
          "base_uri": "https://localhost:8080/",
          "height": 430
        },
        "id": "MZam002K597V",
        "outputId": "7b4fbc9a-aec9-43be-88fe-77d63489e033"
      },
      "outputs": [
        {
          "output_type": "display_data",
          "data": {
            "text/plain": [
              "<Figure size 640x480 with 1 Axes>"
            ],
            "image/png": "[encoded data removed]"
          },
          "metadata": {}
        }
      ],
      "source": [
        "plt.plot(history.history['loss'], label='train') \n",
        "plt.plot(history.history['val_loss'], label='test') \n",
        "plt.legend() \n",
        "plt.show()"
      ]
    },
    {
      "cell_type": "code",
      "execution_count": 65,
      "metadata": {
        "id": "Gk-b9xmG6ajk"
      },
      "outputs": [],
      "source": [
        "reverse_target_word_index=y_tokenizer.index_word \n",
        "reverse_source_word_index=x_tokenizer.index_word \n",
        "target_word_index=y_tokenizer.word_index"
      ]
    },
    {
      "cell_type": "code",
      "execution_count": 66,
      "metadata": {
        "id": "Eb9Bd-XX6c-2"
      },
      "outputs": [],
      "source": [
        "# Encode the input sequence to get the feature vector\n",
        "encoder_model = Model(inputs=encoder_inputs,outputs=[encoder_outputs, state_h, state_c])\n",
        "\n",
        "# Decoder setup\n",
        "# Below tensors will hold the states of the previous time step\n",
        "decoder_state_input_h = Input(shape=(latent_dim,))\n",
        "decoder_state_input_c = Input(shape=(latent_dim,))\n",
        "decoder_hidden_state_input = Input(shape=(max_text_len,latent_dim))\n",
        "\n",
        "# Get the embeddings of the decoder sequence\n",
        "dec_emb2= dec_emb_layer(decoder_inputs) \n",
        "# To predict the next word in the sequence, set the initial states to the states from the previous time step\n",
        "decoder_outputs2, state_h2, state_c2 = decoder_lstm(dec_emb2, initial_state=[decoder_state_input_h, decoder_state_input_c])\n",
        "\n",
        "#attention inference\n",
        "attn_out_inf, attn_states_inf = attn_layer([decoder_hidden_state_input, decoder_outputs2])\n",
        "decoder_inf_concat = Concatenate(axis=-1, name='concat')([decoder_outputs2, attn_out_inf])\n",
        "\n",
        "# A dense softmax layer to generate prob dist. over the target vocabulary\n",
        "decoder_outputs2 = decoder_dense(decoder_inf_concat) \n",
        "\n",
        "# Final decoder model\n",
        "decoder_model = Model(\n",
        "    [decoder_inputs] + [decoder_hidden_state_input,decoder_state_input_h, decoder_state_input_c],\n",
        "    [decoder_outputs2] + [state_h2, state_c2])"
      ]
    },
    {
      "cell_type": "code",
      "execution_count": 67,
      "metadata": {
        "id": "D1kwqbju62Ru"
      },
      "outputs": [],
      "source": [
        "def decode_sequence(input_seq):\n",
        "    # Encode the input as state vectors.\n",
        "    e_out, e_h, e_c = encoder_model.predict(input_seq)\n",
        "    \n",
        "    # Generate empty target sequence of length 1.\n",
        "    target_seq = np.zeros((1,1))\n",
        "    \n",
        "    # Populate the first word of target sequence with the start word.\n",
        "    target_seq[0, 0] = target_word_index['sostok']\n",
        "\n",
        "    stop_condition = False\n",
        "    decoded_sentence = ''\n",
        "    while not stop_condition:\n",
        "      \n",
        "        output_tokens, h, c = decoder_model.predict([target_seq] + [e_out, e_h, e_c])\n",
        "\n",
        "        # Sample a token\n",
        "        sampled_token_index = np.argmax(output_tokens[0, -1, :])\n",
        "        sampled_token = reverse_target_word_index[sampled_token_index]\n",
        "        \n",
        "        if(sampled_token!='eostok'):\n",
        "            decoded_sentence += ' '+sampled_token\n",
        "\n",
        "        # Exit condition: either hit max length or find stop word.\n",
        "        if (sampled_token == 'eostok'  or len(decoded_sentence.split()) >= (max_summary_len-1)):\n",
        "            stop_condition = True\n",
        "\n",
        "        # Update the target sequence (of length 1).\n",
        "        target_seq = np.zeros((1,1))\n",
        "        target_seq[0, 0] = sampled_token_index\n",
        "\n",
        "        # Update internal states\n",
        "        e_h, e_c = h, c\n",
        "\n",
        "    return decoded_sentence"
      ]
    },
    {
      "cell_type": "code",
      "execution_count": 68,
      "metadata": {
        "id": "t1emjrAv7FLf"
      },
      "outputs": [],
      "source": [
        "def seq2summary(input_seq):\n",
        "    newString=''\n",
        "    for i in input_seq:\n",
        "        if((i!=0 and i!=target_word_index['sostok']) and i!=target_word_index['eostok']):\n",
        "            newString=newString+reverse_target_word_index[i]+' '\n",
        "    return newString\n",
        "\n",
        "def seq2text(input_seq):\n",
        "    newString=''\n",
        "    for i in input_seq:\n",
        "        if(i!=0):\n",
        "            newString=newString+reverse_source_word_index[i]+' '\n",
        "    return newString"
      ]
    },
    {
      "cell_type": "code",
      "execution_count": 69,
      "metadata": {
        "colab": {
          "base_uri": "https://localhost:8080/"
        },
        "id": "Oo-xtp9uGqgs",
        "outputId": "8db65f25-a21a-4c29-e25d-ca7ba0749435"
      },
      "outputs": [
        {
          "output_type": "stream",
          "name": "stdout",
          "text": [
            "Review: oh god guy going believe happened last night watching boy meet boy television eye guy come right stan kyles jacket god got neck cannot let kyle public like guy boy pull kyle along south park mall gerald sheila watch tv couch coming eye guy men lot gay show television day door open four boy enter wave hi mom hi dad eye guy guy turned gay men laugh gay gerald guy care look touch side doe mean gay anymore mean gay men look seen eye guy sheila ever since gay cool boy every night three time day dude cannot wait wendy see gay look boy look stunned silence hey dude boy look craig token tweek hey craig guy look pretty gay kyle turn leave ha second thought chef feel closeup boy kyle go seat dude stan kyle cartman kenny stay silent looking mr garrison mr slave walk street child suddenly like gay wa cool mr garrison look garrison slave walk hey doll turn back mr garrison walk away thanks like thing approach football hey guy pull stan kenny away kyle look guy lot kid school talking okay stan think tell kyle hang around u anymore kyle pick football yeah let u see hair lift kyles hat look even using cartman look stan walk away stan look kyle sigh walk away kyle bit playground man walk approach boy school beat gerald oh eye guy people going see eye guy people second later notice two men left look mr garrison mr slave going new kill eye guy people yeah let u see craig gay u randy call men mall hey guy walking far side mall guy got see bought know starting think whole thing great eye guy number one show men fall silent look guy carrying far know think guy police called mr garrison mr slave kyle cop leave look guy sorry tried murder grab head gay men people guy stop turn around look garrison angrily return another person walk closet full human eye guy cannot make make people came life people world never looked bright people south park day eye guy work president bush show mr garrison mr slave kyle look sound booth stop woman rush start beating eye guy oh god mr garrison mr slave crack people two booth woman finish eye guy turn walk away yeah fag dude kenny look walk kyle look away back boy walk away opposite direction \n",
            "Original summary: boy town \n",
            "1/1 [==============================] - 1s 872ms/step\n",
            "1/1 [==============================] - 0s 474ms/step\n",
            "1/1 [==============================] - 0s 26ms/step\n",
            "Predicted summary:  cartman\n",
            "\n",
            "\n",
            "Review: page time butter night put mouth kyle stan kenny stand around looking picture picture really like light play background one shot cartman hanging butter face whole using cartmans butter face left side using stuff next cartman wearing butter trying last shot look cartmans butter face nothing yes tonight butter going appears cartmans bedroom door hey fella quickly put away oh oh hey butter butter notice guy hey lead kyle kenny door stop wait cannot let happen well actually butter think wed better hit pretty soon got camera pant took picture mouth three crowd look picture got whole mouth see dude putting butter mouth getting put guy mouth make gay stupid way get butter put mouth close eye open mouth get knee oh okay cartman grab back pocket make put butter hang second pant okay open mouth butter grab butter head draw closer right okay open uh okay okay come cartman step run away butter quite concerned knee butter long stuff like special camp young men confused like son go power god many boy come camp completely arm internet getting butter put mouth would make gay like said also learned internet put butter mouth doe mean gay throw away picture forget ever happened nobody ever know guy put butter mouth know going kyle going go home photo shop picture face butter mouth stephen pull butter camp come everyone say hello new butter know camp butter like confused think way peter butter new camp stan kyle kenny taking turn shooting basketball hoop grab kyle shake know god well went home picture butter penis mouth look like kyle wa gone god kyle give back right put fist box going break fuckin jew leg right well going find picture unless know know kyle going show picture everybody show tell butter face four one woman another understand trying save soul life hell onto butter face make confused look butter look around right kyle ha picture going show everyone show tell everyone going laugh cartman stop cry last time butter night wa really nice wa right took picture butter got really hot bottom mouth right penis thought something funny camera gave like kyle took picture going show everybody make think butter room writing table way butter um sheila sorry trouble apparently son ha picture eric another boy penis mouth mr broflovski kyle doe picture kyle turn around cartman face look like never going change think door uh eric cartman \n",
            "Original summary: cartman butter get \n",
            "1/1 [==============================] - 0s 219ms/step\n",
            "1/1 [==============================] - 0s 28ms/step\n",
            "1/1 [==============================] - 0s 27ms/step\n",
            "Predicted summary:  cartman\n",
            "\n",
            "\n",
            "Review: scott wa talking needed take shot nowhere butter said sick people feeling sorry stan turn boy butter people cannot go around beating people well know everything walk stan point best friend kid think entire planet around care image apparently kenny butter best friend kenny flash angry look run restroom cartman another thing close door lock principal office day principal victoria talking butter parent right wed like leave boy stephen linda butter sits couch want go stephen young butter must born native land butter linda sits left butter u special people best friend yeah mr perfect go butter ball kenny sigh walk away head airport day kenny walk butter come let plane kenny take one butter right hand butter take walk suddenly butter stop pull hand away kenny sigh take butter excuse need go already told cannot allow anyone appears plane land butter kenny enter kenny point information officer nearby walk help anything butter native really coming mean point kenny older man flash card guard right native butter quickly learning way seems feeling better every passing day butter stand chief kenny watch honor native butter walk glass give butter begin drink turn right cough whoa like finish rest drink little bit smile hey uh feel butter uh better spirit ask native group native stand ball ship stop passenger ball walk butter give club take swing club fall butter left hand hold cruise ship native continue go david butter rest resident background kenny butter stay another resident told could david ha resident building talk called great meeting war native must join one look fight allow native stay butter get stage david child cruise ship walk doorway motion kenny know right sick everyone think better got good look even happen come back hit home run everyone like everyone cheer even guard captain war end butter able day butter finally become member great honor two native come kenny guess kid school \n",
            "Original summary: butter \n",
            "1/1 [==============================] - 0s 219ms/step\n",
            "1/1 [==============================] - 0s 27ms/step\n",
            "1/1 [==============================] - 0s 27ms/step\n",
            "Predicted summary:  cartman\n",
            "\n",
            "\n",
            "Review: curtain part jimmy walk forward wearing thank house light one person seen seat butter hey jimmy know guy played banner read stem cell research crowd people ha front stage without amazing man planet applause know catch breath strong research coming day catch breath prove world catch breath research miracle jimmy timmy turn walk away jump catch hey wait minute timmy jimmy stop guy cannot start club tell cannot timmy begin laugh well know call guy jimmy timmy laugh walk away laughing oh goddamnit timmy jimmy walk enter hello mr well already group call think would like much like time wa group people like know guest tonight star stage screen mr help research able move arm people say research wrong taking cell fetus doe someone like make use stem cell take fetus crack open like suck toss aside see arm better bum stop looking group people called jimmy timmy walk timmy true born south park live would love join denver mean like come turn answer softly know timmy play along music start timmy jimmy leave walk street song play say timmy notice people club lot gang member around front store must fella pop blood want u get pop treat gang member notice coming stop look store truck go ball jimmy timmy stop track driver jimmy timmy back music start start dancing timmy feeling start something car drive drop timmy jimmy tom standing front stem cell research news timmy jimmy enter dressed box open grab fetus start sucking second later door far wall open hello suck look come ask stop using stem cell like playing god leave alone timmy ha returned jimmy blood hate stay gang going end dead oh used cell like begin pace timmy oh boy timmy never started gang people got get blood fighting get center tomorrow night timmy seen first time going lift truck head tom even appears stem cell given almost time stop using stem cell uh tom apparently gene man played movie ha shown celebrity research jimmy timmy everyone door jimmy timmy step middle ground two gang called center standing group real said mean come know maybe right camera stop jimmy three member two one blood got give two end hate blood laugh guess learned trying get along way better p blood \n",
            "Original summary: start town \n",
            "1/1 [==============================] - 0s 223ms/step\n",
            "1/1 [==============================] - 0s 27ms/step\n",
            "1/1 [==============================] - 0s 29ms/step\n",
            "Predicted summary:  cartman\n",
            "\n",
            "\n",
            "Review: kid gathered stage one end south park gym stan step forth head towards center stage god earth peace towards men south park elementary present jesus kenny floating wendy give kyle ready jesus cartman one three left side stage three men stand right side well trying school christmas play son wa holding baby jesus fetus head kyles mom christmas jewish christmas kyle kyle anything christmas play jesus mr hankey christmas guy ever heard cartman seeing kyle jewish people cannot eat christmas snow illegal jewish people eat christmas snow guess reason come since get christmas present may santa mr hankey christmas christmas dude going sorry see riding around santa sleigh mr hankey going ride santa sleigh jew kyle hard jew christmas friend let join game cannot sing christmas song christmas tree leave water something wrong people believe jesus christ jew jew christmas come toilet every year give present everybody ha lot mr hankey christmas love love love even stopping kyle never mind kyles crazy yeah okay kyle leaving right anyway ill put together crack team best worker make sure christmas ever minority group kind camera pan right stop kyle dad father right kyle imaginary friend fine kyle simply kyle hop go toilet look santa way sleigh drop christmas day ill say kyle grab mr hankey turn gerald open door kyle fall kyle look mr hankey kyles shot mr hankey see stan pop open view shown kyle look aw take away christmas tree okay child really hard time christmas play doe anybody know christmas song sing kyles mom stupid bitch kyles mom bitch big fat bitch biggest bitch whole wide world stupid bitch ever wa bitch bitch boy girl class along kyle look cartman kyle turn hear ever friend kyles mom uh kyle school counselor uh want try help problem right kyle see kyle sometimes feel like friend mind okay kyle lower head kyle look back counselor take another coffee okay child word mayor christmas play cannot christmas light since people mr mackey rush followed kyle need friend kyle please good look like taken christmas tree oh could christmas play wish little kyle wa see south park elementary present happy christmas play music new glass fighting best friend believe mr hankey kyle get look small window christmas kyle broflovski mr hankey christmas mr hankey christmas mr hankey kiss kyle mr hankey begin present everyone \n",
            "Original summary: south park kyle south park \n",
            "1/1 [==============================] - 0s 219ms/step\n",
            "1/1 [==============================] - 0s 26ms/step\n",
            "1/1 [==============================] - 0s 27ms/step\n",
            "Predicted summary:  cartman\n",
            "\n",
            "\n",
            "Review: boy head kitchen cartman rip skin chicken piece cartman leaf others sit oh boy head arm kenny next morning boy waiting bus stop still angry cartman chicken skin last night stan fish around money pocket walk bit give kyle guy know jew eye ha come visit living room talking mr cartman cartman run back home stop track reach front door turn away even know yet one best friend dead cartmans cry gotten night time full moon cartman walk past farm house huh said hey eric butter cartman follows butter butter want talk run toward front door open run inside shut butter try open door pound butter goddamnit need help butter thing ghost butter thing happen time night time butter house cartman seen standing bedroom door butter turn away cover butter help right butter leave butter door open parent walk butter going leave stephen take one last quick look around close door butter cartman enter kitchen cartman butter broflovski house butter cartman approach first ring bell kyle come answer kyle eric want know sorry time made fun jew whip right come butter got go tell token sorry black butter turn follow kyle left looking kyles living room wa cartman butter apologize guy would try anything yeah know better think turn around leaf butter butter cartman walk next another stan kyle kenny look across street cartman new board place butter remove board cartman butter go special olympics present going take little time set thing right yes butter soul finally peace stephen hold linda doctor house call leaf butter bedroom think doctor going feel little butter see butter brain want cover something make image sound hear cartman appears foot bed butter worry butter going get cartman butter still hello butter cartman follow seat tell oh god butter come butter butter cartman past police right butter going alone first door open cartman walk butter enters building walking cartman keep three red cross outside stan kyle kenny watch news cartman butter ha left door open head confused cartman take leave third time well butter butter think whole thing really become friend stan kyle kenny approach right side clyde token jimmy approach left hey cartman wa really cool help god butter going get back butter look \n",
            "Original summary: kid south park cartman \n",
            "1/1 [==============================] - 0s 222ms/step\n",
            "1/1 [==============================] - 0s 28ms/step\n",
            "1/1 [==============================] - 0s 26ms/step\n",
            "Predicted summary:  cartman\n",
            "\n",
            "\n",
            "Review: stan kyle cartman kenny clyde playing football clyde throw ball yeah boy follow waiting clyde bathroom angry clyde come boy wait outside toilet clyde mom able put rule like put arm clyde course man clyde like ah okay mom fuck look around thought sit toilet way clyde come home told putting toilet seat go bathroom wa trying get ready work toilet seat wa look leaf classroom cartman house night clyde get middle class follow mom home put seat mom go clyde asshole toilet water said trying save clyde mom saying clyde left toilet seat time left toilet seat sure death help woman everywhere take second look sit toilet read paper putting toilet seat hard clyde shown looking hell never see could take second put seat wa done peeing camera show woman little clyde mother dead blood penis sound tv fade away hello toilet new u check every toilet security clyde kyle stan jimmy talking reading case file sir really worried friend clyde okay want help sue whoever toilet camera show reading turn page sir thomas clyde got mom life wow toilet need wear sir sir two agent woman toilet pas come toilet okay done yes big boy sir yes stan kyle clyde jimmy sitting around table dark room stan put money disappears like one yeah seen around alright know sad mom clyde worry stan kyle clyde jimmy sitting around table holding hand jimmy clyde eye closed day toilet leaving toilet seat tom standing outside south park ghost toilet sir john jimmy clyde cartman stan kyle shown sitting appear court turn ghost clyde cannot sue dead clyde camera pan clyde camera pan agent look sit take sir supposed facing way clyde sitting toilet clyde come toilet \n",
            "Original summary: boy \n",
            "1/1 [==============================] - 0s 215ms/step\n",
            "1/1 [==============================] - 0s 26ms/step\n",
            "1/1 [==============================] - 0s 26ms/step\n",
            "Predicted summary:  cartman\n",
            "\n",
            "\n",
            "Review: ginger boy dark red hair lean left better view oh yeah kyle said human light skin freckle totally face turn kyle wa right animal ginger well believe guess want believe morning saw cow kyle camera turn right stop cow glass face huge red body tell everyone made cow look like kyle cartman yeah sure show everyone guy yes right kyle got go public right away scene change special report text screen read meaning persian world news news anchor reporting story kyle enters close door notice three left kyle men apparently come way speak look sigh trying tell come business kyle look mr mackey moment later kyle lead principal victoria mr mackey cow crowd begin reporter well school told everyone hey cow outside see trying reach cartman trapped crowd cartman stop cartman enters kyle close door got tell something kyle sheila dish kyle cartman enter mom cartman walk hallway kyle carrying book locker yeah come stan locker notice come carrying cartmans stuff put another book kyle kind thing remove second third book think really helping bring peace middle place third book back right kyle set cartmans book floor walk middle hallway love cartmans fart want cartmans fart fart get kyle stand thank cartman love cartmans fart voice cartman behind door well kyle kind fart left hand cup kyles mouth making sure fart go way hey kyle peace middle tell like cartmans fart much think fart starting get kyles head fart kyle thing keep getting better tom day little boy red cow stage thing going go hallway kyle floor cartman sits trying fart going eat cartmans fart front whole world kyles room day kyles room day want suck fart kyle fine stan doe close door think kyle really love cartmans fart finish song 1 podium let u honor little boy make happen eric cartman best friend cartman kyle come great applause well okay turned dick kyle one day fat child small penis would cow look ginger one would fall sky kyle stunned cartman knew wa good true wa fat boy small penis would one day cow look ginger kyle right kyle right kyle right \n",
            "Original summary: cartmans world \n",
            "1/1 [==============================] - 0s 225ms/step\n",
            "1/1 [==============================] - 0s 25ms/step\n",
            "1/1 [==============================] - 0s 25ms/step\n",
            "Predicted summary:  cartman\n",
            "\n",
            "\n",
            "Review: family guy going show image mohammad shot kyle desert cartmans true want family guy air shot president bush fox president mr president something family guy writing think know terrance phillip look hard arm crossed aw come guy give break family guy going show mohammad episode air tonight ill bet right somebody way fox episode cartman enters main building approach need speak president right away family guy mohammad episode air tonight cartman look back little boy ha try get family guy air helicopter shot buried head everywhere muslim continue middle family guy air tonight episode text read family guy better show mohammad tonight say text read look writing family guy see joke never think totally gay went say family guy show image mohammad terrorist going ask president take air yes plan use whole mohammad thing way scare tonight show mohammad appear family guy tonight seven understand something family guy writing one exactly learn family guy writing mr president rise mr president cannot force family guy writing write anything mohammad fact matter family guy writing something called first begin fight rise mr president came first problem like might happen enters sir still one little boy want speak family guy episode right let u get sir pull episode family guy writing work little boy talk family guy writing scare like ha u maybe pull mohammad episode turn walk say softly evil smile yes family guy good dead really want see family guy go air writing hate family guy wall much would stop writing approach kyle know way president office look fat friend trying trick getting family guy air smile knowing kyle going right building room kyle open door enters look around hello president ha asked little pocket speak family guy writing family guy writing room family guy writing pull one idea ball idea tank stop working anyway president wanted speak think allow pull episode mohammad wa one thing people hate family guy yeah well lot people like family guy learned make family guy writing stop working like family guy excuse kyle turn walk away got idea ball remove tank fox president look tank along rest understand face long family guy supposed air cartman ha left office dance street family guy going air president episode check watch still time tell president full crap want pull know end family guy forever cartman still ha gun president right family guy go air \n",
            "Original summary: cartman family \n",
            "1/1 [==============================] - 0s 219ms/step\n",
            "1/1 [==============================] - 0s 27ms/step\n",
            "1/1 [==============================] - 0s 27ms/step\n",
            "Predicted summary:  cartman\n",
            "\n",
            "\n",
            "Review: little girl walk fart boy laugh butter point laugh come guy got go lead boy hall finally going learn truth phillip boy run school away girl hall annoyed god stupid terrance phillip blood part 2 appears followed special seen tonight may bring sister special shot pink two girl love shooting air vagina alright sister time thought face three time shot boy confused cartman getting mad uh going show part 2 terrance phillip show terrance phillip episode boy think fart funny want tell funny two woman shooting air vagina man face wa thirty minute two woman people fart oh know girl make whenever want girl move front group let u butter face run hall front door school still trying get run way home apparently young girl uh went young boy school mkay face saying girl boy know probably see boy office week girl sister laugh uh seem really like men enjoy fart woman enjoy walk covering nose sister laugh canada channel office day grab box desk carry terrance phillip sister roof pay asking got get rid like woman really gotten lately exit house slam door shut sister house living room look made cooky walk get front door open door see terrance phillip angrily arm crossed chest oh god sister laugh terrance phillip walk look around nice place sister shut eye wait shot turn around think phillip going face butter make people open eye camera pan reveal terrance driving phillip country road later terrance phillip driving front terrance sits back last week school girl right friend face walk view mic would like take explain fart funny woman name move mic let u fart sound like chinese well good road sister house night sex terrance stop know live without really think woman much little day let soul take jump god ha joined together let man terrance jump fart jump terrance sick terrance jump fart come fart \n",
            "Original summary: new boy \n",
            "1/1 [==============================] - 0s 235ms/step\n",
            "1/1 [==============================] - 0s 28ms/step\n",
            "1/1 [==============================] - 0s 26ms/step\n",
            "Predicted summary:  cartman\n",
            "\n",
            "\n",
            "Review: cartmans coon headquarters day say coon friend camera pan show coon seven new superhero friend fellow hero tonight stopped three murder happening something big happen coon friend stop hero begin leave coon hold one back uh mintberry crunch could quick word take mintberry crunch corner headquarters sits behind desk sigh okay really enjoy part coon friend like even alarm sound coon friend meet front big monitor video coon friend let u head boy come basement got get downtown fast coon friend boy leave car come coon friend coon friend walk next right seems problem happening need help coon hero land next captain thank god come people trapped burning building captain take thank captain coon friend watch trapped resident scream marsh house dinner time alarm sound coon friend alarm stay look wonder coon headquarters day coon must able friend huge break big superhero stuff part coon friend walk computer actually looked captain everywhere go back boy question going get captain join coon friend care hero doe want part coon friend look need wait next try beat scene ship right look like good place alarm go jump bed coon friend human mysterion mintberry crunch enter come stair good screen scene yes definitely job coon friend captain got get guy coon friend sits behind desk looking three monitor screen another screen come right captain wait second want start form well get coon friend right away well see problem superhero called coon friend walk away special report continues get every day picture begin appear screen need get picture captain love right want help people coon lead friend street coon notice mintberry crunch coming aid dinner later next coon friend next coon friend one say word coon take another special report another company ha made huge different creature walk visitor drop open mouth look like fly company knew portal another wa think would prove captain desk looking first one butter love camera homeless man standing behind face onto captain missing save coon friend take coon away table stair eric talked beating friend coon try get back cannot eric beat friend coon friend given evil \n",
            "Original summary: friend help get \n",
            "1/1 [==============================] - 0s 232ms/step\n",
            "1/1 [==============================] - 0s 27ms/step\n",
            "1/1 [==============================] - 0s 29ms/step\n",
            "Predicted summary:  cartman\n",
            "\n",
            "\n",
            "Review: five boy seated table cartman kyle one side craig kenny stan room third boy next kyle guy music video nothing pretty girl wearing song stan kenny craig look lunch butter three girl walking hear stop getting school one three others little butter think raise left fist punch butter right eye mkay uh see school tell student know well one student told u think school getting would like student leaf office walk towards hall walk bathroom door lock walk back heard somebody brought counselor pick butter put cake mouth grandma knock walk mr butter close door spin around fuckin dead close door leaving butter thought school entire school united ever stopped leaf like get school make video begin act like chicken nobody want charge video student south park elementary present stop know america take clyde red turn around student every day afraid come school clyde take back gym door let u get together make kill ugly thing wendy take gym back though two row kid basketball eat let u face make kill stan take floor back hallway make stop craig take walk forward back hallway two row balloon let u join together try make kill take corner back pointing heart say say door open butter clear box two sixth grader video stop hallway light come want well come want whole life butter going stop realize america student afraid come school every day act stan linda talk pick butter love little movie company going buy video oh video stan cartman kenny butter south park elementary day switch going kill butter stan marsh got come talk wa going thing finally made national mr go bathroom door walk hallway around time kenny one locker kyle walk hold right since video get come walk boy room see stan waiting arm crossed oh god stan go lock door kyle going okay video change people think slowly really think every kid america see movie put internet free school kid trying make video make kill butter look stan realize america student afraid go school dr floor butter begin punch face movie company head office day butter crack door open walk walk back door night grandma stan walk front door student throw paper huh america know butter wa actually saying made video video good lord jesus come door tell \n",
            "Original summary: butter \n",
            "1/1 [==============================] - 0s 238ms/step\n",
            "1/1 [==============================] - 0s 28ms/step\n",
            "1/1 [==============================] - 0s 27ms/step\n",
            "Predicted summary:  cartman\n",
            "\n",
            "\n",
            "Review: walk begin wall fist yeah neighborhood lately nelson next door seven basement live five sitting laughing oh elderly lady open door cartman walk onto back thought eight seen seated around small away get playing drum next thing know got run need clear right soon going something much back window say colorado three men three woman step car wearing green jacket wow friend wa right stan kyle kenny approach hey let u ask see trying turn little make money man 2 resume eating chip cartmans basement gathered bunch one pound door get wearing time let u open door real quick toss another stair right go peek door stan going go mall mayor something big happening give moment time may south park council rise number coming town cartman go point thing three new drum circle music right condition lead music think looking never seen well idea wa let u like week long music draw everyone together cartman appears knew trying stop think heard turn around oh jesus guy guitar shoulder approach boy problem setting music people going band cartman kid really need help crowd scene shown thousand people south park music stage set right welcome crowd raise cheer sooo great see sooo many people turn make world crowd cheer seen audience cough oh man cannot wait see look little face hear gerald open door look see front lawn scream randy seen looking son stan yeah south park world let guess started band music never tried get rid many going need every town ha adult look back music day boy present right need one guy like people crowd page appears vehicle way even crowd music day crowd left right maybe killing inside crew crowd appears around head right people let u save mean anything nothing getting high listening music day long stan turn right walk away inside crew try start crowd look towards stage hey happened man crowd listens begin oh man cool move working going anymore \n",
            "Original summary: cartman south park stan kyle kenny \n",
            "1/1 [==============================] - 0s 216ms/step\n",
            "1/1 [==============================] - 0s 27ms/step\n",
            "1/1 [==============================] - 0s 26ms/step\n",
            "Predicted summary:  cartman\n",
            "\n",
            "\n"
          ]
        }
      ],
      "source": [
        "for i in range(len(x_val)):\n",
        "  print(\"Review:\",seq2text(x_val[i]))\n",
        "  print(\"Original summary:\",seq2summary(y_val[i]))\n",
        "  print(\"Predicted summary:\",decode_sequence(x_val[i].reshape(1,max_text_len)))\n",
        "  print(\"\\n\")"
      ]
    },
    {
      "cell_type": "code",
      "execution_count": null,
      "metadata": {
        "id": "QLmF6SRnb7Bf",
        "colab": {
          "base_uri": "https://localhost:8080/"
        },
        "outputId": "5b32c35e-1f78-4744-d374-568fc06b86c3"
      },
      "outputs": [
        {
          "output_type": "stream",
          "name": "stdout",
          "text": [
            "--2023-04-07 18:02:27--  http://nlp.stanford.edu/data/glove.6B.zip\n",
            "Resolving nlp.stanford.edu (nlp.stanford.edu)... 171.64.67.140\n",
            "Connecting to nlp.stanford.edu (nlp.stanford.edu)|171.64.67.140|:80... connected.\n",
            "HTTP request sent, awaiting response... 302 Found\n",
            "Location: https://nlp.stanford.edu/data/glove.6B.zip [following]\n",
            "--2023-04-07 18:02:27--  https://nlp.stanford.edu/data/glove.6B.zip\n",
            "Connecting to nlp.stanford.edu (nlp.stanford.edu)|171.64.67.140|:443... connected.\n",
            "HTTP request sent, awaiting response... 301 Moved Permanently\n",
            "Location: https://downloads.cs.stanford.edu/nlp/data/glove.6B.zip [following]\n",
            "--2023-04-07 18:02:27--  https://downloads.cs.stanford.edu/nlp/data/glove.6B.zip\n",
            "Resolving downloads.cs.stanford.edu (downloads.cs.stanford.edu)... 171.64.64.22\n",
            "Connecting to downloads.cs.stanford.edu (downloads.cs.stanford.edu)|171.64.64.22|:443... connected.\n",
            "HTTP request sent, awaiting response... 200 OK\n",
            "Length: 862182613 (822M) [application/zip]\n",
            "Saving to: ‘glove.6B.zip.4’\n",
            "\n",
            "glove.6B.zip.4      100%[===================>] 822.24M  5.01MB/s    in 2m 40s  \n",
            "\n",
            "2023-04-07 18:05:08 (5.13 MB/s) - ‘glove.6B.zip.4’ saved [862182613/862182613]\n",
            "\n",
            "Archive:  glove.6B.zip\n",
            "replace glove.6B.50d.txt? [y]es, [n]o, [A]ll, [N]one, [r]ename: "
          ]
        }
      ],
      "source": [
        "!wget http://nlp.stanford.edu/data/glove.6B.zip\n",
        "!unzip glove*.zip"
      ]
    },
    {
      "cell_type": "code",
      "source": [
        "x_tr,x_val,y_tr,y_val=train_test_split(np.array(df['text']),np.array(df['summary']),test_size=0.1,random_state=0,shuffle=True) "
      ],
      "metadata": {
        "id": "yxpqw9HQcCdZ"
      },
      "execution_count": null,
      "outputs": []
    },
    {
      "cell_type": "code",
      "execution_count": null,
      "metadata": {
        "id": "N7LfSiFCD2Dx"
      },
      "outputs": [],
      "source": [
        "embeddings_dictionary = dict()\n",
        "glove_file = open(\"glove.6B.100d.txt\", encoding=\"utf8\")\n",
        "for line in glove_file:  \n",
        "    records = line.split()  \n",
        "    word = records[0]  \n",
        "    vector_dimensions = np.asarray(records[1:], dtype='float32')               \n",
        "    embeddings_dictionary [word] = vector_dimensions   \n",
        "\n",
        "glove_file.close()"
      ]
    },
    {
      "cell_type": "code",
      "source": [
        "\n",
        "#prepare a tokenizer for reviews on training data\n",
        "x_tokenizer = Tokenizer(num_words=tot_cnt-cnt) \n",
        "x_tokenizer.fit_on_texts(list(x_tr))\n",
        "\n",
        "X_dic_vocabulary = x_tokenizer.word_index\n",
        "\n",
        "#convert text sequences into integer sequences\n",
        "x_tr_seq    =   x_tokenizer.texts_to_sequences(x_tr) \n",
        "x_val_seq   =   x_tokenizer.texts_to_sequences(x_val)\n",
        "\n",
        "#padding zero upto maximum length\n",
        "x_tr    =   kprocessing.sequence.pad_sequences(x_tr_seq,  maxlen=max_text_len, padding='post')\n",
        "x_val   =   kprocessing.sequence.pad_sequences(x_val_seq, maxlen=max_text_len, padding='post')\n",
        "\n",
        "#size of vocabulary ( +1 for padding token)\n",
        "x_voc   =  x_tokenizer.num_words + 1\n",
        "\n",
        "## start the matrix (length of vocabulary x vector size) with all 0s\n",
        "X_embeddings = np.zeros((len(X_dic_vocabulary)+1, 100)) \n",
        "\n",
        "for word,idx in X_dic_vocabulary.items():\n",
        "    ## update the row with vector\n",
        "    try:\n",
        "        X_embeddings[idx] =  embeddings_dictionary[word]\n",
        "    ## if word not in model then skip and the row stays all 0s\n",
        "    except:\n",
        "        pass"
      ],
      "metadata": {
        "id": "K_slgoohEL1n"
      },
      "execution_count": null,
      "outputs": []
    },
    {
      "cell_type": "code",
      "source": [
        "#prepare a tokenizer for reviews on training data\n",
        "y_tokenizer = Tokenizer(num_words=tot_cnt-cnt) \n",
        "y_tokenizer.fit_on_texts(list(y_tr))\n",
        "\n",
        "y_dic_vocabulary = {\"<PAD>\":0}\n",
        "y_dic_vocabulary.update(y_tokenizer.word_index)\n",
        "\n",
        "#convert text sequences into integer sequences\n",
        "y_tr_seq    =   y_tokenizer.texts_to_sequences(y_tr) \n",
        "y_val_seq   =   y_tokenizer.texts_to_sequences(y_val)\n",
        "\n",
        "#padding zero upto maximum length\n",
        "y_tr    =   kprocessing.sequence.pad_sequences(y_tr_seq,  maxlen=max_summary_len, padding='post')\n",
        "y_val   =   kprocessing.sequence.pad_sequences(y_val_seq, maxlen=max_summary_len, padding='post')\n",
        "\n",
        "#size of vocabulary ( +1 for padding token)\n",
        "y_voc   =  y_tokenizer.num_words + 1\n",
        "\n",
        " ## start the matrix (length of vocabulary x vector size) with all 0s\n",
        "y_embeddings = np.zeros((len(y_dic_vocabulary)+1, 100)) \n",
        "\n",
        "for word,idx in y_dic_vocabulary.items():\n",
        "    ## update the row with vector\n",
        "    try:\n",
        "        y_embeddings[idx] =  embeddings_dictionary[word]\n",
        "    ## if word not in model then skip and the row stays all 0s\n",
        "    except:\n",
        "        pass"
      ],
      "metadata": {
        "id": "5GcYNG62FXVp"
      },
      "execution_count": null,
      "outputs": []
    },
    {
      "cell_type": "code",
      "source": [
        "X_embeddings.shape"
      ],
      "metadata": {
        "id": "8wbttO28IfrF"
      },
      "execution_count": null,
      "outputs": []
    },
    {
      "cell_type": "code",
      "source": [
        "from keras import backend as K \n",
        "K.clear_session()\n",
        "\n",
        "latent_dim = 250\n",
        "embedding_dim=100\n",
        "\n",
        "# Encoder\n",
        "encoder_inputs = Input(shape=(max_text_len,))\n",
        "\n",
        "#embedding layer\n",
        "enc_emb =  Embedding(X_embeddings.shape[0], X_embeddings.shape[1], weights=[X_embeddings], trainable=True)(encoder_inputs)\n",
        "\n",
        "#encoder lstm 1\n",
        "encoder_lstm1 = LSTM(latent_dim,return_sequences=True,return_state=True,dropout=0.4,recurrent_dropout=0.4)\n",
        "encoder_output1, state_h1, state_c1 = encoder_lstm1(enc_emb)\n",
        "\n",
        "#encoder lstm 2\n",
        "encoder_lstm2 = LSTM(latent_dim,return_sequences=True,return_state=True,dropout=0.4,recurrent_dropout=0.4)\n",
        "encoder_output2, state_h2, state_c2 = encoder_lstm2(encoder_output1)\n",
        "\n",
        "#encoder lstm 3\n",
        "encoder_lstm3=LSTM(latent_dim, return_state=True, return_sequences=True,dropout=0.4,recurrent_dropout=0.4)\n",
        "encoder_outputs, state_h, state_c= encoder_lstm3(encoder_output2)\n",
        "\n",
        "# Set up the decoder, using `encoder_states` as initial state.\n",
        "decoder_inputs = Input(shape=(None,))\n",
        "\n",
        "#embedding layer\n",
        "dec_emb_layer = Embedding(y_embeddings.shape[0], y_embeddings.shape[1], weights=[y_embeddings], trainable=True)\n",
        "dec_emb = dec_emb_layer(decoder_inputs)\n",
        "\n",
        "decoder_lstm = LSTM(latent_dim, return_sequences=True, return_state=True,dropout=0.4,recurrent_dropout=0.2)\n",
        "decoder_outputs,decoder_fwd_state, decoder_back_state = decoder_lstm(dec_emb,initial_state=[state_h, state_c])\n",
        "\n",
        "# Attention layer\n",
        "attn_layer = AttentionLayer(name='attention_layer')\n",
        "attn_out, attn_states = attn_layer([encoder_outputs, decoder_outputs])\n",
        "\n",
        "\n",
        "# Concat attention input and decoder LSTM output\n",
        "decoder_concat_input = Concatenate(axis=-1, name='concat_layer')([decoder_outputs, attn_out])\n",
        "\n",
        "#dense layer\n",
        "decoder_dense =  TimeDistributed(Dense(y_voc, activation='softmax'))\n",
        "decoder_outputs = decoder_dense(decoder_concat_input)\n",
        "\n",
        "# Define the model \n",
        "model = Model([encoder_inputs, decoder_inputs], decoder_outputs)\n",
        "\n",
        "model.summary() "
      ],
      "metadata": {
        "id": "7LmM0fbTxNK8"
      },
      "execution_count": null,
      "outputs": []
    },
    {
      "cell_type": "code",
      "execution_count": null,
      "metadata": {
        "id": "Na15O-KzKa6d"
      },
      "outputs": [],
      "source": [
        "model.compile(optimizer='rmsprop', loss='sparse_categorical_crossentropy')\n"
      ]
    },
    {
      "cell_type": "code",
      "execution_count": null,
      "metadata": {
        "id": "K3ivZ1cQKa6e"
      },
      "outputs": [],
      "source": [
        "es = EarlyStopping(monitor='val_loss', mode='min', verbose=1, patience=2)"
      ]
    },
    {
      "cell_type": "code",
      "execution_count": null,
      "metadata": {
        "id": "PJBCrLgJKa6e"
      },
      "outputs": [],
      "source": [
        "history=model.fit([x_tr,y_tr[:,:-1]], y_tr.reshape(y_tr.shape[0],y_tr.shape[1], 1)[:,1:] ,epochs=50,callbacks=[es],\n",
        "                  batch_size=128, validation_data=([x_val,y_val[:,:-1]], y_val.reshape(y_val.shape[0],y_val.shape[1], 1)[:,1:]))\n"
      ]
    },
    {
      "cell_type": "code",
      "execution_count": null,
      "metadata": {
        "id": "Ps8xP1dfKa6e"
      },
      "outputs": [],
      "source": [
        "plt.plot(history.history['loss'], label='train') \n",
        "plt.plot(history.history['val_loss'], label='test') \n",
        "plt.legend() \n",
        "plt.show()"
      ]
    },
    {
      "cell_type": "code",
      "execution_count": null,
      "metadata": {
        "id": "_fSfd8rTKa6e"
      },
      "outputs": [],
      "source": [
        "reverse_target_word_index=y_tokenizer.index_word \n",
        "reverse_source_word_index=x_tokenizer.index_word \n",
        "target_word_index=y_tokenizer.word_index"
      ]
    },
    {
      "cell_type": "code",
      "execution_count": null,
      "metadata": {
        "id": "Utd2I-cdKa6e"
      },
      "outputs": [],
      "source": [
        "# Encode the input sequence to get the feature vector\n",
        "encoder_model = Model(inputs=encoder_inputs,outputs=[encoder_outputs, state_h, state_c])\n",
        "\n",
        "# Decoder setup\n",
        "# Below tensors will hold the states of the previous time step\n",
        "decoder_state_input_h = Input(shape=(latent_dim,))\n",
        "decoder_state_input_c = Input(shape=(latent_dim,))\n",
        "decoder_hidden_state_input = Input(shape=(max_text_len,latent_dim))\n",
        "\n",
        "# Get the embeddings of the decoder sequence\n",
        "dec_emb2= dec_emb_layer(decoder_inputs) \n",
        "# To predict the next word in the sequence, set the initial states to the states from the previous time step\n",
        "decoder_outputs2, state_h2, state_c2 = decoder_lstm(dec_emb2, initial_state=[decoder_state_input_h, decoder_state_input_c])\n",
        "\n",
        "#attention inference\n",
        "attn_out_inf, attn_states_inf = attn_layer([decoder_hidden_state_input, decoder_outputs2])\n",
        "decoder_inf_concat = Concatenate(axis=-1, name='concat')([decoder_outputs2, attn_out_inf])\n",
        "\n",
        "# A dense softmax layer to generate prob dist. over the target vocabulary\n",
        "decoder_outputs2 = decoder_dense(decoder_inf_concat) \n",
        "\n",
        "# Final decoder model\n",
        "decoder_model = Model(\n",
        "    [decoder_inputs] + [decoder_hidden_state_input,decoder_state_input_h, decoder_state_input_c],\n",
        "    [decoder_outputs2] + [state_h2, state_c2])"
      ]
    },
    {
      "cell_type": "code",
      "execution_count": null,
      "metadata": {
        "id": "Jk4JsiqqKa6e"
      },
      "outputs": [],
      "source": [
        "def decode_sequence(input_seq):\n",
        "    # Encode the input as state vectors.\n",
        "    e_out, e_h, e_c = encoder_model.predict(input_seq)\n",
        "    \n",
        "    # Generate empty target sequence of length 1.\n",
        "    target_seq = np.zeros((1,1))\n",
        "    \n",
        "    # Populate the first word of target sequence with the start word.\n",
        "    target_seq[0, 0] = target_word_index['sostok']\n",
        "\n",
        "    stop_condition = False\n",
        "    decoded_sentence = ''\n",
        "    while not stop_condition:\n",
        "      \n",
        "        output_tokens, h, c = decoder_model.predict([target_seq] + [e_out, e_h, e_c])\n",
        "\n",
        "        # Sample a token\n",
        "        sampled_token_index = np.argmax(output_tokens[0, -1, :])\n",
        "        sampled_token = reverse_target_word_index[sampled_token_index]\n",
        "        \n",
        "        if(sampled_token!='eostok'):\n",
        "            decoded_sentence += ' '+sampled_token\n",
        "\n",
        "        # Exit condition: either hit max length or find stop word.\n",
        "        if (sampled_token == 'eostok'  or len(decoded_sentence.split()) >= (max_summary_len-1)):\n",
        "            stop_condition = True\n",
        "\n",
        "        # Update the target sequence (of length 1).\n",
        "        target_seq = np.zeros((1,1))\n",
        "        target_seq[0, 0] = sampled_token_index\n",
        "\n",
        "        # Update internal states\n",
        "        e_h, e_c = h, c\n",
        "\n",
        "    return decoded_sentence"
      ]
    },
    {
      "cell_type": "code",
      "execution_count": null,
      "metadata": {
        "id": "61OtuxJ7Ka6f"
      },
      "outputs": [],
      "source": [
        "def seq2summary(input_seq):\n",
        "    newString=''\n",
        "    for i in input_seq:\n",
        "        if((i!=0 and i!=target_word_index['sostok']) and i!=target_word_index['eostok']):\n",
        "            newString=newString+reverse_target_word_index[i]+' '\n",
        "    return newString\n",
        "\n",
        "def seq2text(input_seq):\n",
        "    newString=''\n",
        "    for i in input_seq:\n",
        "        if(i!=0):\n",
        "            newString=newString+reverse_source_word_index[i]+' '\n",
        "    return newString"
      ]
    },
    {
      "cell_type": "code",
      "execution_count": null,
      "metadata": {
        "id": "fq_SE-njKa6f"
      },
      "outputs": [],
      "source": [
        "for i in range(len(x_val)):\n",
        "  print(\"Review:\",seq2text(x_val[i]))\n",
        "  print(\"Original summary:\",seq2summary(y_val[i]))\n",
        "  print(\"Predicted summary:\",decode_sequence(x_val[i].reshape(1,max_text_len)))\n",
        "  print(\"\\n\")"
      ]
    },
    {
      "cell_type": "code",
      "source": [
        "lstm_units=250\n",
        "# Encoder\n",
        "encoder_inputs = Input(shape=(max_text_len,))\n",
        "\n",
        "#embedding layer\n",
        "enc_emb =  Embedding(X_embeddings.shape[0], X_embeddings.shape[1], weights=[X_embeddings], trainable=True)(encoder_inputs)\n",
        "\n",
        "### bi-lstm 1\n",
        "layer_x_bilstm = layers.Bidirectional(layers.LSTM(units=lstm_units, \n",
        "                 dropout=0.2, return_sequences=True, \n",
        "                 return_state=True), name=\"x_lstm_1\")\n",
        "x_out, _, _, _, _ = layer_x_bilstm(enc_emb)\n",
        "### bi-lstm 2\n",
        "layer_x_bilstm = layers.Bidirectional(layers.LSTM(units=lstm_units, \n",
        "                 dropout=0.2, return_sequences=True, \n",
        "                 return_state=True), name=\"x_lstm_2\")\n",
        "x_out, _, _, _, _ = layer_x_bilstm(x_out)\n",
        "### bi-lstm 3 (here final states are collected)\n",
        "layer_x_bilstm = layers.Bidirectional(layers.LSTM(units=lstm_units, \n",
        "                 dropout=0.2, return_sequences=True, \n",
        "                 return_state=True), name=\"x_lstm_3\")\n",
        "x_out, forward_h, forward_c, backward_h, backward_c = layer_x_bilstm(x_out)\n",
        "state_h = layers.Concatenate()([forward_h, backward_h])\n",
        "state_c = layers.Concatenate()([forward_c, backward_c])\n",
        "\n",
        "### embedding\n",
        "decoder_inputs = Input(shape=(None,))\n",
        "\n",
        "layer_y_emb = Embedding(y_embeddings.shape[0], y_embeddings.shape[1], \n",
        "               weights=[y_embeddings], trainable=False)\n",
        "\n",
        "y_emb = layer_y_emb(decoder_inputs)\n",
        "\n",
        "### lstm\n",
        "layer_y_lstm = layers.LSTM(name=\"y_lstm\", units=lstm_units*2, dropout=0.2, return_sequences=True, return_state=True)\n",
        "y_out, _, _ = layer_y_lstm(y_emb, initial_state=[state_h, state_c])\n",
        "\n",
        "# Attention layer\n",
        "attn_layer = AttentionLayer(name='attention_layer')\n",
        "attn_out, attn_states = attn_layer([x_out, y_out])\n",
        "\n",
        "\n",
        "# Concat attention input and decoder LSTM output\n",
        "decoder_concat_input = Concatenate(axis=-1, name='concat_layer')([y_out, attn_out])\n",
        "\n",
        "#dense layer\n",
        "decoder_dense =  TimeDistributed(Dense(y_voc, activation='softmax'))\n",
        "decoder_outputs = decoder_dense(y_out)\n",
        "\n",
        "# Define the model \n",
        "model = Model([encoder_inputs, decoder_inputs], decoder_outputs)\n",
        "\n",
        "model.summary() "
      ],
      "metadata": {
        "id": "_IHbkFiSxf28"
      },
      "execution_count": null,
      "outputs": []
    },
    {
      "cell_type": "code",
      "execution_count": null,
      "metadata": {
        "id": "zuBt-PWJYvNm"
      },
      "outputs": [],
      "source": [
        "model.compile(optimizer='rmsprop', loss='sparse_categorical_crossentropy')\n"
      ]
    },
    {
      "cell_type": "code",
      "execution_count": null,
      "metadata": {
        "id": "RmervNdOYvNn"
      },
      "outputs": [],
      "source": [
        "es = EarlyStopping(monitor='val_loss', mode='min', verbose=1, patience=2)"
      ]
    },
    {
      "cell_type": "code",
      "execution_count": null,
      "metadata": {
        "id": "dxG3feWDYvNn"
      },
      "outputs": [],
      "source": [
        "history=model.fit([x_tr,y_tr[:,:-1]], y_tr.reshape(y_tr.shape[0],y_tr.shape[1], 1)[:,1:] ,epochs=50,callbacks=[es],\n",
        "                  batch_size=128, validation_data=([x_val,y_val[:,:-1]], y_val.reshape(y_val.shape[0],y_val.shape[1], 1)[:,1:]))\n"
      ]
    },
    {
      "cell_type": "code",
      "execution_count": null,
      "metadata": {
        "id": "EwMQh8GcYvNo"
      },
      "outputs": [],
      "source": [
        "plt.plot(history.history['loss'], label='train') \n",
        "plt.plot(history.history['val_loss'], label='test') \n",
        "plt.legend() \n",
        "plt.show()"
      ]
    },
    {
      "cell_type": "code",
      "execution_count": null,
      "metadata": {
        "id": "PAUWZa99YvNo"
      },
      "outputs": [],
      "source": [
        "reverse_target_word_index=y_tokenizer.index_word \n",
        "reverse_source_word_index=x_tokenizer.index_word \n",
        "target_word_index=y_tokenizer.word_index"
      ]
    },
    {
      "cell_type": "code",
      "source": [
        "# Prediction Encoder\n",
        "encoder_model = models.Model(inputs=encoder_inputs, outputs=[x_out, state_h, state_c], name=\"Prediction_Encoder\")\n",
        "encoder_model.summary()"
      ],
      "metadata": {
        "id": "ZRp3LX2WkdH5"
      },
      "execution_count": null,
      "outputs": []
    },
    {
      "cell_type": "code",
      "execution_count": null,
      "metadata": {
        "id": "iliO4xN4YvNo"
      },
      "outputs": [],
      "source": [
        "# Encode the input sequence to get the feature vector\n",
        "encoder_model = Model(inputs=encoder_inputs,outputs=[x_out, state_h, state_c])\n",
        "\n",
        "# Decoder setup\n",
        "# Below tensors will hold the states of the previous time step\n",
        "decoder_state_input_h, decoder_state_input_c = layers.Input(shape=(lstm_units,)), layers.Input(shape=(lstm_units,))\n",
        "decoder_hidden_state_input = Input(shape=(max_text_len,lstm_units))\n",
        "\n",
        "# Get the embeddings of the decoder sequence\n",
        "dec_emb2= dec_emb_layer(decoder_inputs) \n",
        "# To predict the next word in the sequence, set the initial states to the states from the previous time step\n",
        "decoder_outputs2, state_h2, state_c2 = decoder_lstm(dec_emb2, initial_state=[decoder_state_input_h, decoder_state_input_c])\n",
        "\n",
        "#attention inference\n",
        "attn_out_inf, attn_states_inf = attn_layer([decoder_hidden_state_input, decoder_outputs2])\n",
        "decoder_inf_concat = Concatenate(axis=-1, name='concat')([decoder_outputs2, attn_out_inf])\n",
        "\n",
        "# A dense softmax layer to generate prob dist. over the target vocabulary\n",
        "decoder_outputs2 = decoder_dense(decoder_outputs2) \n",
        "\n",
        "# Final decoder model\n",
        "\n",
        "decoder_model = Model(\n",
        "    [decoder_inputs] + [decoder_hidden_state_input,decoder_state_input_h, decoder_state_input_c],\n",
        "    [decoder_outputs2] + [state_h2, state_c2])"
      ]
    },
    {
      "cell_type": "code",
      "source": [
        "# Prediction Decoder\n",
        "## double the lstm units if you used bidirectional lstm\n",
        "lstm_units = lstm_units*2 if any(\"Bidirectional\" in str(layer) for layer in model.layers) else lstm_units\n",
        "## states of the previous time step\n",
        "encoder_out = layers.Input(shape=(x_tr.shape[1], lstm_units))\n",
        "state_h, state_c = layers.Input(shape=(lstm_units,)), layers.Input(shape=(lstm_units,))\n",
        "## decoder embeddings\n",
        "y_emb2 = layer_y_emb(decoder_inputs)\n",
        "## lstm to predict the next word\n",
        "y_out2, state_h2, state_c2 = layer_y_lstm(y_emb2, initial_state=[state_h, state_c])\n",
        "## softmax to generate probability distribution over the vocabulary\n",
        "probs = decoder_dense(y_out2)\n",
        "## compile\n",
        "decoder_model = models.Model(inputs=[decoder_inputs, encoder_out, state_h, state_c], outputs=[probs, state_h2, state_c2], name=\"Prediction_Decoder\")\n",
        "decoder_model.summary()"
      ],
      "metadata": {
        "id": "V84X3wGpawlm"
      },
      "execution_count": null,
      "outputs": []
    },
    {
      "cell_type": "code",
      "execution_count": null,
      "metadata": {
        "id": "lxrW9uy6YvNo"
      },
      "outputs": [],
      "source": [
        "def decode_sequence(input_seq):\n",
        "    # Encode the input as state vectors.\n",
        "    e_out, e_h, e_c = encoder_model.predict(input_seq)\n",
        "    \n",
        "    # Generate empty target sequence of length 1.\n",
        "    target_seq = np.zeros((1,1))\n",
        "    \n",
        "    # Populate the first word of target sequence with the start word.\n",
        "    target_seq[0, 0] = target_word_index['sostok']\n",
        "\n",
        "    stop_condition = False\n",
        "    decoded_sentence = ''\n",
        "    while not stop_condition:\n",
        "      \n",
        "        output_tokens, h, c = decoder_model.predict([target_seq] + [e_out, e_h, e_c])\n",
        "\n",
        "        # Sample a token\n",
        "        sampled_token_index = np.argmax(output_tokens[0, -1, :])\n",
        "        sampled_token = reverse_target_word_index[sampled_token_index]\n",
        "        \n",
        "        if(sampled_token!='eostok'):\n",
        "            decoded_sentence += ' '+sampled_token\n",
        "\n",
        "        # Exit condition: either hit max length or find stop word.\n",
        "        if (sampled_token == 'eostok'  or len(decoded_sentence.split()) >= (max_summary_len-1)):\n",
        "            stop_condition = True\n",
        "\n",
        "        # Update the target sequence (of length 1).\n",
        "        target_seq = np.zeros((1,1))\n",
        "        target_seq[0, 0] = sampled_token_index\n",
        "\n",
        "        # Update internal states\n",
        "        e_h, e_c = h, c\n",
        "\n",
        "    return decoded_sentence"
      ]
    },
    {
      "cell_type": "code",
      "execution_count": null,
      "metadata": {
        "id": "6CM1ndUWYvNo"
      },
      "outputs": [],
      "source": [
        "def seq2summary(input_seq):\n",
        "    newString=''\n",
        "    for i in input_seq:\n",
        "        if((i!=0 and i!=target_word_index['sostok']) and i!=target_word_index['eostok']):\n",
        "            newString=newString+reverse_target_word_index[i]+' '\n",
        "    return newString\n",
        "\n",
        "def seq2text(input_seq):\n",
        "    newString=''\n",
        "    for i in input_seq:\n",
        "        if(i!=0):\n",
        "            newString=newString+reverse_source_word_index[i]+' '\n",
        "    return newString"
      ]
    },
    {
      "cell_type": "code",
      "execution_count": null,
      "metadata": {
        "id": "AD_ygZMCYvNp"
      },
      "outputs": [],
      "source": [
        "for i in range(len(x_val)):\n",
        "  print(\"Review:\",seq2text(x_val[i]))\n",
        "  print(\"Original summary:\",seq2summary(y_val[i]))\n",
        "  print(\"Predicted summary:\",decode_sequence(x_val[i].reshape(1,max_text_len)))\n",
        "  print(\"\\n\")"
      ]
    },
    {
      "cell_type": "code",
      "execution_count": null,
      "metadata": {
        "id": "b-cumpRfKTkc"
      },
      "outputs": [],
      "source": [
        "word = \"street\"\n",
        "embeddings_dictionary[word].shape"
      ]
    },
    {
      "cell_type": "markdown",
      "source": [],
      "metadata": {
        "id": "Z1YJVsll2vjp"
      }
    },
    {
      "cell_type": "code",
      "source": [
        "lst_corpus = x_tr\n",
        "## tokenize text\n",
        "x_tokenizer = kprocessing.text.Tokenizer(num_words=x_voc, lower=False, split=' ', oov_token=None, \n",
        "filters='!\"#$%&()*+,-./:;<=>?@[\\\\]^_`{|}~\\t\\n')\n",
        "x_tokenizer.fit_on_texts(lst_corpus)\n",
        "X_dic_vocabulary = {\"<PAD>\":0}\n",
        "X_dic_vocabulary.update(x_tokenizer.word_index)\n",
        "## create sequence\n",
        "lst_text2seq= x_tokenizer.texts_to_sequences(lst_corpus)\n",
        "## padding sequence\n",
        "x_tr = kprocessing.sequence.pad_sequences(lst_text2seq, \n",
        "                    maxlen=500, padding=\"post\", truncating=\"post\")"
      ],
      "metadata": {
        "id": "KhZhNrcbas5w"
      },
      "execution_count": null,
      "outputs": []
    },
    {
      "cell_type": "code",
      "execution_count": null,
      "metadata": {
        "id": "mvQnSLJuLdH1"
      },
      "outputs": [],
      "source": [
        " ## start the matrix (length of vocabulary x vector size) with all 0s\n",
        "X_embeddings = np.zeros((len(X_dic_vocabulary)+1, 300)) \n",
        "\n",
        "for word,idx in X_dic_vocabulary.items():\n",
        "    ## update the row with vector\n",
        "    try:\n",
        "        X_embeddings[idx] =  embeddings_dictionary[word]\n",
        "    ## if word not in model then skip and the row stays all 0s\n",
        "    except:\n",
        "        pass"
      ]
    },
    {
      "cell_type": "code",
      "source": [
        "## text to sequence with the fitted tokenizer\n",
        "lst_text2seq = x_tokenizer.texts_to_sequences(x_val)\n",
        "## padding sequence\n",
        "x_val = kprocessing.sequence.pad_sequences(lst_text2seq, maxlen=500,\n",
        "             padding=\"post\", truncating=\"post\")"
      ],
      "metadata": {
        "id": "0TpPfrXhPygG"
      },
      "execution_count": null,
      "outputs": []
    },
    {
      "cell_type": "code",
      "source": [
        "lst_corpus = y_tr\n",
        "## tokenize text\n",
        "y_tokenizer = kprocessing.text.Tokenizer(num_words=y_voc, lower=False, split=' ', oov_token=None, \n",
        "filters='!\"#$%&()*+,-./:;<=>?@[\\\\]^_`{|}~\\t\\n')\n",
        "y_tokenizer.fit_on_texts(lst_corpus)\n",
        "y_dic_vocabulary = {\"<PAD>\":0}\n",
        "y_dic_vocabulary.update(y_tokenizer.word_index)\n",
        "## create sequence\n",
        "lst_text2seq= y_tokenizer.texts_to_sequences(lst_corpus)\n",
        "## padding sequence\n",
        "y_tr = kprocessing.sequence.pad_sequences(lst_text2seq, \n",
        "                    maxlen=500, padding=\"post\", truncating=\"post\")"
      ],
      "metadata": {
        "id": "jhiG9lyRm4sU"
      },
      "execution_count": null,
      "outputs": []
    },
    {
      "cell_type": "code",
      "source": [
        "## text to sequence with the fitted tokenizer\n",
        "lst_text2seq = x_tokenizer.texts_to_sequences(y_val)\n",
        "## padding sequence\n",
        "y_val = kprocessing.sequence.pad_sequences(lst_text2seq, maxlen=500,\n",
        "             padding=\"post\", truncating=\"post\")"
      ],
      "metadata": {
        "id": "SAtIw_QiyqoK"
      },
      "execution_count": null,
      "outputs": []
    },
    {
      "cell_type": "code",
      "execution_count": null,
      "metadata": {
        "id": "pYdIfY0ac80d"
      },
      "outputs": [],
      "source": [
        "y_embeddings = np.zeros((len(y_dic_vocabulary)+1, 300)) \n",
        "\n",
        "for word,idx in y_dic_vocabulary.items():\n",
        "    ## update the row with vector\n",
        "    try:\n",
        "        y_embeddings[idx] =  embeddings_dictionary[word]\n",
        "    ## if word not in model then skip and the row stays all 0s\n",
        "    except:\n",
        "        pass"
      ]
    },
    {
      "cell_type": "code",
      "execution_count": null,
      "metadata": {
        "id": "BO02t0rFc2DV"
      },
      "outputs": [],
      "source": [
        "lstm_units = 250\n",
        "##-------- ENCODER (pre-trained embeddings + 3 bi-lstm) ----------##\n",
        "x_in = layers.Input(name=\"x_in\", shape=(x_tr.shape[1],))\n",
        "### embedding\n",
        "layer_x_emb = layers.Embedding(name=\"x_emb\",       \n",
        "          input_dim=X_embeddings.shape[0], \n",
        "          output_dim=X_embeddings.shape[1], \n",
        "          weights=[X_embeddings], trainable=False)\n",
        "x_emb = layer_x_emb(x_in)\n",
        "### bi-lstm 1\n",
        "layer_x_bilstm = layers.Bidirectional(layers.LSTM(units=lstm_units, \n",
        "                 dropout=0.2, return_sequences=True, \n",
        "                 return_state=True), name=\"x_lstm_1\")\n",
        "x_out, _, _, _, _ = layer_x_bilstm(x_emb)\n",
        "### bi-lstm 2\n",
        "layer_x_bilstm = layers.Bidirectional(layers.LSTM(units=lstm_units, \n",
        "                 dropout=0.2, return_sequences=True, \n",
        "                 return_state=True), name=\"x_lstm_2\")\n",
        "x_out, _, _, _, _ = layer_x_bilstm(x_out)\n",
        "### bi-lstm 3 (here final states are collected)\n",
        "layer_x_bilstm = layers.Bidirectional(layers.LSTM(units=lstm_units, \n",
        "                 dropout=0.2, return_sequences=True, \n",
        "                 return_state=True), name=\"x_lstm_3\")\n",
        "x_out, forward_h, forward_c, backward_h, backward_c = layer_x_bilstm(x_out)\n",
        "state_h = layers.Concatenate()([forward_h, backward_h])\n",
        "state_c = layers.Concatenate()([forward_c, backward_c])\n",
        "\n",
        "##------ DECODER (pre-trained embeddings + lstm + dense) ---------##\n",
        "y_in = layers.Input(name=\"y_in\", shape=(None,))\n",
        "### embedding\n",
        "layer_y_emb = layers.Embedding(name=\"y_emb\", \n",
        "               input_dim=y_embeddings.shape[0], \n",
        "               output_dim=y_embeddings.shape[1], \n",
        "               weights=[y_embeddings], trainable=False)\n",
        "y_emb = layer_y_emb(y_in)\n",
        "### lstm\n",
        "layer_y_lstm = layers.LSTM(name=\"y_lstm\", units=lstm_units*2, dropout=0.2, return_sequences=True, return_state=True)\n",
        "y_out, _, _ = layer_y_lstm(y_emb, initial_state=[state_h, state_c])\n",
        "### final dense layers\n",
        "layer_dense = layers.TimeDistributed(name=\"dense\", \n",
        "              layer=layers.Dense(units=len(y_dic_vocabulary), \n",
        "               activation='softmax'))\n",
        "y_out = layer_dense(y_out)\n",
        "\n",
        "##---------------------- COMPILE ---------------------------------##\n",
        "model = models.Model(inputs=[x_in, y_in], outputs=y_out, \n",
        "                     name=\"Seq2Seq\")\n",
        "model.compile(optimizer='rmsprop',   \n",
        "              loss='sparse_categorical_crossentropy',\n",
        "              metrics=['accuracy'])\n",
        "model.summary()"
      ]
    },
    {
      "cell_type": "code",
      "execution_count": null,
      "metadata": {
        "id": "zeAJFTPJoy6r"
      },
      "outputs": [],
      "source": [
        "model.compile(optimizer='rmsprop', loss='sparse_categorical_crossentropy')"
      ]
    },
    {
      "cell_type": "code",
      "execution_count": null,
      "metadata": {
        "id": "5BdsUHfroy6r"
      },
      "outputs": [],
      "source": [
        "es = EarlyStopping(monitor='val_loss', mode='min', verbose=1, patience=2)"
      ]
    },
    {
      "cell_type": "code",
      "execution_count": null,
      "metadata": {
        "id": "SiCyUfRioy6s"
      },
      "outputs": [],
      "source": [
        "training = model.fit(x=[x_tr, y_tr[:,:-1]], \n",
        "                     y=y_tr.reshape(y_tr.shape[0], \n",
        "                                       y_tr.shape[1], \n",
        "                                       1)[:,1:],\n",
        "                     batch_size=128, \n",
        "                     epochs=100, \n",
        "                     shuffle=True, \n",
        "                     verbose=1, \n",
        "                     validation_split=0.3,\n",
        "                     callbacks=[callbacks.EarlyStopping(\n",
        "                                monitor='val_loss', \n",
        "                                mode='min', verbose=1, patience=2)])"
      ]
    },
    {
      "cell_type": "code",
      "source": [
        "plt.plot(training.history['loss'], label='train') \n",
        "plt.plot(training.history['val_loss'], label='test') \n",
        "plt.legend() \n",
        "plt.show()"
      ],
      "metadata": {
        "id": "br5wY6-ippBz"
      },
      "execution_count": null,
      "outputs": []
    },
    {
      "cell_type": "code",
      "execution_count": null,
      "metadata": {
        "id": "m5ebqUQIp3Lu"
      },
      "outputs": [],
      "source": [
        "reverse_target_word_index=y_tokenizer.index_word \n",
        "reverse_source_word_index=x_tokenizer.index_word \n",
        "target_word_index=y_tokenizer.word_index"
      ]
    },
    {
      "cell_type": "code",
      "execution_count": null,
      "metadata": {
        "id": "kZ4QwMzdduj4"
      },
      "outputs": [],
      "source": [
        "# Prediction Encoder\n",
        "encoder_model = models.Model(inputs=x_in, outputs=[x_out, state_h, state_c], name=\"Prediction_Encoder\")\n",
        "encoder_model.summary()"
      ]
    },
    {
      "cell_type": "code",
      "execution_count": null,
      "metadata": {
        "id": "eKZ7dvNQdxDN"
      },
      "outputs": [],
      "source": [
        "# Prediction Decoder\n",
        "## double the lstm units if you used bidirectional lstm\n",
        "lstm_units = lstm_units*2 if any(\"Bidirectional\" in str(layer) for layer in model.layers) else lstm_units\n",
        "## states of the previous time step\n",
        "encoder_out = layers.Input(shape=(x_tr.shape[1], lstm_units))\n",
        "state_h, state_c = layers.Input(shape=(lstm_units,)), layers.Input(shape=(lstm_units,))\n",
        "## decoder embeddings\n",
        "y_emb2 = layer_y_emb(y_in)\n",
        "## lstm to predict the next word\n",
        "y_out2, state_h2, state_c2 = layer_y_lstm(y_emb2, initial_state=[state_h, state_c])\n",
        "## softmax to generate probability distribution over the vocabulary\n",
        "probs = layer_dense(y_out2)\n",
        "## compile\n",
        "decoder_model = models.Model(inputs=[y_in, encoder_out, state_h, state_c], outputs=[probs, state_h2, state_c2], name=\"Prediction_Decoder\")\n",
        "decoder_model.summary()"
      ]
    },
    {
      "cell_type": "code",
      "execution_count": null,
      "metadata": {
        "id": "NHvKrCeJd99-"
      },
      "outputs": [],
      "source": [
        "special_tokens = (\"sostok\", \"eostok\")\n",
        "\n",
        "# Predict\n",
        "max_seq_lenght = x_val.shape[1]\n",
        "predicted = []\n",
        "for x in x_val:\n",
        "   x = x.reshape(1,-1)\n",
        "   ## encode X\n",
        "   encoder_out, state_h, state_c = encoder_model.predict(x)\n",
        "   ## prepare loop\n",
        "   y_in = np.array([y_tokenizer.word_index[special_tokens[0]]])\n",
        "   predicted_text = \"\"\n",
        "   stop = False\n",
        "   while not stop:\n",
        "        ## predict dictionary probability distribution\n",
        "        probs, new_state_h, new_state_c = decoder_model.predict(\n",
        "                          [y_in, encoder_out, state_h, state_c])\n",
        "        \n",
        "        ## get predicted word\n",
        "        voc_idx = np.argmax(probs[0,-1,:])\n",
        "        pred_word = y_tokenizer.index_word[voc_idx]\n",
        "        \n",
        "        ## check stop\n",
        "        if (pred_word != special_tokens[1]) and (len(predicted_text.split()) < max_seq_lenght):\n",
        "            predicted_text = predicted_text +\" \"+ pred_word\n",
        "        else:\n",
        "            stop = True\n",
        "        \n",
        "        ## next\n",
        "        y_in = np.array([voc_idx])\n",
        "        state_h, state_c = new_state_h, new_state_c\n",
        "   predicted_text = predicted_text.replace(\n",
        "                    special_tokens[0],\"\").strip()\n",
        "   predicted.append(predicted_text)"
      ]
    },
    {
      "cell_type": "code",
      "source": [
        "x"
      ],
      "metadata": {
        "id": "8Kb4i2bW7FbV"
      },
      "execution_count": null,
      "outputs": []
    },
    {
      "cell_type": "code",
      "execution_count": null,
      "metadata": {
        "id": "xLXbc7fxp3Lv"
      },
      "outputs": [],
      "source": [
        "# Encode the input sequence to get the feature vector\n",
        "encoder_model = Model(inputs=encoder_inputs,outputs=[encoder_outputs, state_h, state_c])\n",
        "\n",
        "# Decoder setup\n",
        "# Below tensors will hold the states of the previous time step\n",
        "decoder_state_input_h = Input(shape=(latent_dim,))\n",
        "decoder_state_input_c = Input(shape=(latent_dim,))\n",
        "decoder_hidden_state_input = Input(shape=(max_text_len,latent_dim))\n",
        "\n",
        "# Get the embeddings of the decoder sequence\n",
        "dec_emb2= dec_emb_layer(decoder_inputs) \n",
        "# To predict the next word in the sequence, set the initial states to the states from the previous time step\n",
        "decoder_outputs2, state_h2, state_c2 = decoder_lstm(dec_emb2, initial_state=[decoder_state_input_h, decoder_state_input_c])\n",
        "\n",
        "#attention inference\n",
        "attn_out_inf, attn_states_inf = attn_layer([decoder_hidden_state_input, decoder_outputs2])\n",
        "decoder_inf_concat = Concatenate(axis=-1, name='concat')([decoder_outputs2, attn_out_inf])\n",
        "\n",
        "# A dense softmax layer to generate prob dist. over the target vocabulary\n",
        "decoder_outputs2 = decoder_dense(decoder_inf_concat) \n",
        "\n",
        "# Final decoder model\n",
        "decoder_model = Model(\n",
        "    [decoder_inputs] + [decoder_hidden_state_input,decoder_state_input_h, decoder_state_input_c],\n",
        "    [decoder_outputs2] + [state_h2, state_c2])"
      ]
    },
    {
      "cell_type": "code",
      "execution_count": null,
      "metadata": {
        "id": "LIGbAW_Xp3Lv"
      },
      "outputs": [],
      "source": [
        "def decode_sequence(input_seq):\n",
        "    # Encode the input as state vectors.\n",
        "    e_out, e_h, e_c = encoder_model.predict(input_seq)\n",
        "    \n",
        "    # Generate empty target sequence of length 1.\n",
        "    target_seq = np.zeros((1,1))\n",
        "    \n",
        "    # Populate the first word of target sequence with the start word.\n",
        "    target_seq[0, 0] = target_word_index['sostok']\n",
        "\n",
        "    stop_condition = False\n",
        "    decoded_sentence = ''\n",
        "    while not stop_condition:\n",
        "      \n",
        "        output_tokens, h, c = decoder_model.predict([target_seq] + [e_out, e_h, e_c])\n",
        "\n",
        "        # Sample a token\n",
        "        sampled_token_index = np.argmax(output_tokens[0, -1, :])\n",
        "        sampled_token = reverse_target_word_index[sampled_token_index]\n",
        "        \n",
        "        if(sampled_token!='eostok'):\n",
        "            decoded_sentence += ' '+sampled_token\n",
        "\n",
        "        # Exit condition: either hit max length or find stop word.\n",
        "        if (sampled_token == 'eostok'  or len(decoded_sentence.split()) >= (max_summary_len-1)):\n",
        "            stop_condition = True\n",
        "\n",
        "        # Update the target sequence (of length 1).\n",
        "        target_seq = np.zeros((1,1))\n",
        "        target_seq[0, 0] = sampled_token_index\n",
        "\n",
        "        # Update internal states\n",
        "        e_h, e_c = h, c\n",
        "\n",
        "    return decoded_sentence"
      ]
    },
    {
      "cell_type": "code",
      "execution_count": null,
      "metadata": {
        "id": "CUYYn8CXp3Lv"
      },
      "outputs": [],
      "source": [
        "def seq2summary(input_seq):\n",
        "    newString=''\n",
        "    for i in input_seq:\n",
        "        if((i!=0 and i!=target_word_index['sostok']) and i!=target_word_index['eostok']):\n",
        "            newString=newString+reverse_target_word_index[i]+' '\n",
        "    return newString\n",
        "\n",
        "def seq2text(input_seq):\n",
        "    newString=''\n",
        "    for i in input_seq:\n",
        "        if(i!=0):\n",
        "            newString=newString+reverse_source_word_index[i]+' '\n",
        "    return newString"
      ]
    },
    {
      "cell_type": "code",
      "execution_count": null,
      "metadata": {
        "id": "jxMPUccOp3Lv"
      },
      "outputs": [],
      "source": [
        "for i in range(len(x_val)):\n",
        "  print(\"Review:\",seq2text(x_val[i]))\n",
        "  print(\"Original summary:\",seq2summary(y_val[i]))\n",
        "  print(\"Predicted summary:\",decode_sequence(x_val[i].reshape(1,max_text_len)))\n",
        "  print(\"\\n\")"
      ]
    },
    {
      "cell_type": "markdown",
      "metadata": {
        "id": "9CkvxeBV9E6t"
      },
      "source": []
    },
    {
      "cell_type": "code",
      "execution_count": null,
      "metadata": {
        "id": "YUS2ecIbCAaI"
      },
      "outputs": [],
      "source": [
        "s2s_df['clean_summary']= s2s_df.Summary.apply(lambda x: utils_preprocess_text(x))"
      ]
    },
    {
      "cell_type": "code",
      "execution_count": null,
      "metadata": {
        "id": "UoD1AF3dCAaI"
      },
      "outputs": [],
      "source": [
        "s2s_df.head()"
      ]
    },
    {
      "cell_type": "code",
      "execution_count": null,
      "metadata": {
        "id": "TVF4odYqCAaI"
      },
      "outputs": [],
      "source": [
        "s2s_df['text_word_count'] = s2s_df.clean_text.apply(lambda x: len(word_tokenize(str(x))))\n",
        "s2s_df['summary_word_count'] = s2s_df.clean_summary.apply(lambda x: len(word_tokenize(str(x))))\n",
        "s2s_df"
      ]
    },
    {
      "cell_type": "code",
      "execution_count": null,
      "metadata": {
        "id": "ct4wd7aeCAaI"
      },
      "outputs": [],
      "source": [
        "sns.displot(s2s_df.text_word_count, kde=True)"
      ]
    },
    {
      "cell_type": "code",
      "execution_count": null,
      "metadata": {
        "id": "8zfqDPFM-T3a"
      },
      "outputs": [],
      "source": [
        "s2s_df = s2s_df.drop(s2s_df[(s2s_df['text_word_count'] > 4000)].index)\n",
        "sns.displot(s2s_df.text_word_count, kde=True)"
      ]
    },
    {
      "cell_type": "code",
      "execution_count": null,
      "metadata": {
        "id": "Heb1VIDHTCUn"
      },
      "outputs": [],
      "source": [
        "max_len_text = np.percentile(s2s_df.text_word_count, 95)"
      ]
    },
    {
      "cell_type": "code",
      "execution_count": null,
      "metadata": {
        "id": "7OVw4wqECAaI"
      },
      "outputs": [],
      "source": [
        "sns.displot(s2s_df.summary_word_count, kde=True)"
      ]
    },
    {
      "cell_type": "code",
      "execution_count": null,
      "metadata": {
        "id": "ie1dZYT-TmzT"
      },
      "outputs": [],
      "source": [
        "max_len_summ = np.percentile(s2s_df.summary_word_count, 95)"
      ]
    },
    {
      "cell_type": "code",
      "execution_count": null,
      "metadata": {
        "id": "RozndO_6d-99"
      },
      "outputs": [],
      "source": [
        "max_summary_len = 30\n",
        "max_text_len = 3600\n",
        "cleaned_text =np.array(s2s_df['cleaned_text'])\n",
        "cleaned_summary=np.array(s2s_df['cleaned_summary'])\n",
        "\n",
        "short_text=[]\n",
        "short_summary=[]\n",
        "\n",
        "for i in range(len(cleaned_text)):\n",
        "    if(len(cleaned_summary[i].split())<=max_summary_len and len(cleaned_text[i].split())<=max_text_len):\n",
        "        short_text.append(cleaned_text[i])\n",
        "        short_summary.append(cleaned_summary[i])\n",
        "        \n",
        "s2s_df=pd.DataFrame({'text':short_text,'summary':short_summary})"
      ]
    },
    {
      "cell_type": "code",
      "execution_count": null,
      "metadata": {
        "id": "eBTXmZETWpG0"
      },
      "outputs": [],
      "source": [
        "s2s_df['summary'] = s2s_df['summary'].apply(lambda x : '_START_ '+ x + ' _END_')\n"
      ]
    },
    {
      "cell_type": "code",
      "execution_count": null,
      "metadata": {
        "id": "B-k-4A5rCAaI"
      },
      "outputs": [],
      "source": [
        "from sklearn.model_selection import train_test_split\n",
        "X = s2s_df['cleaned_text']\n",
        "y = s2s_df['cleaned_summary']\n",
        "X_train, X_test, y_train, y_test = train_test_split(X, y, random_state=0)"
      ]
    },
    {
      "cell_type": "code",
      "execution_count": null,
      "metadata": {
        "id": "6LPSJphaSw6e"
      },
      "outputs": [],
      "source": [
        "from keras.preprocessing.text import Tokenizer \n",
        "\n",
        "#prepare a tokenizer for reviews on training data\n",
        "x_tokenizer = Tokenizer(lower=False)\n",
        "x_tokenizer.fit_on_texts(list(X_train))\n",
        "\n",
        "#convert text sequences into integer sequences\n",
        "X_train    =   x_tokenizer.texts_to_sequences(X_train) \n",
        "X_test   =   x_tokenizer.texts_to_sequences(X_test)\n",
        "\n",
        "#padding zero upto maximum length\n",
        "X_train    =   kprocessing.sequence.pad_sequences(X_train,  maxlen=3600, padding='post') \n",
        "X_test   =   kprocessing.sequence.pad_sequences(X_test, maxlen=3600, padding='post')\n",
        "\n",
        "x_voc_size   =  len(x_tokenizer.word_index) +1"
      ]
    },
    {
      "cell_type": "code",
      "execution_count": null,
      "metadata": {
        "id": "A9P6kN2rYyFm"
      },
      "outputs": [],
      "source": [
        "y_tokenizer = Tokenizer(lower=False)\n",
        "y_tokenizer.fit_on_texts(list(y_train))\n",
        "\n",
        "#convert summary sequences into integer sequences\n",
        "y_train    =   y_tokenizer.texts_to_sequences(y_train) \n",
        "y_test   =   y_tokenizer.texts_to_sequences(y_test) \n",
        "\n",
        "#padding zero upto maximum length\n",
        "y_train    =   kprocessing.sequence.pad_sequences(y_train, maxlen=30, padding='post')\n",
        "y_test   =   kprocessing.sequence.pad_sequences(y_test, maxlen=30, padding='post')\n",
        "\n",
        "y_voc_size  =   len(y_tokenizer.word_index) +1"
      ]
    },
    {
      "cell_type": "code",
      "execution_count": null,
      "metadata": {
        "id": "lM2AAGyXYd4q"
      },
      "outputs": [],
      "source": [
        "from keras import backend as K \n",
        "from tensorflow.keras import callbacks, models, layers, preprocessing as kprocessing \n",
        "from tensorflow.keras.layers import Input, LSTM, Embedding, Dense, Concatenate, TimeDistributed, Bidirectional, Attention\n",
        "from tensorflow.keras.models import Model\n",
        "from keras_self_attention import SeqSelfAttention\n",
        "K.clear_session() \n",
        "latent_dim = 500 \n",
        "max_len_text = 3600\n",
        "# Encoder \n",
        "encoder_inputs = Input(shape=(max_len_text,)) \n",
        "enc_emb = Embedding(x_voc_size, latent_dim,trainable=True)(encoder_inputs) \n",
        "\n",
        "#LSTM 1 \n",
        "encoder_lstm1 = LSTM(latent_dim,return_sequences=True,return_state=True) \n",
        "encoder_output1, state_h1, state_c1 = encoder_lstm1(enc_emb) \n",
        "\n",
        "#LSTM 2 \n",
        "encoder_lstm2 = LSTM(latent_dim,return_sequences=True,return_state=True) \n",
        "encoder_output2, state_h2, state_c2 = encoder_lstm2(encoder_output1) \n",
        "\n",
        "#LSTM 3 \n",
        "encoder_lstm3=LSTM(latent_dim, return_state=True, return_sequences=True) \n",
        "encoder_outputs, state_h, state_c= encoder_lstm3(encoder_output2) \n",
        "\n",
        "# Set up the decoder. \n",
        "decoder_inputs = Input(shape=(None,)) \n",
        "dec_emb_layer = Embedding(y_voc_size, latent_dim,trainable=True) \n",
        "dec_emb = dec_emb_layer(decoder_inputs) \n",
        "\n",
        "#LSTM using encoder_states as initial state\n",
        "decoder_lstm = LSTM(latent_dim, return_sequences=True, return_state=True) \n",
        "decoder_outputs,decoder_fwd_state, decoder_back_state = decoder_lstm(dec_emb,initial_state=[state_h, state_c]) \n",
        "\n",
        "#Attention Layer\n",
        "attn_layer = Attention(name='attention_layer') \n",
        "attn_out = attn_layer([encoder_outputs, decoder_outputs]) \n",
        "\n",
        "# Concat attention output and decoder LSTM output \n",
        "decoder_concat_input = Concatenate(axis=-1, name='concat_layer')([decoder_outputs, attn_out])\n",
        "\n",
        "#Dense layer\n",
        "decoder_dense = TimeDistributed(Dense(y_voc_size, activation='softmax')) \n",
        "decoder_outputs = decoder_dense(decoder_concat_input) \n",
        "\n",
        "# Define the model\n",
        "model = Model([encoder_inputs, decoder_inputs], decoder_outputs) \n",
        "model.summary()"
      ]
    },
    {
      "cell_type": "code",
      "execution_count": null,
      "metadata": {
        "id": "TKE_JmmkdzRN"
      },
      "outputs": [],
      "source": [
        "model.compile(optimizer='rmsprop', loss='sparse_categorical_crossentropy')"
      ]
    },
    {
      "cell_type": "code",
      "execution_count": null,
      "metadata": {
        "id": "qSiON-gfd99h"
      },
      "outputs": [],
      "source": [
        "from tensorflow.keras.callbacks import EarlyStopping\n",
        "es = EarlyStopping(monitor='val_loss', mode='min', verbose=1)"
      ]
    },
    {
      "cell_type": "code",
      "execution_count": null,
      "metadata": {
        "id": "mEg1-cJXd03s"
      },
      "outputs": [],
      "source": [
        "history=model.fit([X_train,y_train[:,:-1]], y_train.reshape(y_train.shape[0],y_train.shape[1], 1)[:,1:],\n",
        "                  epochs=50,\n",
        "                  callbacks=[es],\n",
        "                  batch_size=512, \n",
        "                  validation_data=([X_test, y_test[:,:-1]], y_test.reshape(y_test.shape[0], y_test.shape[1], 1)[:,1:]))\n",
        "\n",
        "\n",
        "#history = model.fit(X_train, y_train,\n",
        " #                   epochs=50,\n",
        "  #                  callbacks=[es],\n",
        "  #                  batch_size=200, \n",
        "   #                 validation_data=(X_test, y_test))"
      ]
    },
    {
      "cell_type": "code",
      "execution_count": null,
      "metadata": {
        "id": "FF06STyKcLVL"
      },
      "outputs": [],
      "source": [
        "encoder_inputs = Input(shape=(max_len_text,))\n",
        "enc_emb = Embedding(x_voc_size+1, 50, mask_zero=True, trainable=True)\n",
        "encoder = Bidirectional(LSTM(64, return_state=True))\n",
        "encoder_outputs, forward_h, forward_c, backward_h,  backward_c=encoder(enc_emb)\n",
        "state_h = Concatenate()([forward_h, backward_h])\n",
        "state_c = Concatenate()([forward_c, backward_c])"
      ]
    },
    {
      "cell_type": "code",
      "execution_count": null,
      "metadata": {
        "id": "hOV_cKcUVdvk"
      },
      "outputs": [],
      "source": []
    },
    {
      "cell_type": "code",
      "execution_count": null,
      "metadata": {
        "id": "UYdZI8XFCAaI"
      },
      "outputs": [],
      "source": [
        "lst_tokens = nltk.tokenize.word_tokenize(X_train.str.cat(sep=\" \"))\n",
        "ngrams = [1]\n",
        "    \n",
        "## calculate\n",
        "dtf_freq = pd.DataFrame()\n",
        "for n in ngrams:\n",
        "   dic_words_freq = nltk.FreqDist(nltk.ngrams(lst_tokens, n))\n",
        "   dtf_n = pd.DataFrame(dic_words_freq.most_common(), columns=\n",
        "                        [\"word\",\"freq\"])\n",
        "   dtf_n[\"ngrams\"] = n\n",
        "   dtf_freq = dtf_freq.append(dtf_n)\n",
        "   dtf_freq[\"word\"] = dtf_freq[\"word\"].apply(lambda x: \" \".join(string for string in x) )\n",
        "   dtf_freq_X= dtf_freq.sort_values([\"ngrams\",\"freq\"], ascending=\n",
        "                         [True,False])\n",
        "    \n",
        "## plot\n",
        "sns.barplot(x=\"freq\", y=\"word\", hue=\"ngrams\", dodge=False,\n",
        " data=dtf_freq.groupby('ngrams')[\"ngrams\",\"freq\",\"word\"].head(30))\n",
        "plt.show()"
      ]
    },
    {
      "cell_type": "code",
      "execution_count": null,
      "metadata": {
        "id": "CbJ0M8V8NrNV"
      },
      "outputs": [],
      "source": [
        "lst_tokens = nltk.tokenize.word_tokenize(y_train.str.cat(sep=\" \"))\n",
        "ngrams = [1]\n",
        "    \n",
        "## calculate\n",
        "dtf_freq = pd.DataFrame()\n",
        "for n in ngrams:\n",
        "   dic_words_freq = nltk.FreqDist(nltk.ngrams(lst_tokens, n))\n",
        "   dtf_n = pd.DataFrame(dic_words_freq.most_common(), columns=\n",
        "                        [\"word\",\"freq\"])\n",
        "   dtf_n[\"ngrams\"] = n\n",
        "   dtf_freq = dtf_freq.append(dtf_n)\n",
        "   dtf_freq[\"word\"] = dtf_freq[\"word\"].apply(lambda x: \" \".join(string for string in x) )\n",
        "   dtf_freq_y= dtf_freq.sort_values([\"ngrams\",\"freq\"], ascending=\n",
        "                         [True,False])\n",
        "    \n",
        "## plot\n",
        "sns.barplot(x=\"freq\", y=\"word\", hue=\"ngrams\", dodge=False,\n",
        " data=dtf_freq.groupby('ngrams')[\"ngrams\",\"freq\",\"word\"].head(30))\n",
        "plt.show()"
      ]
    },
    {
      "cell_type": "code",
      "execution_count": null,
      "metadata": {
        "id": "C8Yy1OLeSCsB"
      },
      "outputs": [],
      "source": [
        "thres = 5 #<-- min frequency\n",
        "X_top_words = len(dtf_freq_X[dtf_freq_X[\"freq\"]>thres])\n",
        "y_top_words = len(dtf_freq_y[dtf_freq_y[\"freq\"]>thres])"
      ]
    },
    {
      "cell_type": "code",
      "execution_count": null,
      "metadata": {
        "id": "frBD5SCvSVS2"
      },
      "outputs": [],
      "source": [
        "X_top_words"
      ]
    },
    {
      "cell_type": "code",
      "execution_count": null,
      "metadata": {
        "id": "NDnYbKSJSfvL"
      },
      "outputs": [],
      "source": [
        "y_top_words"
      ]
    },
    {
      "cell_type": "code",
      "execution_count": null,
      "metadata": {
        "id": "kfIBEOVXaoEB"
      },
      "outputs": [],
      "source": [
        "from tensorflow.keras import callbacks, models, layers, preprocessing as kprocessing \n",
        "## tokenize text\n",
        "tokenizer = kprocessing.text.Tokenizer(num_words=X_top_words, lower=False, split=' ', oov_token=None, \n",
        "filters='!\"#$%&()*+,-./:;<=>?@[\\\\]^_`{|}~\\t\\n')\n",
        "tokenizer.fit_on_texts(X_train)\n",
        "X_dic_vocabulary = {\"<PAD>\":0}\n",
        "X_dic_vocabulary.update(tokenizer.word_index)\n",
        "## create sequence\n",
        "lst_text2seq= tokenizer.texts_to_sequences(X_train)\n",
        "## padding sequence\n",
        "X_train = kprocessing.sequence.pad_sequences(lst_text2seq, \n",
        "                    maxlen=None, padding=\"post\", truncating=\"post\")"
      ]
    },
    {
      "cell_type": "code",
      "execution_count": null,
      "metadata": {
        "id": "FPvQPhjjbGxB"
      },
      "outputs": [],
      "source": [
        "X_train.shape"
      ]
    },
    {
      "cell_type": "code",
      "execution_count": null,
      "metadata": {
        "id": "9R1u8Z5ddltq"
      },
      "outputs": [],
      "source": [
        "## text to sequence with the fitted tokenizer\n",
        "lst_text2seq = tokenizer.texts_to_sequences(X_test)\n",
        "## padding sequence\n",
        "X_test = kprocessing.sequence.pad_sequences(lst_text2seq, maxlen=None,\n",
        "             padding=\"post\", truncating=\"post\")"
      ]
    },
    {
      "cell_type": "code",
      "execution_count": null,
      "metadata": {
        "id": "9loVj7uvWffs"
      },
      "outputs": [],
      "source": [
        "y_train = y_train.apply(lambda x: f'{\"<START>\"} {x} {\"<END>\"}')\n",
        "y_test = y_test.apply(lambda x: f'{\"<START>\"} {x} {\"<END>\"}')\n",
        "fitted_tokenizer = kprocessing.text.Tokenizer(num_words=y_top_words, lower=False, split=' ', oov_token=None, \n",
        "filters='!\"#$%&()*+,-./:;=?@[\\\\]^_`{|}~\\t\\n')\n",
        "fitted_tokenizer.fit_on_texts(y_train)\n",
        "\n",
        "y_dic_vocabulary = {\"<PAD>\":0}\n",
        "y_dic_vocabulary.update(fitted_tokenizer.word_index)\n",
        "## create sequence\n",
        "\n",
        "# check example\n",
        "\n",
        "lst_text2seq= fitted_tokenizer.texts_to_sequences(y_train)\n",
        "## padding sequence\n",
        "y_train = kprocessing.sequence.pad_sequences(lst_text2seq, \n",
        "                    maxlen=None, padding=\"post\", truncating=\"post\")"
      ]
    },
    {
      "cell_type": "code",
      "execution_count": null,
      "metadata": {
        "id": "Z_DHnPhtW2r7"
      },
      "outputs": [],
      "source": [
        "## text to sequence with the fitted tokenizer\n",
        "lst_text2seq = fitted_tokenizer.texts_to_sequences(y_test)\n",
        "## padding sequence\n",
        "y_test = kprocessing.sequence.pad_sequences(lst_text2seq, maxlen=None,\n",
        "             padding=\"post\", truncating=\"post\")"
      ]
    },
    {
      "cell_type": "code",
      "execution_count": null,
      "metadata": {
        "id": "8umjmU4mhq_N"
      },
      "outputs": [],
      "source": [
        "# Add START and END tokens to the summaries (y)\n",
        "#y_train = y_train.apply(lambda x: f'{\"<START>\"} {x} {\"<END>\"}')\n",
        "#y_test = y_test.apply(lambda x: f'{\"<START>\"} {x} {\"<END>\"}')\n",
        "\n",
        "# check example\n",
        "#y_test[225]"
      ]
    },
    {
      "cell_type": "code",
      "execution_count": null,
      "metadata": {
        "id": "GUagpQfzPNg7"
      },
      "outputs": [],
      "source": [
        "lstm_units = 250\n",
        "embeddings_size = 300\n",
        "##------------ ENCODER (embedding + lstm) ------------------------##\n",
        "x_in = layers.Input(name=\"x_in\", shape=(X_train.shape[1],))\n",
        "### embedding\n",
        "layer_x_emb = layers.Embedding(name=\"x_emb\", \n",
        "                               input_dim=len(X_dic_vocabulary),\n",
        "                               output_dim=embeddings_size, \n",
        "                               trainable=True)\n",
        "x_emb = layer_x_emb(x_in)\n",
        "### lstm \n",
        "layer_x_lstm = layers.LSTM(name=\"x_lstm\", units=lstm_units, \n",
        "                           dropout=0.4, return_sequences=True, \n",
        "                           return_state=True)\n",
        "x_out, state_h, state_c = layer_x_lstm(x_emb)\n",
        "##------------ DECODER (embedding + lstm + dense) ----------------##\n",
        "y_in = layers.Input(name=\"y_in\", shape=(None,))\n",
        "### embedding\n",
        "layer_y_emb = layers.Embedding(name=\"y_emb\", \n",
        "                               input_dim=len(y_dic_vocabulary), \n",
        "                               output_dim=embeddings_size, \n",
        "                               trainable=True)\n",
        "y_emb = layer_y_emb(y_in)\n",
        "### lstm \n",
        "layer_y_lstm = layers.LSTM(name=\"y_lstm\", units=lstm_units, \n",
        "                           dropout=0.4, return_sequences=True, \n",
        "                           return_state=True)\n",
        "y_out, _, _ = layer_y_lstm(y_emb, initial_state=[state_h, state_c])\n",
        "### final dense layers\n",
        "layer_dense = layers.TimeDistributed(name=\"dense\", layer=layers.Dense(units=len(y_dic_vocabulary), activation='softmax'))\n",
        "y_out = layer_dense(y_out)\n",
        "##---------------------------- COMPILE ---------------------------##\n",
        "model = models.Model(inputs=[x_in, y_in], outputs=y_out, \n",
        "                     name=\"Seq2Seq\")\n",
        "model.compile(optimizer='rmsprop',\n",
        "              loss='sparse_categorical_crossentropy', \n",
        "              metrics=['accuracy'])\n",
        "model.summary()"
      ]
    },
    {
      "cell_type": "code",
      "execution_count": null,
      "metadata": {
        "id": "Aapwv7FWdORI"
      },
      "outputs": [],
      "source": [
        "## train\n",
        "training = model.fit(x=[X_train, y_train[:,:-1]], \n",
        "                     y=y_train.reshape(y_train.shape[0], \n",
        "                                       y_train.shape[1], \n",
        "                                       1)[:,1:],\n",
        "                     batch_size=128, \n",
        "                     epochs=100, \n",
        "                     shuffle=True, \n",
        "                     verbose=1, \n",
        "                     validation_split=0.3,\n",
        "                     callbacks=[callbacks.EarlyStopping(\n",
        "                                monitor='val_loss', \n",
        "                                mode='min', verbose=1, patience=2)]\n",
        "                      )\n",
        "## plot loss and accuracy\n",
        "metrics = [k for k in training.history.keys() if (\"loss\" not in k) and (\"val\" not in k)]\n",
        "fig, ax = plt.subplots(nrows=1, ncols=2, sharey=True)\n",
        "ax[0].set(title=\"Training\")\n",
        "ax11 = ax[0].twinx()\n",
        "ax[0].plot(training.history['loss'], color='black')\n",
        "ax[0].set_xlabel('Epochs')\n",
        "ax[0].set_ylabel('Loss', color='black')\n",
        "for metric in metrics:\n",
        "    ax11.plot(training.history[metric], label=metric)\n",
        "ax11.set_ylabel(\"Score\", color='steelblue')\n",
        "ax11.legend()\n",
        "ax[1].set(title=\"Validation\")\n",
        "ax22 = ax[1].twinx()\n",
        "ax[1].plot(training.history['val_loss'], color='black')\n",
        "ax[1].set_xlabel('Epochs')\n",
        "ax[1].set_ylabel('Loss', color='black')\n",
        "for metric in metrics:\n",
        "     ax22.plot(training.history['val_'+metric], label=metric)\n",
        "ax22.set_ylabel(\"Score\", color=\"steelblue\")\n",
        "plt.show()"
      ]
    },
    {
      "cell_type": "code",
      "execution_count": null,
      "metadata": {
        "id": "awUQuL5glIsv"
      },
      "outputs": [],
      "source": [
        "fitted_tokenizer.word_index[special_tokens[0]]"
      ]
    },
    {
      "cell_type": "markdown",
      "metadata": {
        "id": "v_doAN1KCAaI"
      },
      "source": [
        "# Text Summarization with Transformers"
      ]
    },
    {
      "cell_type": "code",
      "execution_count": null,
      "metadata": {
        "id": "8dOg984vCAaJ"
      },
      "outputs": [],
      "source": [
        "from keras import callbacks"
      ]
    },
    {
      "cell_type": "code",
      "execution_count": null,
      "metadata": {
        "id": "1Qa_bY_FFBdP"
      },
      "outputs": [],
      "source": [
        "!pip install transformers"
      ]
    },
    {
      "cell_type": "code",
      "execution_count": null,
      "metadata": {
        "id": "a5T7NUBsCAaJ"
      },
      "outputs": [],
      "source": [
        "from keras import models"
      ]
    },
    {
      "cell_type": "code",
      "execution_count": null,
      "metadata": {
        "id": "cFUsQxAiFGiD"
      },
      "outputs": [],
      "source": [
        "import transformers\n",
        "from transformers import pipeline"
      ]
    },
    {
      "cell_type": "code",
      "source": [
        "bart_df = SP_df[['Title', 'Text', 'Summary']]\n",
        "bart_df.head()"
      ],
      "metadata": {
        "id": "J_e2x_xjpjh7"
      },
      "execution_count": null,
      "outputs": []
    },
    {
      "cell_type": "code",
      "source": [
        "bart_df['reduced_text'] = textrank(corpus=bart_df.Text, ratio=.05)"
      ],
      "metadata": {
        "id": "gmZt3zV6qajA"
      },
      "execution_count": null,
      "outputs": []
    },
    {
      "cell_type": "code",
      "source": [
        "text_word_count = []\n",
        "summary_word_count = []\n",
        "\n",
        "# populate the lists with sentence lengths\n",
        "for i in bart_df['reduced_text']:\n",
        "      text_word_count.append(len(i.split()))\n",
        "\n",
        "for i in bart_df['Summary']:\n",
        "      summary_word_count.append(len(i.split()))\n",
        "\n",
        "bart_df['text_len'] = text_word_count\n",
        "bart_length_df = pd.DataFrame({'text_len':text_word_count, 'summary_len':summary_word_count})\n",
        "\n",
        "bart_length_df.hist(bins = 30)\n",
        "plt.show()"
      ],
      "metadata": {
        "id": "3Yq4U_TDqKx6"
      },
      "execution_count": null,
      "outputs": []
    },
    {
      "cell_type": "code",
      "source": [
        "bart_df.head()"
      ],
      "metadata": {
        "id": "WoX9nL0-fVg3"
      },
      "execution_count": null,
      "outputs": []
    },
    {
      "cell_type": "code",
      "source": [
        "bart_df = bart_df[bart_df.text_len < 600]\n"
      ],
      "metadata": {
        "id": "zNanG2CqhSE3"
      },
      "execution_count": null,
      "outputs": []
    },
    {
      "cell_type": "code",
      "source": [
        "bart_df"
      ],
      "metadata": {
        "id": "YH6YyiAjhhee"
      },
      "execution_count": null,
      "outputs": []
    },
    {
      "cell_type": "code",
      "execution_count": null,
      "metadata": {
        "id": "SPMh4L1SCAaJ"
      },
      "outputs": [],
      "source": [
        "def bart(corpus):    \n",
        "    nlp = transformers.pipeline(\"summarization\")    \n",
        "    lst_summaries = [nlp(txt, max_length=56, min_length=10)                    \n",
        "                     for txt in corpus]    \n",
        "    return lst_summaries\n",
        "\n",
        "## Apply the function to corpus\n",
        "bart_df['predicted'] = bart(bart_df[\"reduced_text\"])"
      ]
    },
    {
      "cell_type": "code",
      "source": [
        "bart_df.head()"
      ],
      "metadata": {
        "id": "hOTpE_hxDfIy"
      },
      "execution_count": null,
      "outputs": []
    },
    {
      "cell_type": "code",
      "source": [
        "bart_df.predicted"
      ],
      "metadata": {
        "id": "GDC3HM6IhSg7"
      },
      "execution_count": null,
      "outputs": []
    },
    {
      "cell_type": "code",
      "source": [
        "for i in range(5):\n",
        "  print(\"-----------------Summary----------------\")\n",
        "  print(bart_df.Summary[i])\n",
        "  print('-----------------Predicted--------------')\n",
        "  print(bart_df.predicted[i])\n",
        "  print('\\n')"
      ],
      "metadata": {
        "id": "cijwv1QAA3QL"
      },
      "execution_count": null,
      "outputs": []
    },
    {
      "cell_type": "code",
      "source": [
        "type(bart_df.predicted[1])"
      ],
      "metadata": {
        "id": "m1Fot9mMIpv8"
      },
      "execution_count": null,
      "outputs": []
    },
    {
      "cell_type": "code",
      "source": [
        "predictions = []\n",
        "for i in range(len(bart_df.predicted)):\n",
        "  predictions.append([d['summary_text'] for d in bart_df.predicted[i]])\n",
        "predictions"
      ],
      "metadata": {
        "id": "asqy6txgDK2v"
      },
      "execution_count": null,
      "outputs": []
    },
    {
      "cell_type": "code",
      "source": [
        "new_pred = []\n",
        "for i in range(len(bart_df)):\n",
        "  new_pred.append(predictions[i])"
      ],
      "metadata": {
        "id": "_ZP4r-0EJ-ba"
      },
      "execution_count": null,
      "outputs": []
    },
    {
      "cell_type": "code",
      "source": [
        "bart_df['predicted'] = new_pred"
      ],
      "metadata": {
        "id": "YXzpFhD3KoEU"
      },
      "execution_count": null,
      "outputs": []
    },
    {
      "cell_type": "code",
      "source": [
        "bart_df['predicted'].astype(str)"
      ],
      "metadata": {
        "id": "63fB4DYBKXe6"
      },
      "execution_count": null,
      "outputs": []
    },
    {
      "cell_type": "code",
      "execution_count": null,
      "metadata": {
        "id": "ayOJnEB_DMDQ"
      },
      "outputs": [],
      "source": [
        "\n",
        "import rouge\n",
        "score_1 = []\n",
        "score_2 = []\n",
        "score_L = []\n",
        "\n",
        "for i in range(len(bart_df)):   \n",
        "    rouge_score = rouge.Rouge()    \n",
        "    scores = rouge_score.get_scores(bart_df.Summary[i], bart_df.predicted[i], avg=True)       \n",
        "    score_1.append(round(scores['rouge-1']['f'], 2))\n",
        "    score_2.append(round(scores['rouge-2']['f'], 2))\n",
        "    score_L.append(round(scores['rouge-l']['f'], 2))    \n",
        "    \n",
        "bart_df[\"Score_1\"] = score_1\n",
        "bart_df['Score_2'] = score_2\n",
        "bart_df['Score_L'] = score_L"
      ]
    },
    {
      "cell_type": "code",
      "execution_count": null,
      "metadata": {
        "id": "31zbVvTEDMDQ"
      },
      "outputs": [],
      "source": [
        "SP_df.head()"
      ]
    },
    {
      "cell_type": "code",
      "execution_count": null,
      "metadata": {
        "id": "AAYdUuaQDMDR"
      },
      "outputs": [],
      "source": [
        "sns.displot(SP_df[\"Score_1\"], kde=True)\n",
        "plt.xlabel(\"Rouge-1 Scores\")\n",
        "plt.ylabel(\"Count\")\n",
        "plt.title('TextRank Rouge-1 Scores')\n",
        "plt.axvline(SP_df.Score_1.mean(),\n",
        "            color='red', label=round(SP_df.Score_1.mean(),2))\n",
        "plt.legend();"
      ]
    },
    {
      "cell_type": "code",
      "execution_count": null,
      "metadata": {
        "id": "lly4wd48DMDR"
      },
      "outputs": [],
      "source": [
        "sns.displot(SP_df[\"Score_2\"], kde=True)\n",
        "plt.xlabel(\"Rouge-2 Scores\")\n",
        "plt.ylabel(\"Count\")\n",
        "plt.title('TextRank Rouge-2 Scores')\n",
        "plt.axvline(SP_df.Score_2.mean(),\n",
        "            color='red');"
      ]
    },
    {
      "cell_type": "code",
      "execution_count": null,
      "metadata": {
        "id": "q8T18oxfDMDR"
      },
      "outputs": [],
      "source": [
        "sns.displot(SP_df[\"Score_L\"], kde=True)\n",
        "plt.xlabel(\"Rouge-L Scores\")\n",
        "plt.ylabel(\"Count\")\n",
        "plt.title('TextRank Rouge-L Scores')\n",
        "plt.axvline(SP_df.Score_L.mean(),\n",
        "            color='red', label=round(SP_df.Score_L.mean(),2))\n",
        "plt.legend();"
      ]
    },
    {
      "cell_type": "code",
      "execution_count": null,
      "metadata": {
        "id": "O393VaqfDMDR"
      },
      "outputs": [],
      "source": [
        "SP_df['Score_avg'] = np.mean(SP_df[['Score_1', 'Score_L']], axis=1)\n",
        "sns.displot(SP_df[\"Score_avg\"], kde=True)\n",
        "plt.xlabel(\"Average Rouge Scores\")\n",
        "plt.ylabel(\"Count\")\n",
        "plt.title('TextRank Average Rouge Scores')\n",
        "plt.axvline(SP_df.Score_L.mean(),\n",
        "            color='red', label=round(SP_df.Score_avg.mean(),2))\n",
        "plt.legend();"
      ]
    },
    {
      "cell_type": "code",
      "source": [
        "summarizer = transformers.pipeline('summarization')\n",
        "\n",
        "bart_df.pred_summary = summarizer(bart_df['reduced_text'][], min_length=10, max_length=56)\n",
        "summary"
      ],
      "metadata": {
        "id": "s4oHNEBXpJuZ"
      },
      "execution_count": null,
      "outputs": []
    },
    {
      "cell_type": "code",
      "execution_count": null,
      "metadata": {
        "id": "Taw0XD5-CAaJ"
      },
      "outputs": [],
      "source": [
        "from tensorflow import keras"
      ]
    },
    {
      "cell_type": "code",
      "execution_count": null,
      "metadata": {
        "id": "9uM55SI3CAaJ"
      },
      "outputs": [],
      "source": [
        "SP_df.Text[10]"
      ]
    },
    {
      "cell_type": "code",
      "execution_count": null,
      "metadata": {
        "id": "VacQigz3CAaJ"
      },
      "outputs": [],
      "source": [
        "len(SP_df.Text[10])"
      ]
    },
    {
      "cell_type": "code",
      "execution_count": null,
      "metadata": {
        "id": "dEntgDgTCAaJ"
      },
      "outputs": [],
      "source": [
        "SP_df.Description[10]"
      ]
    },
    {
      "cell_type": "code",
      "execution_count": null,
      "metadata": {
        "id": "Kv6Gyf0gCAaJ"
      },
      "outputs": [],
      "source": [
        "SP_df['text_count'] = [len(sentence.split()) for sentence in SP_df.Line]\n",
        "SP_df['summary_count'] = [len(sentence.split()) for sentence in SP_df.Description]\n",
        "\n",
        "SP_df.text_count.hist(bins=100, figsize=(15,8), grid=False);"
      ]
    },
    {
      "cell_type": "code",
      "execution_count": null,
      "metadata": {
        "id": "JlVV9CW5CAaJ"
      },
      "outputs": [],
      "source": [
        "SP_df.summary_count.hist(bins='auto', figsize=(15,8), grid=False);"
      ]
    },
    {
      "cell_type": "code",
      "execution_count": null,
      "metadata": {
        "id": "pEx8E-hVCAaJ"
      },
      "outputs": [],
      "source": [
        "from wordcloud import WordCloud\n",
        "import seaborn as sns\n",
        "import numpy as np\n",
        "from random import randint\n",
        "\n",
        "# To customize colours of wordcloud texts\n",
        "def wc_blue_color_func(word, font_size, position, orientation, random_state=None, **kwargs):\n",
        "    return \"hsl(258, 67%%, %d%%)\" % randint(60, 100)\n",
        "\n",
        "\n",
        "# plot wordcloud\n",
        "def plot_wordcloud(text, color_func):\n",
        "    wc = WordCloud(width=1200, height=600, random_state=0).generate(text)\n",
        "\n",
        "    f, axs = plt.subplots(figsize=(20, 10))\n",
        "    with sns.axes_style(\"ticks\"):\n",
        "        sns.despine(offset=10, trim=True)\n",
        "        plt.imshow(wc.recolor(color_func=color_func, random_state=0), interpolation=\"bilinear\")\n",
        "        plt.xlabel('WordCloud')"
      ]
    },
    {
      "cell_type": "code",
      "execution_count": null,
      "metadata": {
        "id": "zpiLz3MsCAaJ"
      },
      "outputs": [],
      "source": [
        "plot_wordcloud(' '.join(SP_df.Description.values.tolist()), wc_blue_color_func)"
      ]
    },
    {
      "cell_type": "code",
      "execution_count": null,
      "metadata": {
        "id": "6D-fOdJtCAaJ"
      },
      "outputs": [],
      "source": [
        "plot_wordcloud(' '.join(SP_df.Line.values.tolist()), wc_blue_color_func)"
      ]
    }
  ],
  "metadata": {
    "accelerator": "TPU",
    "colab": {
      "machine_shape": "hm",
      "provenance": [],
      "include_colab_link": true
    },
    "gpuClass": "standard",
    "kernelspec": {
      "display_name": "Python (learn-env)",
      "language": "python",
      "name": "learn-env"
    },
    "language_info": {
      "codemirror_mode": {
        "name": "ipython",
        "version": 3
      },
      "file_extension": ".py",
      "mimetype": "text/x-python",
      "name": "python",
      "nbconvert_exporter": "python",
      "pygments_lexer": "ipython3",
      "version": "3.8.5"
    }
  },
  "nbformat": 4,
  "nbformat_minor": 0
}